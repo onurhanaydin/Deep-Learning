{
 "cells": [
  {
   "cell_type": "markdown",
   "metadata": {
    "id": "7PdXEW1P57Kb"
   },
   "source": [
    "# RNN (Time Series)"
   ]
  },
  {
   "cell_type": "code",
   "execution_count": 1,
   "metadata": {
    "id": "ouWbZyuJ57Kc"
   },
   "outputs": [],
   "source": [
    "import numpy as np\n",
    "import pandas as pd\n",
    "import matplotlib.pyplot as plt\n",
    "import seaborn as sns\n",
    "\n",
    "import warnings\n",
    "warnings.filterwarnings(\"ignore\")\n",
    "warnings.warn(\"this will not show\")\n",
    "\n",
    "plt.rcParams[\"figure.figsize\"] = (10,6)\n",
    "\n",
    "sns.set_style(\"whitegrid\")\n",
    "pd.set_option('display.float_format', lambda x: '%.3f' % x)\n",
    "\n",
    "# Set it None to display all rows in the dataframe\n",
    "# pd.set_option('display.max_rows', None)\n",
    "\n",
    "# Set it to None to display all columns in the dataframe\n",
    "pd.set_option('display.max_columns', None)"
   ]
  },
  {
   "cell_type": "markdown",
   "metadata": {
    "id": "jrGn9f7357Kd"
   },
   "source": [
    "## Data\n",
    "\n",
    "Release: Advance Monthly Sales for Retail and Food Services  \n",
    "Units:  Millions of Dollars, Not Seasonally Adjusted\n",
    "\n",
    "Frequency:  Monthly\n",
    "\n",
    "The value for the most recent month is an advance estimate that is based on data from a subsample of firms from the larger Monthly Retail Trade Survey. The advance estimate will be superseded in following months by revised estimates derived from the larger Monthly Retail Trade Survey. The associated series from the Monthly Retail Trade Survey is available at https://fred.stlouisfed.org/series/MRTSSM448USN\n",
    "\n",
    "Information about the Advance Monthly Retail Sales Survey can be found on the Census website at https://www.census.gov/retail/marts/about_the_surveys.html\n",
    "\n",
    "Suggested Citation:\n",
    "U.S. Census Bureau, Advance Retail Sales: Clothing and Clothing Accessory Stores [RSCCASN], retrieved from FRED, Federal Reserve Bank of St. Louis; https://fred.stlouisfed.org/series/RSCCASN, November 16, 2019.\n",
    "\n",
    "https://fred.stlouisfed.org/series/RSCCASN"
   ]
  },
  {
   "cell_type": "markdown",
   "metadata": {
    "id": "_ZDcdERd57Ke"
   },
   "source": [
    "Our dataset has a feature and includes monthly sales data of the Federal Reserve Bank in the United States, related to clothing and clothing accessories. It is not healthy to build a model with the information of a single feature, because there are many factors affecting the sale. Here, we will build a model with a single feature in order to learn the subject."
   ]
  },
  {
   "cell_type": "markdown",
   "metadata": {
    "id": "SjH1Tuky57Ke"
   },
   "source": [
    "When we read only the dataset without running the hyperparameters, we see data at the level of date and million dollars. We converted date to date format with __parse_dates=True__ and indexed date column with __index_col='DATE'__. When working with timeseries, the time feature is indexed:"
   ]
  },
  {
   "cell_type": "code",
   "execution_count": 2,
   "metadata": {
    "id": "pNtMLuEr57Ke"
   },
   "outputs": [],
   "source": [
    "df = pd.read_csv('/Users/onurhanaydin/Desktop/Data Science/DL/DL-S10-Univariate Time Series with RNN/RSCCASN.csv',\n",
    "                 index_col='DATE',\n",
    "                 parse_dates=True\n",
    "                )"
   ]
  },
  {
   "cell_type": "code",
   "execution_count": 3,
   "metadata": {
    "id": "DuuW-2ty57Kf",
    "outputId": "7efc3811-bced-4d21-da27-430316224c49"
   },
   "outputs": [
    {
     "data": {
      "text/html": [
       "<div>\n",
       "<style scoped>\n",
       "    .dataframe tbody tr th:only-of-type {\n",
       "        vertical-align: middle;\n",
       "    }\n",
       "\n",
       "    .dataframe tbody tr th {\n",
       "        vertical-align: top;\n",
       "    }\n",
       "\n",
       "    .dataframe thead th {\n",
       "        text-align: right;\n",
       "    }\n",
       "</style>\n",
       "<table border=\"1\" class=\"dataframe\">\n",
       "  <thead>\n",
       "    <tr style=\"text-align: right;\">\n",
       "      <th></th>\n",
       "      <th>RSCCASN</th>\n",
       "    </tr>\n",
       "    <tr>\n",
       "      <th>DATE</th>\n",
       "      <th></th>\n",
       "    </tr>\n",
       "  </thead>\n",
       "  <tbody>\n",
       "    <tr>\n",
       "      <th>1992-01-01</th>\n",
       "      <td>6938</td>\n",
       "    </tr>\n",
       "    <tr>\n",
       "      <th>1992-02-01</th>\n",
       "      <td>7524</td>\n",
       "    </tr>\n",
       "    <tr>\n",
       "      <th>1992-03-01</th>\n",
       "      <td>8475</td>\n",
       "    </tr>\n",
       "    <tr>\n",
       "      <th>1992-04-01</th>\n",
       "      <td>9401</td>\n",
       "    </tr>\n",
       "    <tr>\n",
       "      <th>1992-05-01</th>\n",
       "      <td>9558</td>\n",
       "    </tr>\n",
       "  </tbody>\n",
       "</table>\n",
       "</div>"
      ],
      "text/plain": [
       "            RSCCASN\n",
       "DATE               \n",
       "1992-01-01     6938\n",
       "1992-02-01     7524\n",
       "1992-03-01     8475\n",
       "1992-04-01     9401\n",
       "1992-05-01     9558"
      ]
     },
     "execution_count": 3,
     "metadata": {},
     "output_type": "execute_result"
    }
   ],
   "source": [
    "df.head()"
   ]
  },
  {
   "cell_type": "code",
   "execution_count": 4,
   "metadata": {
    "id": "dwzLHswF57Kg",
    "outputId": "a477793e-590f-4783-8816-dbe15f3ce5bd"
   },
   "outputs": [
    {
     "name": "stdout",
     "output_type": "stream",
     "text": [
      "<class 'pandas.core.frame.DataFrame'>\n",
      "DatetimeIndex: 334 entries, 1992-01-01 to 2019-10-01\n",
      "Data columns (total 1 columns):\n",
      " #   Column   Non-Null Count  Dtype\n",
      "---  ------   --------------  -----\n",
      " 0   RSCCASN  334 non-null    int64\n",
      "dtypes: int64(1)\n",
      "memory usage: 5.2 KB\n"
     ]
    }
   ],
   "source": [
    "df.info()"
   ]
  },
  {
   "cell_type": "code",
   "execution_count": 5,
   "metadata": {
    "id": "7NAmAoe-57Kg"
   },
   "outputs": [],
   "source": [
    "df.columns = ['Sales']"
   ]
  },
  {
   "cell_type": "markdown",
   "metadata": {
    "id": "5WAZWkFB57Kh"
   },
   "source": [
    "Although sales follow the same trend, we see an increase in general over time. Our aim will be to predict the next sales trend with the forecast (only the relationship between time and sales is looked at without taking into account other external factors):"
   ]
  },
  {
   "cell_type": "code",
   "execution_count": 6,
   "metadata": {
    "id": "tRtePo6b57Kh",
    "outputId": "8e029dfb-8062-47dc-ed05-0a5e21b99a2a"
   },
   "outputs": [
    {
     "data": {
      "image/png": "[encoded data removed]",
      "text/plain": [
       "<Figure size 1152x576 with 1 Axes>"
      ]
     },
     "metadata": {},
     "output_type": "display_data"
    }
   ],
   "source": [
    "df.plot(figsize=(16,8));"
   ]
  },
  {
   "cell_type": "markdown",
   "metadata": {
    "id": "69OrfwzM57Kh"
   },
   "source": [
    "## Preprocessing of Data"
   ]
  },
  {
   "cell_type": "markdown",
   "metadata": {
    "id": "qlTvESSY57Kh"
   },
   "source": [
    "### Train Test Split"
   ]
  },
  {
   "cell_type": "markdown",
   "metadata": {
    "id": "p_H2A94p57Ki"
   },
   "source": [
    "Our data is a monthly data, so a period is completed every 12 months. So it will complete a period in 12 lines. To check for val_los in the model, length=12 will be set."
   ]
  },
  {
   "cell_type": "code",
   "execution_count": 7,
   "metadata": {
    "id": "TwD_ONdd57Ki",
    "outputId": "69685e9a-2573-4981-ce16-a3278b5b25f0"
   },
   "outputs": [
    {
     "data": {
      "text/plain": [
       "334"
      ]
     },
     "execution_count": 7,
     "metadata": {},
     "output_type": "execute_result"
    }
   ],
   "source": [
    "len(df)"
   ]
  },
  {
   "cell_type": "markdown",
   "metadata": {
    "id": "jU-mFLUQ57Ki"
   },
   "source": [
    "We need to get the length of the test data more than the length of the sequences. That's why we chose test_size as 2 times the length of the sequence and set it to 24:"
   ]
  },
  {
   "cell_type": "code",
   "execution_count": 8,
   "metadata": {
    "id": "H0hmnsip57Ki"
   },
   "outputs": [],
   "source": [
    "test_size = 24"
   ]
  },
  {
   "cell_type": "markdown",
   "metadata": {
    "id": "3f--duoh57Ki"
   },
   "source": [
    "We subtracted the length of test_size from the length of df and got the number 310. Starting from line 310, we will divide our data into train and test:"
   ]
  },
  {
   "cell_type": "code",
   "execution_count": 9,
   "metadata": {
    "id": "EDZcqoDu57Kj",
    "outputId": "08c5410c-1081-4f5d-9e2d-6211a5e70913"
   },
   "outputs": [
    {
     "data": {
      "text/plain": [
       "310"
      ]
     },
     "execution_count": 9,
     "metadata": {},
     "output_type": "execute_result"
    }
   ],
   "source": [
    "test_ind = len(df)- test_size\n",
    "test_ind"
   ]
  },
  {
   "cell_type": "markdown",
   "metadata": {
    "id": "QLfxxe_N57Kj"
   },
   "source": [
    "We will have train before line 310 and test data after line 310 (test data must be taken from the end in Timeseries data):"
   ]
  },
  {
   "cell_type": "code",
   "execution_count": 10,
   "metadata": {
    "id": "oF6sh-pR57Kj"
   },
   "outputs": [],
   "source": [
    "train = df.iloc[:test_ind]\n",
    "test = df.iloc[test_ind:]"
   ]
  },
  {
   "cell_type": "code",
   "execution_count": 11,
   "metadata": {
    "id": "rzBRD94r57Kj",
    "outputId": "62fe8bfa-74b6-467e-cb29-d6803b3af26c"
   },
   "outputs": [
    {
     "data": {
      "text/html": [
       "<div>\n",
       "<style scoped>\n",
       "    .dataframe tbody tr th:only-of-type {\n",
       "        vertical-align: middle;\n",
       "    }\n",
       "\n",
       "    .dataframe tbody tr th {\n",
       "        vertical-align: top;\n",
       "    }\n",
       "\n",
       "    .dataframe thead th {\n",
       "        text-align: right;\n",
       "    }\n",
       "</style>\n",
       "<table border=\"1\" class=\"dataframe\">\n",
       "  <thead>\n",
       "    <tr style=\"text-align: right;\">\n",
       "      <th></th>\n",
       "      <th>Sales</th>\n",
       "    </tr>\n",
       "    <tr>\n",
       "      <th>DATE</th>\n",
       "      <th></th>\n",
       "    </tr>\n",
       "  </thead>\n",
       "  <tbody>\n",
       "    <tr>\n",
       "      <th>1992-01-01</th>\n",
       "      <td>6938</td>\n",
       "    </tr>\n",
       "    <tr>\n",
       "      <th>1992-02-01</th>\n",
       "      <td>7524</td>\n",
       "    </tr>\n",
       "    <tr>\n",
       "      <th>1992-03-01</th>\n",
       "      <td>8475</td>\n",
       "    </tr>\n",
       "    <tr>\n",
       "      <th>1992-04-01</th>\n",
       "      <td>9401</td>\n",
       "    </tr>\n",
       "    <tr>\n",
       "      <th>1992-05-01</th>\n",
       "      <td>9558</td>\n",
       "    </tr>\n",
       "    <tr>\n",
       "      <th>...</th>\n",
       "      <td>...</td>\n",
       "    </tr>\n",
       "    <tr>\n",
       "      <th>2017-06-01</th>\n",
       "      <td>20322</td>\n",
       "    </tr>\n",
       "    <tr>\n",
       "      <th>2017-07-01</th>\n",
       "      <td>20535</td>\n",
       "    </tr>\n",
       "    <tr>\n",
       "      <th>2017-08-01</th>\n",
       "      <td>22536</td>\n",
       "    </tr>\n",
       "    <tr>\n",
       "      <th>2017-09-01</th>\n",
       "      <td>19720</td>\n",
       "    </tr>\n",
       "    <tr>\n",
       "      <th>2017-10-01</th>\n",
       "      <td>20307</td>\n",
       "    </tr>\n",
       "  </tbody>\n",
       "</table>\n",
       "<p>310 rows × 1 columns</p>\n",
       "</div>"
      ],
      "text/plain": [
       "            Sales\n",
       "DATE             \n",
       "1992-01-01   6938\n",
       "1992-02-01   7524\n",
       "1992-03-01   8475\n",
       "1992-04-01   9401\n",
       "1992-05-01   9558\n",
       "...           ...\n",
       "2017-06-01  20322\n",
       "2017-07-01  20535\n",
       "2017-08-01  22536\n",
       "2017-09-01  19720\n",
       "2017-10-01  20307\n",
       "\n",
       "[310 rows x 1 columns]"
      ]
     },
     "execution_count": 11,
     "metadata": {},
     "output_type": "execute_result"
    }
   ],
   "source": [
    "train"
   ]
  },
  {
   "cell_type": "code",
   "execution_count": 12,
   "metadata": {
    "id": "gsyt0ayd57Kk",
    "outputId": "6c7ba7b9-0b5f-4d57-90ad-2e1c6da65925"
   },
   "outputs": [
    {
     "data": {
      "text/html": [
       "<div>\n",
       "<style scoped>\n",
       "    .dataframe tbody tr th:only-of-type {\n",
       "        vertical-align: middle;\n",
       "    }\n",
       "\n",
       "    .dataframe tbody tr th {\n",
       "        vertical-align: top;\n",
       "    }\n",
       "\n",
       "    .dataframe thead th {\n",
       "        text-align: right;\n",
       "    }\n",
       "</style>\n",
       "<table border=\"1\" class=\"dataframe\">\n",
       "  <thead>\n",
       "    <tr style=\"text-align: right;\">\n",
       "      <th></th>\n",
       "      <th>Sales</th>\n",
       "    </tr>\n",
       "    <tr>\n",
       "      <th>DATE</th>\n",
       "      <th></th>\n",
       "    </tr>\n",
       "  </thead>\n",
       "  <tbody>\n",
       "    <tr>\n",
       "      <th>2017-11-01</th>\n",
       "      <td>24438</td>\n",
       "    </tr>\n",
       "    <tr>\n",
       "      <th>2017-12-01</th>\n",
       "      <td>33720</td>\n",
       "    </tr>\n",
       "    <tr>\n",
       "      <th>2018-01-01</th>\n",
       "      <td>15881</td>\n",
       "    </tr>\n",
       "    <tr>\n",
       "      <th>2018-02-01</th>\n",
       "      <td>18585</td>\n",
       "    </tr>\n",
       "    <tr>\n",
       "      <th>2018-03-01</th>\n",
       "      <td>22404</td>\n",
       "    </tr>\n",
       "    <tr>\n",
       "      <th>2018-04-01</th>\n",
       "      <td>20616</td>\n",
       "    </tr>\n",
       "    <tr>\n",
       "      <th>2018-05-01</th>\n",
       "      <td>23764</td>\n",
       "    </tr>\n",
       "    <tr>\n",
       "      <th>2018-06-01</th>\n",
       "      <td>21589</td>\n",
       "    </tr>\n",
       "    <tr>\n",
       "      <th>2018-07-01</th>\n",
       "      <td>21919</td>\n",
       "    </tr>\n",
       "    <tr>\n",
       "      <th>2018-08-01</th>\n",
       "      <td>23381</td>\n",
       "    </tr>\n",
       "    <tr>\n",
       "      <th>2018-09-01</th>\n",
       "      <td>20260</td>\n",
       "    </tr>\n",
       "    <tr>\n",
       "      <th>2018-10-01</th>\n",
       "      <td>21473</td>\n",
       "    </tr>\n",
       "    <tr>\n",
       "      <th>2018-11-01</th>\n",
       "      <td>25831</td>\n",
       "    </tr>\n",
       "    <tr>\n",
       "      <th>2018-12-01</th>\n",
       "      <td>34706</td>\n",
       "    </tr>\n",
       "    <tr>\n",
       "      <th>2019-01-01</th>\n",
       "      <td>16410</td>\n",
       "    </tr>\n",
       "    <tr>\n",
       "      <th>2019-02-01</th>\n",
       "      <td>18134</td>\n",
       "    </tr>\n",
       "    <tr>\n",
       "      <th>2019-03-01</th>\n",
       "      <td>22093</td>\n",
       "    </tr>\n",
       "    <tr>\n",
       "      <th>2019-04-01</th>\n",
       "      <td>21597</td>\n",
       "    </tr>\n",
       "    <tr>\n",
       "      <th>2019-05-01</th>\n",
       "      <td>23200</td>\n",
       "    </tr>\n",
       "    <tr>\n",
       "      <th>2019-06-01</th>\n",
       "      <td>21123</td>\n",
       "    </tr>\n",
       "    <tr>\n",
       "      <th>2019-07-01</th>\n",
       "      <td>21714</td>\n",
       "    </tr>\n",
       "    <tr>\n",
       "      <th>2019-08-01</th>\n",
       "      <td>23791</td>\n",
       "    </tr>\n",
       "    <tr>\n",
       "      <th>2019-09-01</th>\n",
       "      <td>19695</td>\n",
       "    </tr>\n",
       "    <tr>\n",
       "      <th>2019-10-01</th>\n",
       "      <td>21113</td>\n",
       "    </tr>\n",
       "  </tbody>\n",
       "</table>\n",
       "</div>"
      ],
      "text/plain": [
       "            Sales\n",
       "DATE             \n",
       "2017-11-01  24438\n",
       "2017-12-01  33720\n",
       "2018-01-01  15881\n",
       "2018-02-01  18585\n",
       "2018-03-01  22404\n",
       "2018-04-01  20616\n",
       "2018-05-01  23764\n",
       "2018-06-01  21589\n",
       "2018-07-01  21919\n",
       "2018-08-01  23381\n",
       "2018-09-01  20260\n",
       "2018-10-01  21473\n",
       "2018-11-01  25831\n",
       "2018-12-01  34706\n",
       "2019-01-01  16410\n",
       "2019-02-01  18134\n",
       "2019-03-01  22093\n",
       "2019-04-01  21597\n",
       "2019-05-01  23200\n",
       "2019-06-01  21123\n",
       "2019-07-01  21714\n",
       "2019-08-01  23791\n",
       "2019-09-01  19695\n",
       "2019-10-01  21113"
      ]
     },
     "execution_count": 12,
     "metadata": {},
     "output_type": "execute_result"
    }
   ],
   "source": [
    "test"
   ]
  },
  {
   "cell_type": "markdown",
   "metadata": {
    "id": "bm2rm6O857Kk"
   },
   "source": [
    "### Scaling"
   ]
  },
  {
   "cell_type": "code",
   "execution_count": 13,
   "metadata": {
    "id": "vUgVXhCT57Kk"
   },
   "outputs": [],
   "source": [
    "from sklearn.preprocessing import MinMaxScaler"
   ]
  },
  {
   "cell_type": "code",
   "execution_count": 14,
   "metadata": {
    "id": "Ox8YHf0z57Kk"
   },
   "outputs": [],
   "source": [
    "scaler = MinMaxScaler()"
   ]
  },
  {
   "cell_type": "markdown",
   "metadata": {
    "id": "9C9EMpkt57Kl"
   },
   "source": [
    "Since we are working on a single feature, there is no X_train, y_train data. Both X and y are in the same feature."
   ]
  },
  {
   "cell_type": "code",
   "execution_count": 15,
   "metadata": {
    "id": "me48S-J257Kl"
   },
   "outputs": [],
   "source": [
    "train_scaled = scaler.fit_transform(train)\n",
    "test_scaled = scaler.transform(test)"
   ]
  },
  {
   "cell_type": "markdown",
   "metadata": {
    "id": "_upVFo-m57Kl"
   },
   "source": [
    "## Time Series Generator"
   ]
  },
  {
   "cell_type": "code",
   "execution_count": 16,
   "metadata": {
    "executionInfo": {
     "elapsed": 6767,
     "status": "ok",
     "timestamp": 1648207001578,
     "user": {
      "displayName": "Halit Vural",
      "photoUrl": "https://lh3.googleusercontent.com/a-/AOh14GisScAfZ6KCn4jI0rPbmdJoyR3tme3r8ialVbyy=s64",
      "userId": "00265643383934385648"
     },
     "user_tz": -180
    },
    "id": "U4cU807e57Kl"
   },
   "outputs": [],
   "source": [
    "from tensorflow.keras.preprocessing.sequence import TimeseriesGenerator"
   ]
  },
  {
   "cell_type": "code",
   "execution_count": 3,
   "metadata": {
    "colab": {
     "base_uri": "https://localhost:8080/"
    },
    "collapsed": true,
    "executionInfo": {
     "elapsed": 336,
     "status": "ok",
     "timestamp": 1648207010092,
     "user": {
      "displayName": "Halit Vural",
      "photoUrl": "https://lh3.googleusercontent.com/a-/AOh14GisScAfZ6KCn4jI0rPbmdJoyR3tme3r8ialVbyy=s64",
      "userId": "00265643383934385648"
     },
     "user_tz": -180
    },
    "id": "AIRHIkvO57Kl",
    "outputId": "49425121-b1d4-4f78-bb0a-b99bc6aa13a0"
   },
   "outputs": [
    {
     "name": "stdout",
     "output_type": "stream",
     "text": [
      "Help on class TimeseriesGenerator in module keras.preprocessing.sequence:\n",
      "\n",
      "class TimeseriesGenerator(keras_preprocessing.sequence.TimeseriesGenerator, keras.utils.data_utils.Sequence)\n",
      " |  TimeseriesGenerator(data, targets, length, sampling_rate=1, stride=1, start_index=0, end_index=None, shuffle=False, reverse=False, batch_size=128)\n",
      " |  \n",
      " |  Utility class for generating batches of temporal data.\n",
      " |  \n",
      " |  This class takes in a sequence of data-points gathered at\n",
      " |  equal intervals, along with time series parameters such as\n",
      " |  stride, length of history, etc., to produce batches for\n",
      " |  training/validation.\n",
      " |  # Arguments\n",
      " |      data: Indexable generator (such as list or Numpy array)\n",
      " |          containing consecutive data points (timesteps).\n",
      " |          The data should be at 2D, and axis 0 is expected\n",
      " |          to be the time dimension.\n",
      " |      targets: Targets corresponding to timesteps in `data`.\n",
      " |          It should have same length as `data`.\n",
      " |      length: Length of the output sequences (in number of timesteps).\n",
      " |      sampling_rate: Period between successive individual timesteps\n",
      " |          within sequences. For rate `r`, timesteps\n",
      " |          `data[i]`, `data[i-r]`, ... `data[i - length]`\n",
      " |          are used for create a sample sequence.\n",
      " |      stride: Period between successive output sequences.\n",
      " |          For stride `s`, consecutive output samples would\n",
      " |          be centered around `data[i]`, `data[i+s]`, `data[i+2*s]`, etc.\n",
      " |      start_index: Data points earlier than `start_index` will not be used\n",
      " |          in the output sequences. This is useful to reserve part of the\n",
      " |          data for test or validation.\n",
      " |      end_index: Data points later than `end_index` will not be used\n",
      " |          in the output sequences. This is useful to reserve part of the\n",
      " |          data for test or validation.\n",
      " |      shuffle: Whether to shuffle output samples,\n",
      " |          or instead draw them in chronological order.\n",
      " |      reverse: Boolean: if `true`, timesteps in each output sample will be\n",
      " |          in reverse chronological order.\n",
      " |      batch_size: Number of timeseries samples in each batch\n",
      " |          (except maybe the last one).\n",
      " |  # Returns\n",
      " |      A [Sequence](https://www.tensorflow.org/api_docs/python/tf/keras/utils/Sequence) instance.\n",
      " |  # Examples\n",
      " |  ```python\n",
      " |  from keras.preprocessing.sequence import TimeseriesGenerator\n",
      " |  import numpy as np\n",
      " |  data = np.array([[i] for i in range(50)])\n",
      " |  targets = np.array([[i] for i in range(50)])\n",
      " |  data_gen = TimeseriesGenerator(data, targets,\n",
      " |                                 length=10, sampling_rate=2,\n",
      " |                                 batch_size=2)\n",
      " |  assert len(data_gen) == 20\n",
      " |  batch_0 = data_gen[0]\n",
      " |  x, y = batch_0\n",
      " |  assert np.array_equal(x,\n",
      " |                        np.array([[[0], [2], [4], [6], [8]],\n",
      " |                                  [[1], [3], [5], [7], [9]]]))\n",
      " |  assert np.array_equal(y,\n",
      " |                        np.array([[10], [11]]))\n",
      " |  ```\n",
      " |  \n",
      " |  Method resolution order:\n",
      " |      TimeseriesGenerator\n",
      " |      keras_preprocessing.sequence.TimeseriesGenerator\n",
      " |      keras.utils.data_utils.Sequence\n",
      " |      builtins.object\n",
      " |  \n",
      " |  Methods inherited from keras_preprocessing.sequence.TimeseriesGenerator:\n",
      " |  \n",
      " |  __getitem__(self, index)\n",
      " |  \n",
      " |  __init__(self, data, targets, length, sampling_rate=1, stride=1, start_index=0, end_index=None, shuffle=False, reverse=False, batch_size=128)\n",
      " |      Initialize self.  See help(type(self)) for accurate signature.\n",
      " |  \n",
      " |  __len__(self)\n",
      " |  \n",
      " |  get_config(self)\n",
      " |      Returns the TimeseriesGenerator configuration as Python dictionary.\n",
      " |      \n",
      " |      # Returns\n",
      " |          A Python dictionary with the TimeseriesGenerator configuration.\n",
      " |  \n",
      " |  to_json(self, **kwargs)\n",
      " |      Returns a JSON string containing the timeseries generator\n",
      " |      configuration. To load a generator from a JSON string, use\n",
      " |      `keras.preprocessing.sequence.timeseries_generator_from_json(json_string)`.\n",
      " |      \n",
      " |      # Arguments\n",
      " |          **kwargs: Additional keyword arguments\n",
      " |              to be passed to `json.dumps()`.\n",
      " |      \n",
      " |      # Returns\n",
      " |          A JSON string containing the tokenizer configuration.\n",
      " |  \n",
      " |  ----------------------------------------------------------------------\n",
      " |  Data descriptors inherited from keras_preprocessing.sequence.TimeseriesGenerator:\n",
      " |  \n",
      " |  __dict__\n",
      " |      dictionary for instance variables (if defined)\n",
      " |  \n",
      " |  __weakref__\n",
      " |      list of weak references to the object (if defined)\n",
      " |  \n",
      " |  ----------------------------------------------------------------------\n",
      " |  Methods inherited from keras.utils.data_utils.Sequence:\n",
      " |  \n",
      " |  __iter__(self)\n",
      " |      Create a generator that iterate over the Sequence.\n",
      " |  \n",
      " |  on_epoch_end(self)\n",
      " |      Method called at the end of every epoch.\n",
      "\n"
     ]
    }
   ],
   "source": [
    "#help(TimeseriesGenerator)"
   ]
  },
  {
   "cell_type": "markdown",
   "metadata": {
    "id": "V9wWmrRq57Km"
   },
   "source": [
    "We set length=12 because of monthly periods. Choosing batch_size=1 is more advantageous because the data is small. We gave train data scaled into TimeseriesGenerator, and again scaled train data as target."
   ]
  },
  {
   "cell_type": "markdown",
   "metadata": {
    "id": "hMLm1JFm57Km"
   },
   "source": [
    "There is also a __shuffle=False__ parameter in the TimeseriesGenerator. This parameter was True by default in ANN and CNN, but False here. Because ordering is important in these data."
   ]
  },
  {
   "cell_type": "code",
   "execution_count": 17,
   "metadata": {
    "id": "ptzQqzlQ57Km"
   },
   "outputs": [],
   "source": [
    "length = 12\n",
    "batch_size = 1\n",
    "generator = TimeseriesGenerator(train_scaled, train_scaled, length = length, batch_size = batch_size)"
   ]
  },
  {
   "cell_type": "markdown",
   "metadata": {
    "id": "v5XAFTCa57Km"
   },
   "source": [
    "Subtracting 12 from 310 data, 298 generators were produced since batch_size=1. (We subtracted 12 because he couldn't do the last 12) :"
   ]
  },
  {
   "cell_type": "markdown",
   "metadata": {
    "id": "z1lwuJBZ57Km"
   },
   "source": [
    "It will take 12 lines, guess the 13th line, shift one line and repeat the same process until the end."
   ]
  },
  {
   "cell_type": "code",
   "execution_count": 18,
   "metadata": {
    "id": "mFBZDe8t57Km",
    "outputId": "344d2ff8-8057-4225-d297-97295087f68d"
   },
   "outputs": [
    {
     "data": {
      "text/plain": [
       "298"
      ]
     },
     "execution_count": 18,
     "metadata": {},
     "output_type": "execute_result"
    }
   ],
   "source": [
    "len(generator)"
   ]
  },
  {
   "cell_type": "markdown",
   "metadata": {
    "id": "RoH8eJIi57Kn"
   },
   "source": [
    "The first element of the Generator has 12 data, and according to these, it will predict the 13th element at the bottom:"
   ]
  },
  {
   "cell_type": "code",
   "execution_count": 19,
   "metadata": {
    "id": "mWVnC5QP57Kn",
    "outputId": "4e6b8c52-7671-4377-b0cf-4e83b6900066"
   },
   "outputs": [
    {
     "data": {
      "text/plain": [
       "(array([[[0.        ],\n",
       "         [0.02127505],\n",
       "         [0.05580163],\n",
       "         [0.08942056],\n",
       "         [0.09512053],\n",
       "         [0.08146965],\n",
       "         [0.07860151],\n",
       "         [0.12979233],\n",
       "         [0.09566512],\n",
       "         [0.1203892 ],\n",
       "         [0.15426227],\n",
       "         [0.41595266]]]),\n",
       " array([[0.02047633]]))"
      ]
     },
     "execution_count": 19,
     "metadata": {},
     "output_type": "execute_result"
    }
   ],
   "source": [
    "generator[0]"
   ]
  },
  {
   "cell_type": "code",
   "execution_count": 20,
   "metadata": {
    "id": "SbgQRA8457Kn"
   },
   "outputs": [],
   "source": [
    "X, y = generator[0]"
   ]
  },
  {
   "cell_type": "code",
   "execution_count": 21,
   "metadata": {
    "id": "v0_wRPqI57Ko",
    "outputId": "baf8ebd0-8b80-401e-82c6-7590fcf6a52a"
   },
   "outputs": [
    {
     "name": "stdout",
     "output_type": "stream",
     "text": [
      "Given Array: \n",
      "[0.         0.02127505 0.05580163 0.08942056 0.09512053 0.08146965\n",
      " 0.07860151 0.12979233 0.09566512 0.1203892  0.15426227 0.41595266]\n",
      "Predict this y: \n",
      " [[0.02047633]]\n"
     ]
    }
   ],
   "source": [
    "print(f'Given Array: \\n{X.flatten()}')\n",
    "print(f'Predict this y: \\n {y}')"
   ]
  },
  {
   "cell_type": "markdown",
   "metadata": {
    "id": "xZMtDWLr57Ko"
   },
   "source": [
    "## Modelling"
   ]
  },
  {
   "cell_type": "code",
   "execution_count": 22,
   "metadata": {
    "id": "eFfLDuKf57Ko"
   },
   "outputs": [],
   "source": [
    "from tensorflow.keras.models import Sequential\n",
    "from tensorflow.keras.layers import Dense, LSTM"
   ]
  },
  {
   "cell_type": "markdown",
   "metadata": {
    "id": "DBto1bBn57Ko"
   },
   "source": [
    "Instead of manually typing how many features there are, we defined a variable below so that when we need to specify the number of features, let's use this variable directly:"
   ]
  },
  {
   "cell_type": "code",
   "execution_count": 23,
   "metadata": {
    "id": "RB2b4zBT57Ko"
   },
   "outputs": [],
   "source": [
    "n_features = train_scaled.shape[1]"
   ]
  },
  {
   "cell_type": "markdown",
   "metadata": {
    "id": "MjmCbXtc57Kp"
   },
   "source": [
    "We have defined two hidden layers to the model. There are 100 neurons in the first hidden layer, the activation function is tanh (default value in LSTM)."
   ]
  },
  {
   "cell_type": "markdown",
   "metadata": {
    "id": "LCM7JZmE57Kp"
   },
   "source": [
    "__return_sequences=True -->__ When more than one layer is installed in the model, it can send the appropriate data type to the next layer as a sequence (let a series go to the next layer)."
   ]
  },
  {
   "cell_type": "markdown",
   "metadata": {
    "id": "D6KTKr6157Kp"
   },
   "source": [
    "__input_shape = (length, n_features) -->__ The length we set and how many features there are."
   ]
  },
  {
   "cell_type": "markdown",
   "metadata": {
    "id": "Cj8SBIPd57Kp"
   },
   "source": [
    "__model.add(Dense(1)) -->__ 1 could have been replaced with n_features."
   ]
  },
  {
   "cell_type": "code",
   "execution_count": 24,
   "metadata": {
    "id": "RfRvVjkd57Kp"
   },
   "outputs": [
    {
     "name": "stderr",
     "output_type": "stream",
     "text": [
      "2022-08-23 15:20:54.517855: I tensorflow/core/platform/cpu_feature_guard.cc:193] This TensorFlow binary is optimized with oneAPI Deep Neural Network Library (oneDNN) to use the following CPU instructions in performance-critical operations:  AVX2 FMA\n",
      "To enable them in other operations, rebuild TensorFlow with the appropriate compiler flags.\n"
     ]
    }
   ],
   "source": [
    "model = Sequential()\n",
    "model.add(LSTM(100, activation = 'tanh', return_sequences=True, input_shape = (length, n_features)))\n",
    "model.add(LSTM(50, activation = 'tanh'))\n",
    "model.add(Dense(1))\n",
    "model.compile(optimizer = 'adam', loss = 'mse')"
   ]
  },
  {
   "cell_type": "code",
   "execution_count": 25,
   "metadata": {
    "id": "qI33RbEQ57Kq",
    "outputId": "0730d637-f95f-4422-a936-4468191725e9"
   },
   "outputs": [
    {
     "name": "stdout",
     "output_type": "stream",
     "text": [
      "Model: \"sequential\"\n",
      "_________________________________________________________________\n",
      " Layer (type)                Output Shape              Param #   \n",
      "=================================================================\n",
      " lstm (LSTM)                 (None, 12, 100)           40800     \n",
      "                                                                 \n",
      " lstm_1 (LSTM)               (None, 50)                30200     \n",
      "                                                                 \n",
      " dense (Dense)               (None, 1)                 51        \n",
      "                                                                 \n",
      "=================================================================\n",
      "Total params: 71,051\n",
      "Trainable params: 71,051\n",
      "Non-trainable params: 0\n",
      "_________________________________________________________________\n"
     ]
    }
   ],
   "source": [
    "model.summary()"
   ]
  },
  {
   "cell_type": "markdown",
   "metadata": {
    "id": "NAV3b9Xr57Kq"
   },
   "source": [
    "The model built with LSTM has 4 times more parameters than the model built on simple RNN. Below are the formulas for calculating the number of parameters:"
   ]
  },
  {
   "cell_type": "code",
   "execution_count": 26,
   "metadata": {
    "id": "0QnVXC1v57Kq",
    "outputId": "7362b451-9090-41c1-b6fd-978bed7fc7fc"
   },
   "outputs": [
    {
     "data": {
      "text/plain": [
       "40800"
      ]
     },
     "execution_count": 26,
     "metadata": {},
     "output_type": "execute_result"
    }
   ],
   "source": [
    "# params = 4 * ((size_of_input + 1) * size_of_output + size_of_output^2)\n",
    "4 * ((1+1)*100+(100**2))"
   ]
  },
  {
   "cell_type": "code",
   "execution_count": 27,
   "metadata": {
    "id": "5e4ChF2S57Kq",
    "outputId": "1e61cb68-9b9e-46e6-9a68-bc0d89f7e373"
   },
   "outputs": [
    {
     "data": {
      "text/plain": [
       "30200"
      ]
     },
     "execution_count": 27,
     "metadata": {},
     "output_type": "execute_result"
    }
   ],
   "source": [
    "4 * ((100+1)*50+(50**2))"
   ]
  },
  {
   "cell_type": "markdown",
   "metadata": {
    "id": "0mltsng-57Kq"
   },
   "source": [
    "### EarlyStopping and Validation Generator"
   ]
  },
  {
   "cell_type": "code",
   "execution_count": 28,
   "metadata": {
    "id": "bUzFpqxQ57Kr"
   },
   "outputs": [],
   "source": [
    "from tensorflow.keras.callbacks import EarlyStopping"
   ]
  },
  {
   "cell_type": "code",
   "execution_count": 29,
   "metadata": {
    "id": "CtrRf9Ul57Kr"
   },
   "outputs": [],
   "source": [
    "early_stop = EarlyStopping(monitor = 'val_loss', patience = 5)"
   ]
  },
  {
   "cell_type": "markdown",
   "metadata": {
    "id": "POoFrrXs57Kr"
   },
   "source": [
    "We need to generate validation data for EarlyStop. As we produced the train data, we created the validation data by giving the test data to the TimeseriesGenerator and specifying the length and batch_size:"
   ]
  },
  {
   "cell_type": "code",
   "execution_count": 30,
   "metadata": {
    "id": "vejRkhu557Kr"
   },
   "outputs": [],
   "source": [
    "validation_generator = TimeseriesGenerator(test_scaled, test_scaled, length = length, batch_size = batch_size)"
   ]
  },
  {
   "cell_type": "markdown",
   "metadata": {
    "id": "hzvvD-FX57Kr"
   },
   "source": [
    "We had 24 rows in the test data. Since the length is 12, it created 12 generators:"
   ]
  },
  {
   "cell_type": "code",
   "execution_count": 31,
   "metadata": {
    "id": "f6P9otu357Kr",
    "outputId": "702f33e3-45cc-4dea-c1dc-6af26c90e47c"
   },
   "outputs": [
    {
     "data": {
      "text/plain": [
       "12"
      ]
     },
     "execution_count": 31,
     "metadata": {},
     "output_type": "execute_result"
    }
   ],
   "source": [
    "len(validation_generator)"
   ]
  },
  {
   "cell_type": "code",
   "execution_count": 32,
   "metadata": {
    "id": "f_FK4OBa57Ks",
    "outputId": "180beac3-039b-4f5f-e924-fbb8269f3472",
    "scrolled": true
   },
   "outputs": [
    {
     "name": "stdout",
     "output_type": "stream",
     "text": [
      "Epoch 1/20\n",
      "298/298 [==============================] - 10s 19ms/step - loss: 0.0230 - val_loss: 0.0352\n",
      "Epoch 2/20\n",
      "298/298 [==============================] - 5s 18ms/step - loss: 0.0205 - val_loss: 0.0366\n",
      "Epoch 3/20\n",
      "298/298 [==============================] - 5s 17ms/step - loss: 0.0203 - val_loss: 0.0257\n",
      "Epoch 4/20\n",
      "298/298 [==============================] - 5s 17ms/step - loss: 0.0175 - val_loss: 0.0226\n",
      "Epoch 5/20\n",
      "298/298 [==============================] - 5s 17ms/step - loss: 0.0174 - val_loss: 0.0256\n",
      "Epoch 6/20\n",
      "298/298 [==============================] - 4s 15ms/step - loss: 0.0171 - val_loss: 0.0313\n",
      "Epoch 7/20\n",
      "298/298 [==============================] - 5s 15ms/step - loss: 0.0159 - val_loss: 0.0281\n",
      "Epoch 8/20\n",
      "298/298 [==============================] - 4s 15ms/step - loss: 0.0152 - val_loss: 0.0335\n",
      "Epoch 9/20\n",
      "298/298 [==============================] - 5s 17ms/step - loss: 0.0147 - val_loss: 0.0220\n",
      "Epoch 10/20\n",
      "298/298 [==============================] - 5s 17ms/step - loss: 0.0138 - val_loss: 0.0174\n",
      "Epoch 11/20\n",
      "298/298 [==============================] - 5s 16ms/step - loss: 0.0126 - val_loss: 0.0189\n",
      "Epoch 12/20\n",
      "298/298 [==============================] - 5s 15ms/step - loss: 0.0106 - val_loss: 0.0192\n",
      "Epoch 13/20\n",
      "298/298 [==============================] - 5s 16ms/step - loss: 0.0103 - val_loss: 0.0102\n",
      "Epoch 14/20\n",
      "298/298 [==============================] - 5s 16ms/step - loss: 0.0077 - val_loss: 0.0127\n",
      "Epoch 15/20\n",
      "298/298 [==============================] - 5s 16ms/step - loss: 0.0074 - val_loss: 0.0079\n",
      "Epoch 16/20\n",
      "298/298 [==============================] - 5s 15ms/step - loss: 0.0049 - val_loss: 0.0200\n",
      "Epoch 17/20\n",
      "298/298 [==============================] - 4s 15ms/step - loss: 0.0047 - val_loss: 0.0129\n",
      "Epoch 18/20\n",
      "298/298 [==============================] - 5s 16ms/step - loss: 0.0048 - val_loss: 0.0054\n",
      "Epoch 19/20\n",
      "298/298 [==============================] - 5s 16ms/step - loss: 0.0034 - val_loss: 0.0059\n",
      "Epoch 20/20\n",
      "298/298 [==============================] - 5s 17ms/step - loss: 0.0051 - val_loss: 0.0095\n"
     ]
    },
    {
     "data": {
      "text/plain": [
       "<keras.callbacks.History at 0x7f969b304af0>"
      ]
     },
     "execution_count": 32,
     "metadata": {},
     "output_type": "execute_result"
    }
   ],
   "source": [
    "model.fit_generator(generator,\n",
    "                    epochs = 20,\n",
    "                    validation_data = validation_generator,\n",
    "                    callbacks = [early_stop])"
   ]
  },
  {
   "cell_type": "code",
   "execution_count": 33,
   "metadata": {
    "id": "WBWghXID57Ks",
    "outputId": "cfefcac3-3c5a-4351-ea19-d310cddb1eef"
   },
   "outputs": [
    {
     "data": {
      "text/plain": [
       "<AxesSubplot:>"
      ]
     },
     "execution_count": 33,
     "metadata": {},
     "output_type": "execute_result"
    },
    {
     "data": {
      "image/png": "[encoded data removed]",
      "text/plain": [
       "<Figure size 720x432 with 1 Axes>"
      ]
     },
     "metadata": {},
     "output_type": "display_data"
    }
   ],
   "source": [
    "loss_df = pd.DataFrame(model.history.history)\n",
    "loss_df.plot()"
   ]
  },
  {
   "cell_type": "markdown",
   "metadata": {
    "id": "sU0GUSll57Ks"
   },
   "source": [
    "## Evaluate on Test Data"
   ]
  },
  {
   "cell_type": "code",
   "execution_count": 34,
   "metadata": {
    "id": "LABuSV5d57Ks"
   },
   "outputs": [],
   "source": [
    "from sklearn.metrics import mean_absolute_error, mean_squared_error, r2_score"
   ]
  },
  {
   "cell_type": "code",
   "execution_count": 35,
   "metadata": {
    "id": "NC59IC2I57Kt"
   },
   "outputs": [],
   "source": [
    "def eval_metrics(actual, pred):\n",
    "    rmse = np.sqrt(mean_squared_error(actual, pred))\n",
    "    mae = mean_absolute_error(actual, pred)\n",
    "    mse = mean_squared_error(actual, pred)\n",
    "    score = r2_score(actual, pred)\n",
    "    return print(\"r2_score:\", score, \"\\nmae:\", mae, \"\\nmse:\",mse, \"\\nrmse:\",rmse)"
   ]
  },
  {
   "cell_type": "markdown",
   "metadata": {
    "id": "mSPy2CA657Kt"
   },
   "source": [
    "__Forecast__ operation will be done with the following function. The last 'length' length (last 12) of the train data will be taken and an estimate will be made. Shifting one down will cancel the first element and it will be replaced by the new predicted value. Again, the next step will be predicted according to the 12 available data. This process will repeat 12 times. As we make new estimates on the estimates, the error rate will increase. Extending the forecast process does not give healthy results. That's why we want to estimate as long as length (1 year). Every guess made will be placed in the empty list defined at the beginning."
   ]
  },
  {
   "cell_type": "markdown",
   "metadata": {
    "id": "QEwBQX8757Kt"
   },
   "source": [
    "We got the last 12 lines of the train data in first_eval_batch, we will try to predict the continuation of the data."
   ]
  },
  {
   "cell_type": "markdown",
   "metadata": {
    "id": "3MObapXQ57Kt"
   },
   "source": [
    "The reason we do __reshape__; generator converts two-dimensional data to 3-dimensional. In order to make the sequence that we will make predictions suitable for the model, we increased the size."
   ]
  },
  {
   "cell_type": "markdown",
   "metadata": {
    "id": "vaZf0wO557Kt"
   },
   "source": [
    "__predictions_scaled.append(current_pred[0]) -->__ The prediction found is added to the empty list. The reason for the __[0]__ index; The result of our estimation is a 2-dimensional array. In order to put this value in the empty list and compare it with the test data, we need to convert it into a one-dimensional array. With this process, we have reduced the result to one dimension."
   ]
  },
  {
   "cell_type": "markdown",
   "metadata": {
    "id": "2sY84NMQ57Ku"
   },
   "source": [
    "__current_batch = np.append(current_batch[:, 1:, :], [current_pred], axis=1) -->__ Cancel the first prediction in forecast, scroll one bottom and get the new prediction as the 12th element. It cancels the first element each time and replaces it with the newly found prediction value. The reason why we put __[current_pred]'__ in square brackets; current_batch is 3 dimensional and we need to increase its size from 2 dimensions to 3 before we can add elements below it."
   ]
  },
  {
   "cell_type": "code",
   "execution_count": 36,
   "metadata": {
    "id": "LMz7Dgum57Ku"
   },
   "outputs": [
    {
     "name": "stdout",
     "output_type": "stream",
     "text": [
      "1/1 [==============================] - 1s 1s/step\n",
      "1/1 [==============================] - 0s 29ms/step\n",
      "1/1 [==============================] - 0s 25ms/step\n",
      "1/1 [==============================] - 0s 80ms/step\n",
      "1/1 [==============================] - 0s 32ms/step\n",
      "1/1 [==============================] - 0s 31ms/step\n",
      "1/1 [==============================] - 0s 29ms/step\n",
      "1/1 [==============================] - 0s 23ms/step\n",
      "1/1 [==============================] - 0s 24ms/step\n",
      "1/1 [==============================] - 0s 25ms/step\n",
      "1/1 [==============================] - 0s 28ms/step\n",
      "1/1 [==============================] - 0s 27ms/step\n"
     ]
    }
   ],
   "source": [
    "predictions_scaled = []\n",
    "\n",
    "first_eval_batch = train_scaled[-length:]\n",
    "current_batch = first_eval_batch.reshape((1, length, n_features))    \n",
    "\n",
    "for i in range(length):\n",
    "    \n",
    "    # get prediction 1 time stamp ahead\n",
    "    current_pred = model.predict(current_batch)\n",
    "    \n",
    "    # store prediction\n",
    "    predictions_scaled.append(current_pred[0]) \n",
    "    \n",
    "    # update batch to now include prediction and drop first value\n",
    "    current_batch = np.append(current_batch[:, 1:, :], [current_pred], axis=1)"
   ]
  },
  {
   "cell_type": "markdown",
   "metadata": {
    "id": "8YostoAb57Ku"
   },
   "source": [
    "There are 12 prediction values. We cannot evaluate because it is a scaled data:"
   ]
  },
  {
   "cell_type": "code",
   "execution_count": 37,
   "metadata": {
    "id": "eAvt4b_957Ku",
    "outputId": "d879af23-bec2-4951-aeb6-b28814e16d29"
   },
   "outputs": [
    {
     "data": {
      "text/plain": [
       "[array([0.5729516], dtype=float32),\n",
       " array([0.7654981], dtype=float32),\n",
       " array([0.37032196], dtype=float32),\n",
       " array([0.42420307], dtype=float32),\n",
       " array([0.48064536], dtype=float32),\n",
       " array([0.4789986], dtype=float32),\n",
       " array([0.48110735], dtype=float32),\n",
       " array([0.45491222], dtype=float32),\n",
       " array([0.4589431], dtype=float32),\n",
       " array([0.4699727], dtype=float32),\n",
       " array([0.43201652], dtype=float32),\n",
       " array([0.4605836], dtype=float32)]"
      ]
     },
     "execution_count": 37,
     "metadata": {},
     "output_type": "execute_result"
    }
   ],
   "source": [
    "predictions_scaled"
   ]
  },
  {
   "cell_type": "markdown",
   "metadata": {
    "id": "FIgyVuRy57Ku"
   },
   "source": [
    "Since we took the end of the train data and made predictions, the values we found are the first 12 values of the test data. In order to make comparisons, we got the first 12 of the scaled test data and our prediction values into eval_metric. The score model we find may change each time we run it:"
   ]
  },
  {
   "cell_type": "code",
   "execution_count": 40,
   "metadata": {
    "id": "TZqzsA1a57Kv",
    "outputId": "5e3fc509-5362-4e5a-b7a3-0daa537c2a8f"
   },
   "outputs": [
    {
     "name": "stdout",
     "output_type": "stream",
     "text": [
      "r2_score: 0.5902700469622885 \n",
      "mae: 0.07934622076975782 \n",
      "mse: 0.009074463587008155 \n",
      "rmse: 0.09525997893663506\n"
     ]
    }
   ],
   "source": [
    "eval_metrics(test_scaled[:length], predictions_scaled)"
   ]
  },
  {
   "cell_type": "markdown",
   "metadata": {
    "id": "ICFeF4iX57Kv"
   },
   "source": [
    "### Inverse Transformations and Comparing"
   ]
  },
  {
   "cell_type": "markdown",
   "metadata": {
    "id": "yCICsPA657Kv"
   },
   "source": [
    "By inverting our scaled prediction values, we will convert the values to their original state and compare them with the actual values:"
   ]
  },
  {
   "cell_type": "code",
   "execution_count": 41,
   "metadata": {
    "id": "KXA6BUkm57Kv"
   },
   "outputs": [],
   "source": [
    "predictions = scaler.inverse_transform(predictions_scaled)"
   ]
  },
  {
   "cell_type": "markdown",
   "metadata": {
    "id": "Od7hE00K57Kv"
   },
   "source": [
    "We took the first 12 of the test data, transferred them to a variable and created a new DataFrame. Next to this, we added predictions as columns:"
   ]
  },
  {
   "cell_type": "code",
   "execution_count": 42,
   "metadata": {
    "id": "8tGPr5te57Kv"
   },
   "outputs": [],
   "source": [
    "compare = test[:12]"
   ]
  },
  {
   "cell_type": "code",
   "execution_count": 43,
   "metadata": {
    "id": "YZX1_AGa57Kw"
   },
   "outputs": [],
   "source": [
    "compare['Predictions'] = predictions"
   ]
  },
  {
   "cell_type": "code",
   "execution_count": 44,
   "metadata": {
    "id": "mIohmTDQ57Kw",
    "outputId": "c78f3444-eade-429f-c395-f63bb2676cd6",
    "scrolled": true
   },
   "outputs": [
    {
     "data": {
      "text/html": [
       "<div>\n",
       "<style scoped>\n",
       "    .dataframe tbody tr th:only-of-type {\n",
       "        vertical-align: middle;\n",
       "    }\n",
       "\n",
       "    .dataframe tbody tr th {\n",
       "        vertical-align: top;\n",
       "    }\n",
       "\n",
       "    .dataframe thead th {\n",
       "        text-align: right;\n",
       "    }\n",
       "</style>\n",
       "<table border=\"1\" class=\"dataframe\">\n",
       "  <thead>\n",
       "    <tr style=\"text-align: right;\">\n",
       "      <th></th>\n",
       "      <th>Sales</th>\n",
       "      <th>Predictions</th>\n",
       "    </tr>\n",
       "    <tr>\n",
       "      <th>DATE</th>\n",
       "      <th></th>\n",
       "      <th></th>\n",
       "    </tr>\n",
       "  </thead>\n",
       "  <tbody>\n",
       "    <tr>\n",
       "      <th>2017-11-01</th>\n",
       "      <td>24438</td>\n",
       "      <td>22719.379</td>\n",
       "    </tr>\n",
       "    <tr>\n",
       "      <th>2017-12-01</th>\n",
       "      <td>33720</td>\n",
       "      <td>28022.880</td>\n",
       "    </tr>\n",
       "    <tr>\n",
       "      <th>2018-01-01</th>\n",
       "      <td>15881</td>\n",
       "      <td>17138.148</td>\n",
       "    </tr>\n",
       "    <tr>\n",
       "      <th>2018-02-01</th>\n",
       "      <td>18585</td>\n",
       "      <td>18622.249</td>\n",
       "    </tr>\n",
       "    <tr>\n",
       "      <th>2018-03-01</th>\n",
       "      <td>22404</td>\n",
       "      <td>20176.896</td>\n",
       "    </tr>\n",
       "    <tr>\n",
       "      <th>2018-04-01</th>\n",
       "      <td>20616</td>\n",
       "      <td>20131.537</td>\n",
       "    </tr>\n",
       "    <tr>\n",
       "      <th>2018-05-01</th>\n",
       "      <td>23764</td>\n",
       "      <td>20189.621</td>\n",
       "    </tr>\n",
       "    <tr>\n",
       "      <th>2018-06-01</th>\n",
       "      <td>21589</td>\n",
       "      <td>19468.102</td>\n",
       "    </tr>\n",
       "    <tr>\n",
       "      <th>2018-07-01</th>\n",
       "      <td>21919</td>\n",
       "      <td>19579.129</td>\n",
       "    </tr>\n",
       "    <tr>\n",
       "      <th>2018-08-01</th>\n",
       "      <td>23381</td>\n",
       "      <td>19882.928</td>\n",
       "    </tr>\n",
       "    <tr>\n",
       "      <th>2018-09-01</th>\n",
       "      <td>20260</td>\n",
       "      <td>18837.463</td>\n",
       "    </tr>\n",
       "    <tr>\n",
       "      <th>2018-10-01</th>\n",
       "      <td>21473</td>\n",
       "      <td>19624.315</td>\n",
       "    </tr>\n",
       "  </tbody>\n",
       "</table>\n",
       "</div>"
      ],
      "text/plain": [
       "            Sales  Predictions\n",
       "DATE                          \n",
       "2017-11-01  24438    22719.379\n",
       "2017-12-01  33720    28022.880\n",
       "2018-01-01  15881    17138.148\n",
       "2018-02-01  18585    18622.249\n",
       "2018-03-01  22404    20176.896\n",
       "2018-04-01  20616    20131.537\n",
       "2018-05-01  23764    20189.621\n",
       "2018-06-01  21589    19468.102\n",
       "2018-07-01  21919    19579.129\n",
       "2018-08-01  23381    19882.928\n",
       "2018-09-01  20260    18837.463\n",
       "2018-10-01  21473    19624.315"
      ]
     },
     "execution_count": 44,
     "metadata": {},
     "output_type": "execute_result"
    }
   ],
   "source": [
    "compare"
   ]
  },
  {
   "cell_type": "markdown",
   "metadata": {
    "id": "UZe1Bv5957Kw"
   },
   "source": [
    "The blue ones are the actual values, the orange ones are the prediction values. It was able to catch the values at sharp points in the estimations. As we build predictions on prediction, we see that the predictions get worse in the future. Therefore, you should not extend the forecasting process too much:"
   ]
  },
  {
   "cell_type": "markdown",
   "metadata": {
    "id": "maQdfcy257Kw"
   },
   "source": [
    "In this way, 12-month sales forecasts were obtained. By looking at these values, the information about how much sales will be made on average every month can be reached and stocking can be made accordingly."
   ]
  },
  {
   "cell_type": "code",
   "execution_count": 45,
   "metadata": {
    "id": "45aUY2zY57Kw",
    "outputId": "d24515c4-f991-4efe-b15d-4335361319ff"
   },
   "outputs": [
    {
     "data": {
      "text/plain": [
       "<AxesSubplot:xlabel='DATE'>"
      ]
     },
     "execution_count": 45,
     "metadata": {},
     "output_type": "execute_result"
    },
    {
     "data": {
      "image/png": "[encoded data removed]",
      "text/plain": [
       "<Figure size 720x432 with 1 Axes>"
      ]
     },
     "metadata": {},
     "output_type": "display_data"
    }
   ],
   "source": [
    "compare.plot()"
   ]
  },
  {
   "cell_type": "markdown",
   "metadata": {
    "id": "ROnVIXMx57Kx"
   },
   "source": [
    "We got the same score as above with unscaled data and unscaled prediction (mae: an error of 2099 dollars was made):"
   ]
  },
  {
   "cell_type": "code",
   "execution_count": 46,
   "metadata": {
    "id": "D9DLCtL957Kx",
    "outputId": "5a4d48cf-5697-47f8-81be-ecd9a114c4cb"
   },
   "outputs": [
    {
     "name": "stdout",
     "output_type": "stream",
     "text": [
      "r2_score: 0.5902700469622877 \n",
      "mae: 2185.512304882211 \n",
      "mse: 6884540.8577169925 \n",
      "rmse: 2623.8408598306783\n"
     ]
    }
   ],
   "source": [
    "eval_metrics(compare.Sales, compare.Predictions)"
   ]
  },
  {
   "cell_type": "markdown",
   "metadata": {
    "id": "LMH0nvdU57Kx"
   },
   "source": [
    "## Retrain and Forecasting"
   ]
  },
  {
   "cell_type": "markdown",
   "metadata": {
    "id": "2z2NQUIy57Kx"
   },
   "source": [
    "After installing and testing the model, we will train all our data and forecast forward. This time we will not have data for comparison."
   ]
  },
  {
   "cell_type": "code",
   "execution_count": 47,
   "metadata": {
    "id": "d1y8c4eT57Kx"
   },
   "outputs": [],
   "source": [
    "full_scaler = MinMaxScaler()\n",
    "scaled_full_data = full_scaler.fit_transform(df)"
   ]
  },
  {
   "cell_type": "markdown",
   "metadata": {
    "id": "74Bwi6bw57Ky"
   },
   "source": [
    "We scaled all the data and gave it to the TimeseriesGenerator to produce a data for training:"
   ]
  },
  {
   "cell_type": "code",
   "execution_count": 48,
   "metadata": {
    "id": "zJcpe7ET57Ky"
   },
   "outputs": [],
   "source": [
    "generator = TimeseriesGenerator(scaled_full_data, scaled_full_data, length = length, batch_size = batch_size)"
   ]
  },
  {
   "cell_type": "markdown",
   "metadata": {
    "id": "OdBLQhoa57Ky"
   },
   "source": [
    "df length 334, generator length 334-12=322"
   ]
  },
  {
   "cell_type": "code",
   "execution_count": 49,
   "metadata": {
    "id": "-k_7Xzll57Ky",
    "outputId": "d0cd0e5d-68dd-4e86-ddc1-4027a7137d9a"
   },
   "outputs": [
    {
     "data": {
      "text/plain": [
       "334"
      ]
     },
     "execution_count": 49,
     "metadata": {},
     "output_type": "execute_result"
    }
   ],
   "source": [
    "len(df)"
   ]
  },
  {
   "cell_type": "code",
   "execution_count": 50,
   "metadata": {
    "id": "yWGFKZEm57Ky",
    "outputId": "64087c9b-68df-4a95-ecf6-36e73003b0a4"
   },
   "outputs": [
    {
     "data": {
      "text/plain": [
       "322"
      ]
     },
     "execution_count": 50,
     "metadata": {},
     "output_type": "execute_result"
    }
   ],
   "source": [
    "len(generator)"
   ]
  },
  {
   "cell_type": "markdown",
   "metadata": {
    "id": "aBLdDZSh57Ky"
   },
   "source": [
    "Since we do not have validation data, we did not put an Early Stop. We set up our model as above without making any changes:"
   ]
  },
  {
   "cell_type": "code",
   "execution_count": 51,
   "metadata": {
    "id": "OqZObbKv57Kz",
    "outputId": "93767bd5-039a-49c5-d6c2-9c41acb0cffe",
    "scrolled": true
   },
   "outputs": [
    {
     "name": "stdout",
     "output_type": "stream",
     "text": [
      "Epoch 1/15\n",
      "322/322 [==============================] - 10s 16ms/step - loss: 0.0229\n",
      "Epoch 2/15\n",
      "322/322 [==============================] - 5s 15ms/step - loss: 0.0199\n",
      "Epoch 3/15\n",
      "322/322 [==============================] - 5s 15ms/step - loss: 0.0182\n",
      "Epoch 4/15\n",
      "322/322 [==============================] - 5s 16ms/step - loss: 0.0184\n",
      "Epoch 5/15\n",
      "322/322 [==============================] - 5s 15ms/step - loss: 0.0164\n",
      "Epoch 6/15\n",
      "322/322 [==============================] - 5s 15ms/step - loss: 0.0150\n",
      "Epoch 7/15\n",
      "322/322 [==============================] - 6s 18ms/step - loss: 0.0157\n",
      "Epoch 8/15\n",
      "322/322 [==============================] - 5s 16ms/step - loss: 0.0140\n",
      "Epoch 9/15\n",
      "322/322 [==============================] - 5s 15ms/step - loss: 0.0122\n",
      "Epoch 10/15\n",
      "322/322 [==============================] - 5s 15ms/step - loss: 0.0110\n",
      "Epoch 11/15\n",
      "322/322 [==============================] - 5s 16ms/step - loss: 0.0090\n",
      "Epoch 12/15\n",
      "322/322 [==============================] - 5s 15ms/step - loss: 0.0066\n",
      "Epoch 13/15\n",
      "322/322 [==============================] - 5s 15ms/step - loss: 0.0065\n",
      "Epoch 14/15\n",
      "322/322 [==============================] - 5s 15ms/step - loss: 0.0068\n",
      "Epoch 15/15\n",
      "322/322 [==============================] - 5s 16ms/step - loss: 0.0053\n"
     ]
    },
    {
     "data": {
      "text/plain": [
       "<keras.callbacks.History at 0x7f9683110130>"
      ]
     },
     "execution_count": 51,
     "metadata": {},
     "output_type": "execute_result"
    }
   ],
   "source": [
    "model = Sequential()\n",
    "model.add(LSTM(100, activation = 'tanh', return_sequences=True, input_shape = (length, n_features)))\n",
    "model.add(LSTM(50, activation = 'tanh'))\n",
    "model.add(Dense(1))\n",
    "model.compile(optimizer = 'adam', loss = 'mse')\n",
    "\n",
    "model.fit_generator(generator, epochs=15)"
   ]
  },
  {
   "cell_type": "code",
   "execution_count": 53,
   "metadata": {
    "id": "4GjXeeKt57Kz",
    "outputId": "584f4b26-58da-4250-9b0d-a249ec95b42e"
   },
   "outputs": [
    {
     "data": {
      "text/plain": [
       "(334, 1)"
      ]
     },
     "execution_count": 53,
     "metadata": {},
     "output_type": "execute_result"
    }
   ],
   "source": [
    "scaled_full_data.shape"
   ]
  },
  {
   "cell_type": "code",
   "execution_count": 54,
   "metadata": {
    "id": "F-nt3Pm857Kz",
    "outputId": "8ac3ebad-92bc-44dc-b602-086ca6f76de7"
   },
   "outputs": [
    {
     "data": {
      "text/plain": [
       "(12, 1)"
      ]
     },
     "execution_count": 54,
     "metadata": {},
     "output_type": "execute_result"
    }
   ],
   "source": [
    "scaled_full_data[-length:].shape"
   ]
  },
  {
   "cell_type": "markdown",
   "metadata": {
    "id": "Dc8C7wGK57Kz"
   },
   "source": [
    "In the previous forecast process, we took the last 12 data of the train data and made the forecast process, now we will perform the forecast process by taking the last 12 data of the whole data:"
   ]
  },
  {
   "cell_type": "code",
   "execution_count": 55,
   "metadata": {
    "id": "Vv3dhU9f57K0"
   },
   "outputs": [
    {
     "name": "stdout",
     "output_type": "stream",
     "text": [
      "1/1 [==============================] - 1s 980ms/step\n",
      "1/1 [==============================] - 0s 36ms/step\n",
      "1/1 [==============================] - 0s 28ms/step\n",
      "1/1 [==============================] - 0s 57ms/step\n",
      "1/1 [==============================] - 0s 23ms/step\n",
      "1/1 [==============================] - 0s 25ms/step\n",
      "1/1 [==============================] - 0s 24ms/step\n",
      "1/1 [==============================] - 0s 21ms/step\n",
      "1/1 [==============================] - 0s 21ms/step\n",
      "1/1 [==============================] - 0s 24ms/step\n",
      "1/1 [==============================] - 0s 20ms/step\n",
      "1/1 [==============================] - 0s 22ms/step\n"
     ]
    }
   ],
   "source": [
    "forecast = []\n",
    "# Replace periods with whatever forecast length you want\n",
    "\n",
    "first_eval_batch = scaled_full_data[-length:]\n",
    "current_batch = first_eval_batch.reshape((1, length, n_features))\n",
    "\n",
    "for i in range(length):\n",
    "    \n",
    "    # get prediction 1 time stamp ahead ([0] is for grabbing just the number instead of [array])\n",
    "    current_pred = model.predict(current_batch)\n",
    "    \n",
    "    # store prediction\n",
    "    forecast.append(current_pred[0]) \n",
    "    \n",
    "    # update batch to now include prediction and drop first value\n",
    "    current_batch = np.append(current_batch[:, 1:, :], [current_pred], axis = 1)"
   ]
  },
  {
   "cell_type": "code",
   "execution_count": 56,
   "metadata": {
    "id": "glBQyt1Y57K0"
   },
   "outputs": [],
   "source": [
    "forecast = scaler.inverse_transform(forecast)"
   ]
  },
  {
   "cell_type": "code",
   "execution_count": 57,
   "metadata": {
    "id": "rn52RuDh57K0",
    "outputId": "692510ac-7b30-47d6-f3b8-f762ad0d9741"
   },
   "outputs": [
    {
     "data": {
      "text/plain": [
       "array([[27202.59885931],\n",
       "       [30660.09879827],\n",
       "       [18492.88840866],\n",
       "       [20921.31132746],\n",
       "       [23432.89710951],\n",
       "       [23262.86759424],\n",
       "       [23674.33948088],\n",
       "       [22404.67708302],\n",
       "       [22851.71256542],\n",
       "       [23148.52132511],\n",
       "       [21825.93217993],\n",
       "       [24050.69925308]])"
      ]
     },
     "execution_count": 57,
     "metadata": {},
     "output_type": "execute_result"
    }
   ],
   "source": [
    "forecast"
   ]
  },
  {
   "cell_type": "code",
   "execution_count": 58,
   "metadata": {
    "id": "1Fs0NdMX57K0",
    "outputId": "e2006c4b-93d2-4e0a-b475-8ec07576e0b7"
   },
   "outputs": [
    {
     "data": {
      "text/html": [
       "<div>\n",
       "<style scoped>\n",
       "    .dataframe tbody tr th:only-of-type {\n",
       "        vertical-align: middle;\n",
       "    }\n",
       "\n",
       "    .dataframe tbody tr th {\n",
       "        vertical-align: top;\n",
       "    }\n",
       "\n",
       "    .dataframe thead th {\n",
       "        text-align: right;\n",
       "    }\n",
       "</style>\n",
       "<table border=\"1\" class=\"dataframe\">\n",
       "  <thead>\n",
       "    <tr style=\"text-align: right;\">\n",
       "      <th></th>\n",
       "      <th>Sales</th>\n",
       "    </tr>\n",
       "    <tr>\n",
       "      <th>DATE</th>\n",
       "      <th></th>\n",
       "    </tr>\n",
       "  </thead>\n",
       "  <tbody>\n",
       "    <tr>\n",
       "      <th>1992-01-01</th>\n",
       "      <td>6938</td>\n",
       "    </tr>\n",
       "    <tr>\n",
       "      <th>1992-02-01</th>\n",
       "      <td>7524</td>\n",
       "    </tr>\n",
       "    <tr>\n",
       "      <th>1992-03-01</th>\n",
       "      <td>8475</td>\n",
       "    </tr>\n",
       "    <tr>\n",
       "      <th>1992-04-01</th>\n",
       "      <td>9401</td>\n",
       "    </tr>\n",
       "    <tr>\n",
       "      <th>1992-05-01</th>\n",
       "      <td>9558</td>\n",
       "    </tr>\n",
       "    <tr>\n",
       "      <th>...</th>\n",
       "      <td>...</td>\n",
       "    </tr>\n",
       "    <tr>\n",
       "      <th>2019-06-01</th>\n",
       "      <td>21123</td>\n",
       "    </tr>\n",
       "    <tr>\n",
       "      <th>2019-07-01</th>\n",
       "      <td>21714</td>\n",
       "    </tr>\n",
       "    <tr>\n",
       "      <th>2019-08-01</th>\n",
       "      <td>23791</td>\n",
       "    </tr>\n",
       "    <tr>\n",
       "      <th>2019-09-01</th>\n",
       "      <td>19695</td>\n",
       "    </tr>\n",
       "    <tr>\n",
       "      <th>2019-10-01</th>\n",
       "      <td>21113</td>\n",
       "    </tr>\n",
       "  </tbody>\n",
       "</table>\n",
       "<p>334 rows × 1 columns</p>\n",
       "</div>"
      ],
      "text/plain": [
       "            Sales\n",
       "DATE             \n",
       "1992-01-01   6938\n",
       "1992-02-01   7524\n",
       "1992-03-01   8475\n",
       "1992-04-01   9401\n",
       "1992-05-01   9558\n",
       "...           ...\n",
       "2019-06-01  21123\n",
       "2019-07-01  21714\n",
       "2019-08-01  23791\n",
       "2019-09-01  19695\n",
       "2019-10-01  21113\n",
       "\n",
       "[334 rows x 1 columns]"
      ]
     },
     "execution_count": 58,
     "metadata": {},
     "output_type": "execute_result"
    }
   ],
   "source": [
    "df"
   ]
  },
  {
   "cell_type": "markdown",
   "metadata": {
    "id": "RZJ-3gYW57K0"
   },
   "source": [
    "We will combine real data with our forecast forecasts. The last data in our data was ending on 2019-10-01. Our forecast values should start from the next month 2019-11-01 and continue for 12 months. We need to index the forecasts according to these dates. We used the __date_range__ function for this. We gave the start time to this function and asked it to perform this operation as long as the length (12). We set the frequency as \"MS\" which means month (MS --> means first days of the month):"
   ]
  },
  {
   "cell_type": "code",
   "execution_count": 59,
   "metadata": {
    "id": "-h9nNMFr57K1"
   },
   "outputs": [],
   "source": [
    "forecast_index = pd.date_range(start = '2019-11-01', periods = length, freq = 'MS')"
   ]
  },
  {
   "cell_type": "markdown",
   "metadata": {
    "id": "8pGmAhjh57K1"
   },
   "source": [
    "https://stackoverflow.com/questions/35339139/what-values-are-valid-in-pandas-freq-tags"
   ]
  },
  {
   "cell_type": "code",
   "execution_count": 61,
   "metadata": {
    "id": "A7rkB-IK57K1",
    "outputId": "05c01163-a7c6-49dd-f548-fba9819d2757"
   },
   "outputs": [
    {
     "data": {
      "text/plain": [
       "DatetimeIndex(['2019-11-01', '2019-12-01', '2020-01-01', '2020-02-01',\n",
       "               '2020-03-01', '2020-04-01', '2020-05-01', '2020-06-01',\n",
       "               '2020-07-01', '2020-08-01', '2020-09-01', '2020-10-01'],\n",
       "              dtype='datetime64[ns]', freq='MS')"
      ]
     },
     "execution_count": 61,
     "metadata": {},
     "output_type": "execute_result"
    }
   ],
   "source": [
    "forecast_index"
   ]
  },
  {
   "cell_type": "markdown",
   "metadata": {
    "id": "uXH3_5lp57K1"
   },
   "source": [
    "In the forecast array we are indexing, we have made it into a DataFrame:"
   ]
  },
  {
   "cell_type": "code",
   "execution_count": 62,
   "metadata": {
    "id": "-cWakZYv57K2"
   },
   "outputs": [],
   "source": [
    "forecast_df = pd.DataFrame(data = forecast, index = forecast_index, columns = ['Forecast'])"
   ]
  },
  {
   "cell_type": "code",
   "execution_count": 64,
   "metadata": {
    "id": "Y5qwaVJR57K2",
    "outputId": "6b0495d7-af86-4f05-d913-27fe69b1957d"
   },
   "outputs": [
    {
     "data": {
      "text/html": [
       "<div>\n",
       "<style scoped>\n",
       "    .dataframe tbody tr th:only-of-type {\n",
       "        vertical-align: middle;\n",
       "    }\n",
       "\n",
       "    .dataframe tbody tr th {\n",
       "        vertical-align: top;\n",
       "    }\n",
       "\n",
       "    .dataframe thead th {\n",
       "        text-align: right;\n",
       "    }\n",
       "</style>\n",
       "<table border=\"1\" class=\"dataframe\">\n",
       "  <thead>\n",
       "    <tr style=\"text-align: right;\">\n",
       "      <th></th>\n",
       "      <th>Forecast</th>\n",
       "    </tr>\n",
       "  </thead>\n",
       "  <tbody>\n",
       "    <tr>\n",
       "      <th>2019-11-01</th>\n",
       "      <td>27202.599</td>\n",
       "    </tr>\n",
       "    <tr>\n",
       "      <th>2019-12-01</th>\n",
       "      <td>30660.099</td>\n",
       "    </tr>\n",
       "    <tr>\n",
       "      <th>2020-01-01</th>\n",
       "      <td>18492.888</td>\n",
       "    </tr>\n",
       "    <tr>\n",
       "      <th>2020-02-01</th>\n",
       "      <td>20921.311</td>\n",
       "    </tr>\n",
       "    <tr>\n",
       "      <th>2020-03-01</th>\n",
       "      <td>23432.897</td>\n",
       "    </tr>\n",
       "    <tr>\n",
       "      <th>2020-04-01</th>\n",
       "      <td>23262.868</td>\n",
       "    </tr>\n",
       "    <tr>\n",
       "      <th>2020-05-01</th>\n",
       "      <td>23674.339</td>\n",
       "    </tr>\n",
       "    <tr>\n",
       "      <th>2020-06-01</th>\n",
       "      <td>22404.677</td>\n",
       "    </tr>\n",
       "    <tr>\n",
       "      <th>2020-07-01</th>\n",
       "      <td>22851.713</td>\n",
       "    </tr>\n",
       "    <tr>\n",
       "      <th>2020-08-01</th>\n",
       "      <td>23148.521</td>\n",
       "    </tr>\n",
       "    <tr>\n",
       "      <th>2020-09-01</th>\n",
       "      <td>21825.932</td>\n",
       "    </tr>\n",
       "    <tr>\n",
       "      <th>2020-10-01</th>\n",
       "      <td>24050.699</td>\n",
       "    </tr>\n",
       "  </tbody>\n",
       "</table>\n",
       "</div>"
      ],
      "text/plain": [
       "            Forecast\n",
       "2019-11-01 27202.599\n",
       "2019-12-01 30660.099\n",
       "2020-01-01 18492.888\n",
       "2020-02-01 20921.311\n",
       "2020-03-01 23432.897\n",
       "2020-04-01 23262.868\n",
       "2020-05-01 23674.339\n",
       "2020-06-01 22404.677\n",
       "2020-07-01 22851.713\n",
       "2020-08-01 23148.521\n",
       "2020-09-01 21825.932\n",
       "2020-10-01 24050.699"
      ]
     },
     "execution_count": 64,
     "metadata": {},
     "output_type": "execute_result"
    }
   ],
   "source": [
    "forecast_df"
   ]
  },
  {
   "cell_type": "markdown",
   "metadata": {
    "id": "wiIZVDCh57K2"
   },
   "source": [
    "By plotting the original df and the forecast together, we have obtained an image one after the other:"
   ]
  },
  {
   "cell_type": "code",
   "execution_count": 65,
   "metadata": {
    "id": "ZrDcyoKD57K2",
    "outputId": "f911c91c-bba7-4c0b-ce13-a881b458eebc"
   },
   "outputs": [
    {
     "data": {
      "text/plain": [
       "[<matplotlib.lines.Line2D at 0x7f9686311220>]"
      ]
     },
     "execution_count": 65,
     "metadata": {},
     "output_type": "execute_result"
    },
    {
     "data": {
      "image/png": "[encoded data removed]",
      "text/plain": [
       "<Figure size 1152x576 with 1 Axes>"
      ]
     },
     "metadata": {},
     "output_type": "display_data"
    }
   ],
   "source": [
    "plt.figure(figsize = (16, 8))\n",
    "plt.plot(df.index, df['Sales'])\n",
    "plt.plot(forecast_df.index, forecast_df['Forecast'])"
   ]
  },
  {
   "cell_type": "markdown",
   "metadata": {
    "id": "oAhIUOZI57K3"
   },
   "source": [
    "If we combined the two data with the concat process instead of the plot method, they would be added one after the other, but there would be no color separation between the real data and the forecast. That's why we prefer the plotting method."
   ]
  },
  {
   "cell_type": "markdown",
   "metadata": {
    "id": "osNq7eDl57K3"
   },
   "source": [
    "### Joining pandas plots\n",
    "\n",
    "https://stackoverflow.com/questions/13872533/plot-different-dataframes-in-the-same-figure"
   ]
  },
  {
   "cell_type": "markdown",
   "metadata": {
    "id": "u-jEpabV57K3"
   },
   "source": [
    "There is an easier way to get the above chart. We plotted the larger data (df) than the other and assigned it to a variable. Then we plotted forecast_df and gave the variable into which we put df. In this way, we have drawn two data consecutively:"
   ]
  },
  {
   "cell_type": "code",
   "execution_count": 66,
   "metadata": {
    "id": "I5iwN3In57K3",
    "outputId": "ca45d391-aff9-4d8d-fe5f-273eff0c44a3"
   },
   "outputs": [
    {
     "data": {
      "image/png": "[encoded data removed]",
      "text/plain": [
       "<Figure size 1152x576 with 1 Axes>"
      ]
     },
     "metadata": {},
     "output_type": "display_data"
    }
   ],
   "source": [
    "ax = df.plot()\n",
    "forecast_df.plot(ax = ax, figsize = (16, 8));"
   ]
  },
  {
   "cell_type": "markdown",
   "metadata": {
    "id": "Vh62XGAx57K3"
   },
   "source": [
    "When we use this method, we can visualize the part we want in more detail with __len__ (This is not possible in the other method):"
   ]
  },
  {
   "cell_type": "code",
   "execution_count": 67,
   "metadata": {
    "id": "N9rIki1J57K4",
    "outputId": "ca6a76b5-d5e4-4c75-d0b7-d17b7185bc62"
   },
   "outputs": [
    {
     "data": {
      "text/plain": [
       "(576.0, 611.0)"
      ]
     },
     "execution_count": 67,
     "metadata": {},
     "output_type": "execute_result"
    },
    {
     "data": {
      "image/png": "[encoded data removed]",
      "text/plain": [
       "<Figure size 1152x576 with 1 Axes>"
      ]
     },
     "metadata": {},
     "output_type": "display_data"
    }
   ],
   "source": [
    "ax = df.plot()\n",
    "forecast_df.plot(ax = ax, figsize = (16, 8))\n",
    "plt.xlim('2018-01-01', '2020-12-01')"
   ]
  },
  {
   "cell_type": "markdown",
   "metadata": {
    "id": "iUgR91OG57K9"
   },
   "source": [
    "Scores can also be checked by defining the ReLu activation function instead of tanh. In fact, ReLu is more consistent in the teacher's example."
   ]
  },
  {
   "cell_type": "code",
   "execution_count": null,
   "metadata": {},
   "outputs": [],
   "source": []
  }
 ],
 "metadata": {
  "colab": {
   "name": "DL-S10 Part-1 (Univariate Time Series with RNN-RSCCASN)-tanh-2layer-STU-NOTES.ipynb",
   "provenance": []
  },
  "kernelspec": {
   "display_name": "Python 3 (ipykernel)",
   "language": "python",
   "name": "python3"
  },
  "language_info": {
   "codemirror_mode": {
    "name": "ipython",
    "version": 3
   },
   "file_extension": ".py",
   "mimetype": "text/x-python",
   "name": "python",
   "nbconvert_exporter": "python",
   "pygments_lexer": "ipython3",
   "version": "3.9.12"
  }
 },
 "nbformat": 4,
 "nbformat_minor": 1
}
