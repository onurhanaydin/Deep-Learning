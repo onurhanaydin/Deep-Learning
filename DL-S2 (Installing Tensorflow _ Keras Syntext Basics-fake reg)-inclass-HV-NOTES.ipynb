{
 "cells": [
  {
   "cell_type": "markdown",
   "metadata": {
    "id": "yNXpsFvxfcIW"
   },
   "source": [
    "<h1 style=\"text-align: center;\">Deep Learning<br><br>Session - 2<br><br>Installing Tensorflow & Keras Syntax Basics<br><br>Fake Reg<br><h1>"
   ]
  },
  {
   "cell_type": "markdown",
   "metadata": {
    "id": "DNZsBO4xfcIX"
   },
   "source": [
    "# Installing Tensorflow"
   ]
  },
  {
   "cell_type": "code",
   "execution_count": 1,
   "metadata": {
    "colab": {
     "base_uri": "https://localhost:8080/"
    },
    "executionInfo": {
     "elapsed": 18,
     "status": "ok",
     "timestamp": 1646490736031,
     "user": {
      "displayName": "Halit Vural",
      "photoUrl": "https://lh3.googleusercontent.com/a-/AOh14GisScAfZ6KCn4jI0rPbmdJoyR3tme3r8ialVbyy=s64",
      "userId": "00265643383934385648"
     },
     "user_tz": -180
    },
    "id": "hecLEualfcIX",
    "outputId": "2a2a5aba-91db-4ad8-b150-78cf01e88a7a"
   },
   "outputs": [
    {
     "name": "stdout",
     "output_type": "stream",
     "text": [
      "Python 3.9.7\r\n"
     ]
    }
   ],
   "source": [
    "!python --version"
   ]
  },
  {
   "cell_type": "code",
   "execution_count": null,
   "metadata": {
    "id": "LkMC6-TcfcIY"
   },
   "outputs": [],
   "source": [
    "#!pip install tensorflow"
   ]
  },
  {
   "cell_type": "code",
   "execution_count": null,
   "metadata": {
    "id": "PewA962UfcIZ"
   },
   "outputs": [],
   "source": [
    "#!pip install tensorflow==2.0"
   ]
  },
  {
   "cell_type": "code",
   "execution_count": null,
   "metadata": {
    "id": "45S26R6wfcIZ"
   },
   "outputs": [],
   "source": [
    "#!pip install --ignore-installed --upgrade tensorflow==2.6"
   ]
  },
  {
   "cell_type": "code",
   "execution_count": 2,
   "metadata": {
    "colab": {
     "base_uri": "https://localhost:8080/",
     "height": 35
    },
    "executionInfo": {
     "elapsed": 7073,
     "status": "ok",
     "timestamp": 1646490751869,
     "user": {
      "displayName": "Halit Vural",
      "photoUrl": "https://lh3.googleusercontent.com/a-/AOh14GisScAfZ6KCn4jI0rPbmdJoyR3tme3r8ialVbyy=s64",
      "userId": "00265643383934385648"
     },
     "user_tz": -180
    },
    "id": "wftpIxO0fcIa",
    "outputId": "9799226b-03f0-404b-c524-027b7116576e"
   },
   "outputs": [
    {
     "data": {
      "text/plain": [
       "'2.9.1'"
      ]
     },
     "execution_count": 2,
     "metadata": {},
     "output_type": "execute_result"
    }
   ],
   "source": [
    "import tensorflow as tf\n",
    "tf.__version__"
   ]
  },
  {
   "cell_type": "markdown",
   "metadata": {
    "id": "IB3ZKmH1fcIa"
   },
   "source": [
    "# Keras Syntax Basics"
   ]
  },
  {
   "cell_type": "code",
   "execution_count": 3,
   "metadata": {
    "executionInfo": {
     "elapsed": 459,
     "status": "ok",
     "timestamp": 1646490802073,
     "user": {
      "displayName": "Halit Vural",
      "photoUrl": "https://lh3.googleusercontent.com/a-/AOh14GisScAfZ6KCn4jI0rPbmdJoyR3tme3r8ialVbyy=s64",
      "userId": "00265643383934385648"
     },
     "user_tz": -180
    },
    "id": "6Aj1HHIzfcIb"
   },
   "outputs": [],
   "source": [
    "import numpy as np\n",
    "import pandas as pd\n",
    "import matplotlib.pyplot as plt\n",
    "import seaborn as sns\n",
    "\n",
    "import warnings\n",
    "warnings.filterwarnings(\"ignore\")\n",
    "warnings.warn(\"this will not show\")\n",
    "\n",
    "plt.rcParams[\"figure.figsize\"] = (10,6)\n",
    "\n",
    "sns.set_style(\"whitegrid\")\n",
    "pd.set_option('display.float_format', lambda x: '%.3f' % x)\n",
    "\n",
    "# Set it None to display all rows in the dataframe\n",
    "# pd.set_option('display.max_rows', None)\n",
    "\n",
    "# Set it to None to display all columns in the dataframe\n",
    "pd.set_option('display.max_columns', None)"
   ]
  },
  {
   "cell_type": "markdown",
   "metadata": {
    "id": "KSEdij0sfcIi"
   },
   "source": [
    "## Exploratory Data Analysis and Visualization"
   ]
  },
  {
   "cell_type": "code",
   "execution_count": 5,
   "metadata": {
    "colab": {
     "base_uri": "https://localhost:8080/",
     "height": 206
    },
    "executionInfo": {
     "elapsed": 299,
     "status": "ok",
     "timestamp": 1646490959066,
     "user": {
      "displayName": "Halit Vural",
      "photoUrl": "https://lh3.googleusercontent.com/a-/AOh14GisScAfZ6KCn4jI0rPbmdJoyR3tme3r8ialVbyy=s64",
      "userId": "00265643383934385648"
     },
     "user_tz": -180
    },
    "id": "P_fTHNOcfcIj",
    "outputId": "5d0be394-a02d-44e7-ec6c-260ea089e4ce"
   },
   "outputs": [
    {
     "data": {
      "text/html": [
       "<div>\n",
       "<style scoped>\n",
       "    .dataframe tbody tr th:only-of-type {\n",
       "        vertical-align: middle;\n",
       "    }\n",
       "\n",
       "    .dataframe tbody tr th {\n",
       "        vertical-align: top;\n",
       "    }\n",
       "\n",
       "    .dataframe thead th {\n",
       "        text-align: right;\n",
       "    }\n",
       "</style>\n",
       "<table border=\"1\" class=\"dataframe\">\n",
       "  <thead>\n",
       "    <tr style=\"text-align: right;\">\n",
       "      <th></th>\n",
       "      <th>price</th>\n",
       "      <th>feature1</th>\n",
       "      <th>feature2</th>\n",
       "    </tr>\n",
       "  </thead>\n",
       "  <tbody>\n",
       "    <tr>\n",
       "      <th>0</th>\n",
       "      <td>461.528</td>\n",
       "      <td>999.788</td>\n",
       "      <td>999.766</td>\n",
       "    </tr>\n",
       "    <tr>\n",
       "      <th>1</th>\n",
       "      <td>548.130</td>\n",
       "      <td>998.862</td>\n",
       "      <td>1001.042</td>\n",
       "    </tr>\n",
       "    <tr>\n",
       "      <th>2</th>\n",
       "      <td>410.297</td>\n",
       "      <td>1000.070</td>\n",
       "      <td>998.844</td>\n",
       "    </tr>\n",
       "    <tr>\n",
       "      <th>3</th>\n",
       "      <td>540.382</td>\n",
       "      <td>999.952</td>\n",
       "      <td>1000.441</td>\n",
       "    </tr>\n",
       "    <tr>\n",
       "      <th>4</th>\n",
       "      <td>546.025</td>\n",
       "      <td>1000.446</td>\n",
       "      <td>1000.339</td>\n",
       "    </tr>\n",
       "  </tbody>\n",
       "</table>\n",
       "</div>"
      ],
      "text/plain": [
       "    price  feature1  feature2\n",
       "0 461.528   999.788   999.766\n",
       "1 548.130   998.862  1001.042\n",
       "2 410.297  1000.070   998.844\n",
       "3 540.382   999.952  1000.441\n",
       "4 546.025  1000.446  1000.339"
      ]
     },
     "execution_count": 5,
     "metadata": {},
     "output_type": "execute_result"
    }
   ],
   "source": [
    "df = pd.read_csv(\"/Users/onurhanaydin/Desktop/Data Science/DL/DL-S2 (Installing Tensorflow _ Keras Syntext Basics-fake reg)/fake_reg.csv\")\n",
    "df.head()"
   ]
  },
  {
   "cell_type": "markdown",
   "metadata": {},
   "source": [
    "We can understand by looking the features that we will use regression polynomial."
   ]
  },
  {
   "cell_type": "code",
   "execution_count": 6,
   "metadata": {
    "colab": {
     "base_uri": "https://localhost:8080/"
    },
    "executionInfo": {
     "elapsed": 274,
     "status": "ok",
     "timestamp": 1646490963799,
     "user": {
      "displayName": "Halit Vural",
      "photoUrl": "https://lh3.googleusercontent.com/a-/AOh14GisScAfZ6KCn4jI0rPbmdJoyR3tme3r8ialVbyy=s64",
      "userId": "00265643383934385648"
     },
     "user_tz": -180
    },
    "id": "850OXjFOfcIj",
    "outputId": "78e177f9-9df7-4ea8-e1bc-45b240cac449"
   },
   "outputs": [
    {
     "name": "stdout",
     "output_type": "stream",
     "text": [
      "<class 'pandas.core.frame.DataFrame'>\n",
      "RangeIndex: 1000 entries, 0 to 999\n",
      "Data columns (total 3 columns):\n",
      " #   Column    Non-Null Count  Dtype  \n",
      "---  ------    --------------  -----  \n",
      " 0   price     1000 non-null   float64\n",
      " 1   feature1  1000 non-null   float64\n",
      " 2   feature2  1000 non-null   float64\n",
      "dtypes: float64(3)\n",
      "memory usage: 23.6 KB\n"
     ]
    }
   ],
   "source": [
    "df.info()"
   ]
  },
  {
   "cell_type": "code",
   "execution_count": 9,
   "metadata": {
    "colab": {
     "base_uri": "https://localhost:8080/",
     "height": 144
    },
    "executionInfo": {
     "elapsed": 287,
     "status": "ok",
     "timestamp": 1646490968382,
     "user": {
      "displayName": "Halit Vural",
      "photoUrl": "https://lh3.googleusercontent.com/a-/AOh14GisScAfZ6KCn4jI0rPbmdJoyR3tme3r8ialVbyy=s64",
      "userId": "00265643383934385648"
     },
     "user_tz": -180
    },
    "id": "jo1Ia4eEfcIj",
    "outputId": "6f436ece-4a76-44a6-d63d-bdc6251189de"
   },
   "outputs": [
    {
     "data": {
      "text/html": [
       "<div>\n",
       "<style scoped>\n",
       "    .dataframe tbody tr th:only-of-type {\n",
       "        vertical-align: middle;\n",
       "    }\n",
       "\n",
       "    .dataframe tbody tr th {\n",
       "        vertical-align: top;\n",
       "    }\n",
       "\n",
       "    .dataframe thead th {\n",
       "        text-align: right;\n",
       "    }\n",
       "</style>\n",
       "<table border=\"1\" class=\"dataframe\">\n",
       "  <thead>\n",
       "    <tr style=\"text-align: right;\">\n",
       "      <th></th>\n",
       "      <th>count</th>\n",
       "      <th>mean</th>\n",
       "      <th>std</th>\n",
       "      <th>min</th>\n",
       "      <th>25%</th>\n",
       "      <th>50%</th>\n",
       "      <th>75%</th>\n",
       "      <th>max</th>\n",
       "    </tr>\n",
       "  </thead>\n",
       "  <tbody>\n",
       "    <tr>\n",
       "      <th>price</th>\n",
       "      <td>1000.000</td>\n",
       "      <td>498.673</td>\n",
       "      <td>93.785</td>\n",
       "      <td>223.347</td>\n",
       "      <td>433.026</td>\n",
       "      <td>502.382</td>\n",
       "      <td>564.922</td>\n",
       "      <td>774.408</td>\n",
       "    </tr>\n",
       "    <tr>\n",
       "      <th>feature1</th>\n",
       "      <td>1000.000</td>\n",
       "      <td>1000.014</td>\n",
       "      <td>0.974</td>\n",
       "      <td>997.058</td>\n",
       "      <td>999.332</td>\n",
       "      <td>1000.010</td>\n",
       "      <td>1000.638</td>\n",
       "      <td>1003.208</td>\n",
       "    </tr>\n",
       "    <tr>\n",
       "      <th>feature2</th>\n",
       "      <td>1000.000</td>\n",
       "      <td>999.980</td>\n",
       "      <td>0.948</td>\n",
       "      <td>996.996</td>\n",
       "      <td>999.316</td>\n",
       "      <td>1000.002</td>\n",
       "      <td>1000.645</td>\n",
       "      <td>1002.666</td>\n",
       "    </tr>\n",
       "  </tbody>\n",
       "</table>\n",
       "</div>"
      ],
      "text/plain": [
       "            count     mean    std     min     25%      50%      75%      max\n",
       "price    1000.000  498.673 93.785 223.347 433.026  502.382  564.922  774.408\n",
       "feature1 1000.000 1000.014  0.974 997.058 999.332 1000.010 1000.638 1003.208\n",
       "feature2 1000.000  999.980  0.948 996.996 999.316 1000.002 1000.645 1002.666"
      ]
     },
     "execution_count": 9,
     "metadata": {},
     "output_type": "execute_result"
    }
   ],
   "source": [
    "df.describe().T"
   ]
  },
  {
   "cell_type": "code",
   "execution_count": 10,
   "metadata": {
    "colab": {
     "base_uri": "https://localhost:8080/",
     "height": 550
    },
    "executionInfo": {
     "elapsed": 5313,
     "status": "ok",
     "timestamp": 1646490980423,
     "user": {
      "displayName": "Halit Vural",
      "photoUrl": "https://lh3.googleusercontent.com/a-/AOh14GisScAfZ6KCn4jI0rPbmdJoyR3tme3r8ialVbyy=s64",
      "userId": "00265643383934385648"
     },
     "user_tz": -180
    },
    "id": "lt1v7szefcIj",
    "outputId": "6ed1b592-540b-4a1d-8c9d-8b810f4b93ff"
   },
   "outputs": [
    {
     "data": {
      "image/png": "[encoded data removed]",
      "text/plain": [
       "<Figure size 540x540 with 12 Axes>"
      ]
     },
     "metadata": {},
     "output_type": "display_data"
    }
   ],
   "source": [
    "sns.pairplot(df);"
   ]
  },
  {
   "cell_type": "code",
   "execution_count": 11,
   "metadata": {
    "colab": {
     "base_uri": "https://localhost:8080/",
     "height": 144
    },
    "executionInfo": {
     "elapsed": 302,
     "status": "ok",
     "timestamp": 1646491033105,
     "user": {
      "displayName": "Halit Vural",
      "photoUrl": "https://lh3.googleusercontent.com/a-/AOh14GisScAfZ6KCn4jI0rPbmdJoyR3tme3r8ialVbyy=s64",
      "userId": "00265643383934385648"
     },
     "user_tz": -180
    },
    "id": "B9iuO4awfcIk",
    "outputId": "a2a7b1b2-c567-45db-d5c6-3f8af916c545"
   },
   "outputs": [
    {
     "data": {
      "text/html": [
       "<div>\n",
       "<style scoped>\n",
       "    .dataframe tbody tr th:only-of-type {\n",
       "        vertical-align: middle;\n",
       "    }\n",
       "\n",
       "    .dataframe tbody tr th {\n",
       "        vertical-align: top;\n",
       "    }\n",
       "\n",
       "    .dataframe thead th {\n",
       "        text-align: right;\n",
       "    }\n",
       "</style>\n",
       "<table border=\"1\" class=\"dataframe\">\n",
       "  <thead>\n",
       "    <tr style=\"text-align: right;\">\n",
       "      <th></th>\n",
       "      <th>price</th>\n",
       "      <th>feature1</th>\n",
       "      <th>feature2</th>\n",
       "    </tr>\n",
       "  </thead>\n",
       "  <tbody>\n",
       "    <tr>\n",
       "      <th>price</th>\n",
       "      <td>1.000</td>\n",
       "      <td>0.444</td>\n",
       "      <td>0.908</td>\n",
       "    </tr>\n",
       "    <tr>\n",
       "      <th>feature1</th>\n",
       "      <td>0.444</td>\n",
       "      <td>1.000</td>\n",
       "      <td>0.031</td>\n",
       "    </tr>\n",
       "    <tr>\n",
       "      <th>feature2</th>\n",
       "      <td>0.908</td>\n",
       "      <td>0.031</td>\n",
       "      <td>1.000</td>\n",
       "    </tr>\n",
       "  </tbody>\n",
       "</table>\n",
       "</div>"
      ],
      "text/plain": [
       "          price  feature1  feature2\n",
       "price     1.000     0.444     0.908\n",
       "feature1  0.444     1.000     0.031\n",
       "feature2  0.908     0.031     1.000"
      ]
     },
     "execution_count": 11,
     "metadata": {},
     "output_type": "execute_result"
    }
   ],
   "source": [
    "df.corr()"
   ]
  },
  {
   "cell_type": "markdown",
   "metadata": {
    "id": "dixoPMbDfcIk"
   },
   "source": [
    "## Preprocessing of Data\n",
    "- Train | Test Split, Scalling"
   ]
  },
  {
   "cell_type": "code",
   "execution_count": 12,
   "metadata": {
    "executionInfo": {
     "elapsed": 326,
     "status": "ok",
     "timestamp": 1646491048025,
     "user": {
      "displayName": "Halit Vural",
      "photoUrl": "https://lh3.googleusercontent.com/a-/AOh14GisScAfZ6KCn4jI0rPbmdJoyR3tme3r8ialVbyy=s64",
      "userId": "00265643383934385648"
     },
     "user_tz": -180
    },
    "id": "RQDsupmZfcIk"
   },
   "outputs": [],
   "source": [
    "from sklearn.model_selection import train_test_split"
   ]
  },
  {
   "cell_type": "markdown",
   "metadata": {
    "id": "VWKdwxMzhFBS"
   },
   "source": [
    "Deeplearning'de hız çok önemli olduğu için ve çok fazla işlem yapıldığı için veriyi array olarak aliyor.\n",
    "O yüzden \"values\" olarak alıyoruz. "
   ]
  },
  {
   "cell_type": "code",
   "execution_count": 13,
   "metadata": {
    "executionInfo": {
     "elapsed": 344,
     "status": "ok",
     "timestamp": 1646491049929,
     "user": {
      "displayName": "Halit Vural",
      "photoUrl": "https://lh3.googleusercontent.com/a-/AOh14GisScAfZ6KCn4jI0rPbmdJoyR3tme3r8ialVbyy=s64",
      "userId": "00265643383934385648"
     },
     "user_tz": -180
    },
    "id": "Gti9quWafcIk"
   },
   "outputs": [],
   "source": [
    "X = df[['feature1', 'feature2']].values\n",
    "y = df['price'].values"
   ]
  },
  {
   "cell_type": "code",
   "execution_count": 14,
   "metadata": {
    "colab": {
     "base_uri": "https://localhost:8080/"
    },
    "executionInfo": {
     "elapsed": 13,
     "status": "ok",
     "timestamp": 1646491052516,
     "user": {
      "displayName": "Halit Vural",
      "photoUrl": "https://lh3.googleusercontent.com/a-/AOh14GisScAfZ6KCn4jI0rPbmdJoyR3tme3r8ialVbyy=s64",
      "userId": "00265643383934385648"
     },
     "user_tz": -180
    },
    "id": "odz1OF4_fcIl",
    "outputId": "ac9a36b4-5173-4784-f18a-72ef4c546ccc"
   },
   "outputs": [
    {
     "data": {
      "text/plain": [
       "array([[ 999.78755752,  999.7660962 ],\n",
       "       [ 998.86161491, 1001.04240315],\n",
       "       [1000.07026691,  998.84401463],\n",
       "       ...,\n",
       "       [1001.45164617,  998.84760554],\n",
       "       [1000.77102275,  998.56285086],\n",
       "       [ 999.2322436 , 1001.45140713]])"
      ]
     },
     "execution_count": 14,
     "metadata": {},
     "output_type": "execute_result"
    }
   ],
   "source": [
    "X"
   ]
  },
  {
   "cell_type": "code",
   "execution_count": 15,
   "metadata": {
    "colab": {
     "base_uri": "https://localhost:8080/"
    },
    "executionInfo": {
     "elapsed": 331,
     "status": "ok",
     "timestamp": 1646491057113,
     "user": {
      "displayName": "Halit Vural",
      "photoUrl": "https://lh3.googleusercontent.com/a-/AOh14GisScAfZ6KCn4jI0rPbmdJoyR3tme3r8ialVbyy=s64",
      "userId": "00265643383934385648"
     },
     "user_tz": -180
    },
    "id": "N5zXpkNCfcIl",
    "outputId": "49ef28dd-2b25-40f3-e552-22e79bc79444"
   },
   "outputs": [
    {
     "data": {
      "text/plain": [
       "array([461.52792939, 548.13001146, 410.29716167, 540.38221981,\n",
       "       546.02455292, 542.9836716 , 555.48566416, 417.56972453,\n",
       "       373.14653122, 633.35029248, 624.24709206, 475.37241721,\n",
       "       600.36844486, 532.83295175, 472.8353628 , 506.31229096,\n",
       "       508.414406  , 610.4553519 , 323.65776198, 446.21230389,\n",
       "       362.12270299, 433.41064026, 562.00257647, 637.30962074,\n",
       "       522.80800754, 469.8028243 , 543.10992778, 565.43416994,\n",
       "       530.03285381, 610.58016503, 482.55641188, 327.56004052,\n",
       "       579.73083872, 448.42981468, 628.97709187, 536.79737216,\n",
       "       570.06729543, 357.82557519, 612.08492732, 444.67970846,\n",
       "       600.1186364 , 523.53312776, 512.94994495, 614.8813169 ,\n",
       "       404.35303251, 643.68851807, 488.95660398, 443.20468572,\n",
       "       514.47906638, 514.88174058, 325.05852217, 554.6620585 ,\n",
       "       451.39140001, 587.67887726, 477.73749721, 574.51560687,\n",
       "       548.9107991 , 528.69088356, 443.21100482, 397.88209319,\n",
       "       355.79535223, 460.69478138, 534.7673737 , 537.6067329 ,\n",
       "       603.66990347, 547.27579153, 567.30862153, 454.32901321,\n",
       "       492.60451447, 643.13593178, 477.4305163 , 497.41251837,\n",
       "       559.04378534, 576.67843837, 292.1917811 , 542.99539996,\n",
       "       547.73198239, 507.43439141, 408.12200074, 595.43348561,\n",
       "       463.3552036 , 468.35698045, 462.00480189, 410.35912407,\n",
       "       467.46059552, 497.23978613, 411.63794464, 583.06598409,\n",
       "       441.95036691, 536.04090915, 530.98717439, 364.50842093,\n",
       "       626.06865169, 434.62971003, 523.02344198, 484.10880902,\n",
       "       411.57560703, 722.26394433, 519.46299177, 558.50321048,\n",
       "       526.24297782, 531.27754687, 470.89067007, 459.92494538,\n",
       "       577.58298501, 599.90573138, 584.92843756, 357.34223391,\n",
       "       392.04726871, 515.77844597, 390.2092368 , 497.49148239,\n",
       "       506.74032509, 395.51477512, 239.65626376, 507.6052943 ,\n",
       "       628.84940437, 468.07324688, 444.9447339 , 527.31719596,\n",
       "       415.44298463, 363.4303791 , 591.86909195, 391.12466656,\n",
       "       526.1019196 , 402.00959595, 563.67781737, 362.24018346,\n",
       "       514.31349869, 322.31435197, 513.519732  , 340.05814212,\n",
       "       560.79471778, 489.79459784, 381.07367881, 558.34939279,\n",
       "       451.8041724 , 451.79140134, 442.17202786, 488.78691774,\n",
       "       433.09376956, 518.00709658, 511.69454654, 334.89459622,\n",
       "       490.78489309, 510.46356567, 565.02540892, 542.30140508,\n",
       "       655.42619806, 433.51753016, 373.06190748, 517.32199998,\n",
       "       609.96955536, 401.28033698, 540.74381886, 410.53824963,\n",
       "       441.7417974 , 448.70138654, 377.57042607, 450.85178618,\n",
       "       695.08064351, 548.94851249, 479.70887661, 345.01181992,\n",
       "       576.85255167, 337.95129476, 466.8394786 , 429.91541295,\n",
       "       567.88189283, 422.77852605, 559.7847254 , 503.75687251,\n",
       "       355.35228879, 622.37147383, 450.9760715 , 591.71413509,\n",
       "       522.42993416, 474.08634639, 423.05243386, 466.70445806,\n",
       "       481.92547045, 362.91867606, 566.05763935, 457.05958811,\n",
       "       580.88060484, 497.33921897, 519.17237518, 640.40485258,\n",
       "       477.25839763, 506.50370548, 634.2482933 , 311.87137765,\n",
       "       556.61215428, 446.36031515, 543.83027912, 617.61509904,\n",
       "       491.55128715, 441.90522674, 418.45717839, 524.47348399,\n",
       "       483.13482709, 622.99764305, 424.60840775, 515.14753991,\n",
       "       496.89047668, 534.23436696, 627.3802761 , 460.02329028,\n",
       "       338.13384172, 397.62059618, 562.05793604, 504.69389644,\n",
       "       490.99787402, 361.42640522, 608.12804021, 625.07938608,\n",
       "       461.38078609, 533.07210805, 438.26540597, 404.14239475,\n",
       "       458.52789767, 455.13953399, 521.87959462, 507.09798982,\n",
       "       480.80694031, 539.68399729, 376.32625533, 449.458484  ,\n",
       "       457.77794629, 531.16341758, 599.81185581, 526.67361757,\n",
       "       512.1515175 , 510.02950867, 391.26547583, 593.6677957 ,\n",
       "       415.60708684, 469.07283863, 485.22477592, 354.92884232,\n",
       "       316.63684801, 464.44494809, 649.39591652, 474.02501346,\n",
       "       551.56006043, 631.88915741, 597.71257172, 532.62879772,\n",
       "       445.58282142, 599.92382612, 375.95938044, 581.90748483,\n",
       "       464.9944057 , 417.23887206, 570.6460653 , 414.754452  ,\n",
       "       578.22402034, 405.92898949, 626.6797543 , 484.01952653,\n",
       "       275.33337527, 531.66193891, 223.34679276, 637.77896908,\n",
       "       553.87999612, 487.7379163 , 439.09025956, 378.04069831,\n",
       "       379.23669121, 537.12524033, 553.12387811, 505.69270877,\n",
       "       421.53806534, 510.88504979, 567.19470601, 697.70715802,\n",
       "       388.74663225, 578.32901814, 734.2765031 , 449.32814488,\n",
       "       512.04904895, 357.29591446, 360.23212493, 395.12045332,\n",
       "       423.70001699, 443.80983891, 595.96581968, 515.56181283,\n",
       "       531.9290881 , 530.13508628, 448.63240577, 527.61587693,\n",
       "       453.45829752, 417.54122635, 656.97308566, 546.23137991,\n",
       "       492.93591939, 379.90913372, 511.36670783, 503.51419982,\n",
       "       519.46055247, 611.14763688, 411.05157782, 403.41301547,\n",
       "       496.75415064, 466.00440866, 528.12861343, 633.45125327,\n",
       "       567.04497795, 435.09849106, 537.92888483, 452.71044444,\n",
       "       609.3840753 , 396.1965711 , 504.43137263, 626.69427794,\n",
       "       493.01201779, 724.47187575, 713.46667346, 565.19184559,\n",
       "       551.57372795, 451.89764782, 565.96723066, 367.7919044 ,\n",
       "       576.32144345, 579.42843094, 489.09760772, 487.18793877,\n",
       "       621.11885596, 481.90704139, 700.98368025, 599.99118092,\n",
       "       522.35888373, 646.8239136 , 568.61318745, 511.29824533,\n",
       "       760.65101669, 304.43261518, 543.32064222, 399.86651896,\n",
       "       585.16821441, 484.229812  , 425.84365096, 550.47494925,\n",
       "       325.79480263, 364.03501381, 439.49653517, 518.26312427,\n",
       "       693.9884929 , 512.59570173, 257.71199724, 524.32438029,\n",
       "       402.1955134 , 579.85178649, 476.07122974, 411.18423872,\n",
       "       367.76354239, 400.63495186, 609.58070746, 612.47025609,\n",
       "       366.3818868 , 485.50390003, 443.39703561, 479.56906767,\n",
       "       559.69848911, 432.82161991, 328.20550401, 524.37119547,\n",
       "       552.77893509, 630.61363933, 424.81078609, 375.13754715,\n",
       "       338.93370122, 574.74001083, 355.81485125, 378.79339707,\n",
       "       555.99978702, 642.3708192 , 347.87631327, 330.08230225,\n",
       "       392.70436827, 519.32640956, 612.7537015 , 469.24686052,\n",
       "       460.31999098, 646.25928592, 452.73449935, 446.6617038 ,\n",
       "       392.57787377, 419.11235041, 485.67140382, 533.55074599,\n",
       "       558.68796948, 433.41514433, 572.67843212, 474.34929884,\n",
       "       587.45566743, 603.60488162, 679.89502292, 454.02841184,\n",
       "       641.29636111, 523.12643425, 451.86441942, 369.91451298,\n",
       "       602.12024979, 589.28379767, 552.35874313, 497.82077751,\n",
       "       645.7084402 , 299.39441419, 416.37530318, 371.22410361,\n",
       "       305.42221221, 476.19497523, 718.25653986, 481.64581321,\n",
       "       449.79721212, 423.13089618, 487.23276805, 486.74414447,\n",
       "       333.08087339, 560.13543661, 711.65777328, 424.61108821,\n",
       "       367.88499002, 502.8467149 , 661.16436862, 422.44243544,\n",
       "       612.72791033, 526.44751951, 462.88163084, 574.57837765,\n",
       "       477.80625993, 431.18869681, 596.27161677, 367.04561733,\n",
       "       610.29650189, 573.83826959, 561.6815936 , 316.9505926 ,\n",
       "       353.78339461, 462.24239731, 395.74531349, 461.17944502,\n",
       "       265.31883491, 516.28603756, 495.54358534, 655.0298841 ,\n",
       "       361.96928555, 383.93441552, 339.21223298, 438.97699136,\n",
       "       518.36039543, 587.06918986, 513.58851064, 541.1289475 ,\n",
       "       318.2422866 , 407.41050587, 401.53996228, 530.27625921,\n",
       "       421.52951149, 509.05805746, 460.1838563 , 387.89272462,\n",
       "       560.93779062, 586.55980649, 426.36278463, 479.91915661,\n",
       "       525.70465661, 555.42087135, 530.68301453, 469.87238663,\n",
       "       606.31505182, 364.85210784, 360.16078118, 425.10615848,\n",
       "       365.56087755, 480.23012282, 533.48426265, 477.32136011,\n",
       "       685.07306529, 595.85363797, 510.87857855, 403.69954917,\n",
       "       493.96420737, 368.9200954 , 549.84762007, 601.76780838,\n",
       "       508.20389135, 418.93004519, 564.36822362, 604.11066099,\n",
       "       599.28050672, 527.88077226, 547.07286694, 576.8926402 ,\n",
       "       491.80281223, 518.70630218, 532.62653164, 685.21654079,\n",
       "       441.38724011, 315.51892903, 581.51143808, 585.15669192,\n",
       "       481.20614899, 470.46051802, 535.54367583, 489.05755196,\n",
       "       731.50955837, 539.7932304 , 421.26795581, 480.59911503,\n",
       "       530.21039882, 464.11587006, 633.4727288 , 449.41611879,\n",
       "       635.34706613, 537.24922805, 572.38065064, 553.90462877,\n",
       "       616.51060101, 402.29631873, 456.89995237, 505.74726413,\n",
       "       601.63849578, 510.88661196, 556.83209711, 379.10982057,\n",
       "       453.49681218, 594.68664574, 567.46368769, 498.9283394 ,\n",
       "       413.10071452, 437.18179741, 699.73384102, 351.42908062,\n",
       "       593.23051938, 544.18131004, 438.76371594, 446.87698755,\n",
       "       471.99435967, 461.14062423, 689.1734889 , 521.79699247,\n",
       "       603.88757737, 655.39140319, 369.78582541, 509.84188626,\n",
       "       475.17585767, 338.0902386 , 480.80616796, 587.30777032,\n",
       "       503.39000141, 518.12788339, 506.33929863, 647.36155957,\n",
       "       453.13824142, 396.04998476, 612.50533943, 618.93363459,\n",
       "       524.56895456, 666.06222545, 657.95491426, 496.06904958,\n",
       "       524.38393835, 461.49048992, 433.99838446, 572.31305385,\n",
       "       451.92641532, 362.68807582, 514.89474416, 427.36956977,\n",
       "       435.51362445, 566.27172557, 452.37238329, 375.62302356,\n",
       "       466.49020065, 465.17802914, 405.40016562, 427.74126221,\n",
       "       358.85061321, 481.53346268, 358.68011197, 375.31180205,\n",
       "       550.14246248, 556.54397565, 595.38094652, 512.58377753,\n",
       "       665.04739236, 549.29054549, 569.87336031, 550.29340062,\n",
       "       607.41940296, 617.37737732, 613.42662915, 604.57261409,\n",
       "       516.98581378, 401.89505573, 448.55357219, 475.94699622,\n",
       "       501.89188819, 498.6284209 , 474.2054026 , 568.60477798,\n",
       "       698.41041396, 550.89673991, 481.52436972, 498.46359085,\n",
       "       515.90099007, 478.08030334, 562.84736681, 578.52385723,\n",
       "       564.9556813 , 497.46472684, 526.34259721, 568.73205922,\n",
       "       439.65054024, 624.99250404, 370.74177754, 553.07681733,\n",
       "       414.85687715, 448.51914416, 347.1911182 , 631.56069392,\n",
       "       527.05754159, 553.32419751, 514.40564086, 444.05469284,\n",
       "       341.68789552, 565.24995494, 436.55494972, 548.61436053,\n",
       "       501.62206015, 362.24928105, 309.35587863, 435.26155328,\n",
       "       428.31614877, 308.22343125, 536.59066876, 774.40785445,\n",
       "       428.84321279, 552.88912902, 297.29389413, 637.85870827,\n",
       "       564.11153791, 648.01014932, 404.12928655, 508.82552564,\n",
       "       539.54049318, 467.66852221, 489.12458007, 571.18829179,\n",
       "       497.72274826, 396.92876859, 414.11072814, 406.28845394,\n",
       "       579.55848998, 406.6160671 , 515.21520276, 564.18681488,\n",
       "       578.58860646, 408.28620182, 581.54252662, 667.4812481 ,\n",
       "       622.86551828, 500.13304581, 379.13131207, 502.71948002,\n",
       "       343.73541799, 441.48474021, 499.21235117, 542.36204897,\n",
       "       547.62404325, 535.92947542, 461.52076712, 529.4394398 ,\n",
       "       521.61588724, 547.71292837, 584.38110772, 465.99980649,\n",
       "       489.99646515, 634.5322379 , 639.81836225, 500.7218448 ,\n",
       "       514.69378589, 380.13984916, 402.78860922, 507.44318662,\n",
       "       516.66204986, 246.73972006, 345.85149947, 728.54158643,\n",
       "       593.47480723, 623.05449555, 466.78702434, 524.96702947,\n",
       "       695.77282817, 498.19000033, 420.23890075, 449.25967508,\n",
       "       518.34877268, 608.64466352, 476.08427344, 425.4599912 ,\n",
       "       388.0260642 , 595.54443191, 606.21795936, 502.35831316,\n",
       "       470.9635849 , 565.07689035, 570.16851237, 505.63188399,\n",
       "       443.18691766, 387.64605588, 592.7579165 , 528.1454695 ,\n",
       "       610.09170764, 543.3237843 , 651.39612886, 552.91452026,\n",
       "       662.92504623, 571.70626262, 521.7744574 , 565.9362005 ,\n",
       "       526.29247961, 525.55617773, 547.12901446, 556.38156913,\n",
       "       643.55257205, 310.19085317, 316.97373493, 581.24757434,\n",
       "       675.76026898, 637.27161099, 503.27065876, 386.83158001,\n",
       "       449.22797293, 624.15619847, 708.0181058 , 436.66965907,\n",
       "       582.4550663 , 523.15977914, 454.01363039, 458.33002662,\n",
       "       553.13406068, 575.68656759, 399.74690881, 479.03778184,\n",
       "       377.13616236, 611.84754884, 457.69568614, 320.68694051,\n",
       "       607.66473078, 431.47987323, 536.00593624, 487.25310045,\n",
       "       357.11605236, 406.97496006, 367.88456147, 352.28258718,\n",
       "       428.43268624, 674.31102047, 455.03533539, 493.53818767,\n",
       "       323.74660823, 570.87438588, 522.35358676, 512.37078567,\n",
       "       344.445388  , 603.44292484, 494.19769248, 623.10445015,\n",
       "       615.5627227 , 501.09520221, 460.4308638 , 511.19375671,\n",
       "       619.10478486, 425.20422156, 439.38667763, 609.7226948 ,\n",
       "       520.97315983, 564.91022293, 574.57307473, 273.43263798,\n",
       "       416.57967214, 414.00400534, 602.54914671, 501.81396346,\n",
       "       657.25888889, 545.58520276, 363.11433585, 587.10134867,\n",
       "       535.98312568, 357.044414  , 543.91850962, 487.46952396,\n",
       "       491.03773416, 618.12341696, 442.93357949, 528.44015453,\n",
       "       492.87327105, 497.04387645, 606.29736199, 368.90204456,\n",
       "       463.83315596, 411.35636173, 670.21237633, 408.52236362,\n",
       "       484.43638366, 492.6419263 , 381.85298995, 613.95995262,\n",
       "       327.36024129, 491.79240663, 585.44412785, 380.3945669 ,\n",
       "       554.7626666 , 493.85668075, 526.2107462 , 385.39655988,\n",
       "       484.46159148, 332.22764352, 564.67207171, 649.44006825,\n",
       "       424.72778986, 618.08695111, 511.89276394, 331.12168828,\n",
       "       558.16409431, 493.56964948, 396.05573683, 631.37140169,\n",
       "       478.44486619, 628.54499456, 499.75474684, 506.8234736 ,\n",
       "       258.64403747, 478.35823792, 460.54250824, 552.62665953,\n",
       "       519.60816751, 456.98761551, 562.62597526, 560.98721013,\n",
       "       588.24268147, 579.43065472, 490.68891134, 372.77743562,\n",
       "       677.27628686, 420.76621323, 478.08636807, 608.79918051,\n",
       "       498.40036414, 351.09008918, 604.7965235 , 584.29415078,\n",
       "       552.36859639, 514.85636404, 324.75278473, 551.65009963,\n",
       "       646.42137115, 412.01627785, 542.05581314, 376.82027575,\n",
       "       485.65542199, 530.00104432, 531.48237221, 502.90170221,\n",
       "       320.22783441, 410.17228689, 307.49262471, 414.32154328,\n",
       "       429.47259522, 611.37280691, 579.49800824, 645.84815363,\n",
       "       528.21987259, 487.29933081, 530.99314592, 374.19760282,\n",
       "       453.82582684, 535.04562659, 381.36832678, 657.71868008,\n",
       "       403.06256371, 502.40592148, 612.48716221, 473.14373027,\n",
       "       648.49853653, 477.59301587, 478.85719007, 469.11310605,\n",
       "       558.87741587, 560.67805186, 484.56010504, 602.9701103 ,\n",
       "       501.88831717, 296.98984675, 409.95257743, 429.21452014,\n",
       "       529.71971585, 503.21614081, 656.65474461, 378.81430465,\n",
       "       627.64016416, 420.35676968, 347.19521436, 559.96108847,\n",
       "       437.90401436, 382.48198573, 446.61250992, 578.94348317,\n",
       "       427.85700338, 563.58363749, 603.55869587, 445.94046658,\n",
       "       577.31665049, 453.9716661 , 367.16096642, 591.50358214,\n",
       "       404.90316218, 403.90327413, 425.48260511, 657.80019814,\n",
       "       664.50877632, 503.05044876, 518.66756145, 544.49878325,\n",
       "       409.67675815, 338.5727094 , 427.48699506, 349.71799435,\n",
       "       434.38654316, 549.93636627, 524.5896561 , 502.90947332,\n",
       "       342.05906592, 622.03205011, 654.83912076, 434.69375374,\n",
       "       470.5546375 , 380.47707861, 560.3817655 , 549.2573511 ,\n",
       "       494.25163915, 450.42484415, 594.84047708, 412.90687671,\n",
       "       433.42313493, 512.04979227, 478.04811801, 413.29973991,\n",
       "       415.84564074, 511.58583419, 472.89142434, 657.93173622,\n",
       "       560.66409232, 587.74308283, 472.06766427, 390.86267833,\n",
       "       329.06703513, 526.72673086, 452.10238608, 413.87226234,\n",
       "       666.44170815, 487.7692307 , 560.63785511, 449.81047626,\n",
       "       499.94830987, 429.26772106, 508.91176483, 546.20393322,\n",
       "       621.59703226, 413.84178036, 449.02606966, 447.05319043,\n",
       "       595.48648065, 480.87733296, 667.70856487, 594.60958875,\n",
       "       600.04329091, 508.19978205, 359.19507992, 365.88328071,\n",
       "       576.73842525, 515.32519058, 423.65453319, 543.49227764,\n",
       "       577.29292367, 421.05894642, 625.08018462, 434.27528283,\n",
       "       657.73425067, 518.35614426, 481.86280607, 476.52607826,\n",
       "       457.31318609, 456.72099249, 403.31557562, 599.36709348])"
      ]
     },
     "execution_count": 15,
     "metadata": {},
     "output_type": "execute_result"
    }
   ],
   "source": [
    "y"
   ]
  },
  {
   "cell_type": "code",
   "execution_count": 16,
   "metadata": {
    "executionInfo": {
     "elapsed": 281,
     "status": "ok",
     "timestamp": 1646491249195,
     "user": {
      "displayName": "Halit Vural",
      "photoUrl": "https://lh3.googleusercontent.com/a-/AOh14GisScAfZ6KCn4jI0rPbmdJoyR3tme3r8ialVbyy=s64",
      "userId": "00265643383934385648"
     },
     "user_tz": -180
    },
    "id": "sAsJTYGYfcIl"
   },
   "outputs": [],
   "source": [
    "X_train, X_test, y_train, y_test = train_test_split(X, y, test_size = 0.3, random_state = 42)"
   ]
  },
  {
   "cell_type": "code",
   "execution_count": 17,
   "metadata": {
    "colab": {
     "base_uri": "https://localhost:8080/"
    },
    "executionInfo": {
     "elapsed": 7,
     "status": "ok",
     "timestamp": 1646491250488,
     "user": {
      "displayName": "Halit Vural",
      "photoUrl": "https://lh3.googleusercontent.com/a-/AOh14GisScAfZ6KCn4jI0rPbmdJoyR3tme3r8ialVbyy=s64",
      "userId": "00265643383934385648"
     },
     "user_tz": -180
    },
    "id": "OOOqjtSofcIl",
    "outputId": "8702e8b7-4130-4c9f-bb96-83011c700218"
   },
   "outputs": [
    {
     "data": {
      "text/plain": [
       "(700, 2)"
      ]
     },
     "execution_count": 17,
     "metadata": {},
     "output_type": "execute_result"
    }
   ],
   "source": [
    "X_train.shape"
   ]
  },
  {
   "cell_type": "code",
   "execution_count": 18,
   "metadata": {
    "colab": {
     "base_uri": "https://localhost:8080/"
    },
    "executionInfo": {
     "elapsed": 267,
     "status": "ok",
     "timestamp": 1646491252471,
     "user": {
      "displayName": "Halit Vural",
      "photoUrl": "https://lh3.googleusercontent.com/a-/AOh14GisScAfZ6KCn4jI0rPbmdJoyR3tme3r8ialVbyy=s64",
      "userId": "00265643383934385648"
     },
     "user_tz": -180
    },
    "id": "eDK4xrrKfcIl",
    "outputId": "f5010796-3f2d-43c6-c730-57f34af7f286"
   },
   "outputs": [
    {
     "data": {
      "text/plain": [
       "(300, 2)"
      ]
     },
     "execution_count": 18,
     "metadata": {},
     "output_type": "execute_result"
    }
   ],
   "source": [
    "X_test.shape"
   ]
  },
  {
   "cell_type": "code",
   "execution_count": 19,
   "metadata": {
    "executionInfo": {
     "elapsed": 370,
     "status": "ok",
     "timestamp": 1646491256707,
     "user": {
      "displayName": "Halit Vural",
      "photoUrl": "https://lh3.googleusercontent.com/a-/AOh14GisScAfZ6KCn4jI0rPbmdJoyR3tme3r8ialVbyy=s64",
      "userId": "00265643383934385648"
     },
     "user_tz": -180
    },
    "id": "cxTGcbA_fcIl"
   },
   "outputs": [],
   "source": [
    "from sklearn.preprocessing import MinMaxScaler"
   ]
  },
  {
   "cell_type": "code",
   "execution_count": 21,
   "metadata": {
    "executionInfo": {
     "elapsed": 2,
     "status": "ok",
     "timestamp": 1646491258588,
     "user": {
      "displayName": "Halit Vural",
      "photoUrl": "https://lh3.googleusercontent.com/a-/AOh14GisScAfZ6KCn4jI0rPbmdJoyR3tme3r8ialVbyy=s64",
      "userId": "00265643383934385648"
     },
     "user_tz": -180
    },
    "id": "HrjfgCVDfcIm"
   },
   "outputs": [],
   "source": [
    "scaler = MinMaxScaler()"
   ]
  },
  {
   "cell_type": "code",
   "execution_count": 22,
   "metadata": {
    "executionInfo": {
     "elapsed": 1,
     "status": "ok",
     "timestamp": 1646491260889,
     "user": {
      "displayName": "Halit Vural",
      "photoUrl": "https://lh3.googleusercontent.com/a-/AOh14GisScAfZ6KCn4jI0rPbmdJoyR3tme3r8ialVbyy=s64",
      "userId": "00265643383934385648"
     },
     "user_tz": -180
    },
    "id": "aXchRbVRfcIm"
   },
   "outputs": [],
   "source": [
    "scaler.fit(X_train)\n",
    "X_train = scaler.transform(X_train)\n",
    "X_test = scaler.transform(X_test)"
   ]
  },
  {
   "cell_type": "code",
   "execution_count": 23,
   "metadata": {
    "colab": {
     "base_uri": "https://localhost:8080/"
    },
    "executionInfo": {
     "elapsed": 281,
     "status": "ok",
     "timestamp": 1646491264034,
     "user": {
      "displayName": "Halit Vural",
      "photoUrl": "https://lh3.googleusercontent.com/a-/AOh14GisScAfZ6KCn4jI0rPbmdJoyR3tme3r8ialVbyy=s64",
      "userId": "00265643383934385648"
     },
     "user_tz": -180
    },
    "id": "oVWbOwA2fcIm",
    "outputId": "f8ff2183-7565-4bb1-efe5-c3cfc00ced17"
   },
   "outputs": [
    {
     "data": {
      "text/plain": [
       "1.0"
      ]
     },
     "execution_count": 23,
     "metadata": {},
     "output_type": "execute_result"
    }
   ],
   "source": [
    "X_train.max()"
   ]
  },
  {
   "cell_type": "code",
   "execution_count": 24,
   "metadata": {
    "colab": {
     "base_uri": "https://localhost:8080/"
    },
    "executionInfo": {
     "elapsed": 420,
     "status": "ok",
     "timestamp": 1646491266903,
     "user": {
      "displayName": "Halit Vural",
      "photoUrl": "https://lh3.googleusercontent.com/a-/AOh14GisScAfZ6KCn4jI0rPbmdJoyR3tme3r8ialVbyy=s64",
      "userId": "00265643383934385648"
     },
     "user_tz": -180
    },
    "id": "rGBu8fjWfcIm",
    "outputId": "d961c8f4-3416-4676-953e-077468d3ce19"
   },
   "outputs": [
    {
     "data": {
      "text/plain": [
       "0.0"
      ]
     },
     "execution_count": 24,
     "metadata": {},
     "output_type": "execute_result"
    }
   ],
   "source": [
    "X_train.min()"
   ]
  },
  {
   "cell_type": "markdown",
   "metadata": {
    "id": "MkLEE8QziLAx"
   },
   "source": [
    "Bu degerler normal."
   ]
  },
  {
   "cell_type": "code",
   "execution_count": 25,
   "metadata": {
    "colab": {
     "base_uri": "https://localhost:8080/"
    },
    "executionInfo": {
     "elapsed": 6,
     "status": "ok",
     "timestamp": 1646491268477,
     "user": {
      "displayName": "Halit Vural",
      "photoUrl": "https://lh3.googleusercontent.com/a-/AOh14GisScAfZ6KCn4jI0rPbmdJoyR3tme3r8ialVbyy=s64",
      "userId": "00265643383934385648"
     },
     "user_tz": -180
    },
    "id": "Td1m-7e5fcIm",
    "outputId": "43c8cf68-9024-4885-9666-9ba59218a05b"
   },
   "outputs": [
    {
     "data": {
      "text/plain": [
       "1.0186515935232023"
      ]
     },
     "execution_count": 25,
     "metadata": {},
     "output_type": "execute_result"
    }
   ],
   "source": [
    "X_test.max()"
   ]
  },
  {
   "cell_type": "code",
   "execution_count": 26,
   "metadata": {
    "colab": {
     "base_uri": "https://localhost:8080/"
    },
    "executionInfo": {
     "elapsed": 3,
     "status": "ok",
     "timestamp": 1646491270952,
     "user": {
      "displayName": "Halit Vural",
      "photoUrl": "https://lh3.googleusercontent.com/a-/AOh14GisScAfZ6KCn4jI0rPbmdJoyR3tme3r8ialVbyy=s64",
      "userId": "00265643383934385648"
     },
     "user_tz": -180
    },
    "id": "y0zh6BoXfcIn",
    "outputId": "562713c7-65b2-4a5c-bb11-fa6a40d00ea7"
   },
   "outputs": [
    {
     "data": {
      "text/plain": [
       "-0.014108392024525074"
      ]
     },
     "execution_count": 26,
     "metadata": {},
     "output_type": "execute_result"
    }
   ],
   "source": [
    "X_test.min()"
   ]
  },
  {
   "cell_type": "markdown",
   "metadata": {
    "id": "DikbUXwrfcIn"
   },
   "source": [
    "## Modelling"
   ]
  },
  {
   "cell_type": "code",
   "execution_count": 27,
   "metadata": {
    "executionInfo": {
     "elapsed": 299,
     "status": "ok",
     "timestamp": 1646491426125,
     "user": {
      "displayName": "Halit Vural",
      "photoUrl": "https://lh3.googleusercontent.com/a-/AOh14GisScAfZ6KCn4jI0rPbmdJoyR3tme3r8ialVbyy=s64",
      "userId": "00265643383934385648"
     },
     "user_tz": -180
    },
    "id": "AYgw-a2dfcIn"
   },
   "outputs": [],
   "source": [
    "from tensorflow.keras.models import Sequential\n",
    "from tensorflow.keras.layers import Dense, Activation"
   ]
  },
  {
   "cell_type": "markdown",
   "metadata": {
    "id": "EehgMHvaiWyg"
   },
   "source": [
    "Sequential:\n",
    "\n",
    "Genel bir yapi olusturmamizi sagliyor. Binanin iskeleti gibi.. Katmanlari belirliyor."
   ]
  },
  {
   "cell_type": "markdown",
   "metadata": {
    "id": "QZsIFFsXij9f"
   },
   "source": [
    "Dense:\n",
    "\n",
    "Katman (layer) cinsi.\n",
    "ANN'de en cok kullanacagimiz bu katman cinsi olacak."
   ]
  },
  {
   "cell_type": "code",
   "execution_count": 28,
   "metadata": {
    "executionInfo": {
     "elapsed": 291,
     "status": "ok",
     "timestamp": 1646491537984,
     "user": {
      "displayName": "Halit Vural",
      "photoUrl": "https://lh3.googleusercontent.com/a-/AOh14GisScAfZ6KCn4jI0rPbmdJoyR3tme3r8ialVbyy=s64",
      "userId": "00265643383934385648"
     },
     "user_tz": -180
    },
    "id": "hmzkIH9ffcIn"
   },
   "outputs": [
    {
     "name": "stderr",
     "output_type": "stream",
     "text": [
      "2022-08-11 00:49:42.834393: I tensorflow/core/platform/cpu_feature_guard.cc:193] This TensorFlow binary is optimized with oneAPI Deep Neural Network Library (oneDNN) to use the following CPU instructions in performance-critical operations:  AVX2 FMA\n",
      "To enable them in other operations, rebuild TensorFlow with the appropriate compiler flags.\n"
     ]
    }
   ],
   "source": [
    "# First way to create model\n",
    "\n",
    "model = Sequential([Dense(units = 4, activation = \"relu\"),\n",
    "                    Dense(units = 4, activation = \"relu\"),\n",
    "                    Dense(units = 4, activation = \"relu\"),\n",
    "                    Dense(units = 1)])"
   ]
  },
  {
   "cell_type": "markdown",
   "metadata": {
    "id": "TXwdNj3om-Hw"
   },
   "source": [
    "Her bir dense, bir katmani temsil ediyor.\n",
    "Birinci katmanda 4 neuron var. Bu neuron'larin aktivasyon fonksiyonu 'relu' methodu. Neuron sayisini degistirerek deneme yapiyoruz.\n",
    "\n",
    "Output layer son katman (units=1)\n",
    "\n",
    "Input layer belirtilmemis. Otomatik anliyor. Biz soylemek istersek\n",
    "\n",
    "<code> input_dim = X_train.shape[1] </code>\n",
    "\n",
    " kullanmaliyiz."
   ]
  },
  {
   "cell_type": "code",
   "execution_count": 29,
   "metadata": {
    "executionInfo": {
     "elapsed": 276,
     "status": "ok",
     "timestamp": 1646491540493,
     "user": {
      "displayName": "Halit Vural",
      "photoUrl": "https://lh3.googleusercontent.com/a-/AOh14GisScAfZ6KCn4jI0rPbmdJoyR3tme3r8ialVbyy=s64",
      "userId": "00265643383934385648"
     },
     "user_tz": -180
    },
    "id": "mKR5MTzhfcIo"
   },
   "outputs": [],
   "source": [
    "# Second way to create model (recommended)\n",
    "\n",
    "model = Sequential()\n",
    "model.add(Dense(units = 4, activation = \"relu\"))     # ,input_dim = X_train.shape[1])\n",
    "# model.add(Dense(units = 4, activation = \"relu\" ,input_dim = X_train.shape[1]))\n",
    "model.add(Dense(units = 4, activation = \"relu\"))\n",
    "model.add(Dense(units = 4, activation = \"relu\"))\n",
    "model.add(Dense(units = 1))"
   ]
  },
  {
   "cell_type": "markdown",
   "metadata": {
    "id": "a0fVuNPGoERo"
   },
   "source": [
    "Binanin ana catisini olusturduk. Icindeki esyalari doseyecegiz.\n",
    "\n",
    "Bu yapimiz nasil calisacaksa compile parametreleri belirliyor.\n",
    "\n",
    "Optimizer: optimize for a minimum error\n",
    "loss: loss function\n",
    "\n",
    "4 nöron seçmemizin bir mantığı yok. Genellikle 2 ve 2'nin katları şeklinde seçilir. Deneme yöntemiyle sonuca gidilir."
   ]
  },
  {
   "cell_type": "code",
   "execution_count": 33,
   "metadata": {
    "executionInfo": {
     "elapsed": 275,
     "status": "ok",
     "timestamp": 1646491542903,
     "user": {
      "displayName": "Halit Vural",
      "photoUrl": "https://lh3.googleusercontent.com/a-/AOh14GisScAfZ6KCn4jI0rPbmdJoyR3tme3r8ialVbyy=s64",
      "userId": "00265643383934385648"
     },
     "user_tz": -180
    },
    "id": "97ZC0cGNfcIo"
   },
   "outputs": [],
   "source": [
    "# optimizer, gradient descent'i uygulayıp min cost'u bulmaya çalışır\n",
    "# loss, bizim cost function'ımız\n",
    "# Regression problemleri için mse kullanılır\n",
    "\n",
    "model.compile(optimizer = \"rmsprop\", loss = \"mse\") "
   ]
  },
  {
   "cell_type": "markdown",
   "metadata": {
    "id": "EaI9i5HLfcIo"
   },
   "source": [
    "### Choosing an optimizer and loss\n",
    "\n",
    "Keep in mind what kind of problem you are trying to solve:\n",
    "\n",
    "    # For a multi-class classification problem\n",
    "    model.compile(optimizer='rmsprop',\n",
    "                  loss='categorical_crossentropy',\n",
    "                  metrics=['accuracy'])\n",
    "\n",
    "    # For a binary classification problem\n",
    "    model.compile(optimizer='rmsprop',\n",
    "                  loss='binary_crossentropy',\n",
    "                  metrics=['accuracy'])\n",
    "\n",
    "    # For a mean squared error regression problem\n",
    "    model.compile(optimizer='rmsprop',\n",
    "                  loss='mse')"
   ]
  },
  {
   "cell_type": "code",
   "execution_count": 34,
   "metadata": {
    "colab": {
     "base_uri": "https://localhost:8080/"
    },
    "executionInfo": {
     "elapsed": 12205,
     "status": "ok",
     "timestamp": 1646493308425,
     "user": {
      "displayName": "Halit Vural",
      "photoUrl": "https://lh3.googleusercontent.com/a-/AOh14GisScAfZ6KCn4jI0rPbmdJoyR3tme3r8ialVbyy=s64",
      "userId": "00265643383934385648"
     },
     "user_tz": -180
    },
    "id": "pz159zXpfcIo",
    "outputId": "5f33d006-9fea-4363-c202-5d04d711e6cd"
   },
   "outputs": [
    {
     "name": "stdout",
     "output_type": "stream",
     "text": [
      "Epoch 1/250\n",
      "22/22 [==============================] - 1s 3ms/step - loss: 256574.1094\n",
      "Epoch 2/250\n",
      "22/22 [==============================] - 0s 3ms/step - loss: 256464.3438\n",
      "Epoch 3/250\n",
      "22/22 [==============================] - 0s 3ms/step - loss: 256349.5156\n",
      "Epoch 4/250\n",
      "22/22 [==============================] - 0s 3ms/step - loss: 256222.1562\n",
      "Epoch 5/250\n",
      "22/22 [==============================] - 0s 3ms/step - loss: 256082.7031\n",
      "Epoch 6/250\n",
      "22/22 [==============================] - 0s 3ms/step - loss: 255929.7188\n",
      "Epoch 7/250\n",
      "22/22 [==============================] - 0s 3ms/step - loss: 255764.3438\n",
      "Epoch 8/250\n",
      "22/22 [==============================] - 0s 3ms/step - loss: 255583.7969\n",
      "Epoch 9/250\n",
      "22/22 [==============================] - 0s 3ms/step - loss: 255387.4531\n",
      "Epoch 10/250\n",
      "22/22 [==============================] - 0s 3ms/step - loss: 255175.5156\n",
      "Epoch 11/250\n",
      "22/22 [==============================] - 0s 3ms/step - loss: 254945.4688\n",
      "Epoch 12/250\n",
      "22/22 [==============================] - 0s 4ms/step - loss: 254699.7188\n",
      "Epoch 13/250\n",
      "22/22 [==============================] - 0s 2ms/step - loss: 254432.7344\n",
      "Epoch 14/250\n",
      "22/22 [==============================] - 0s 3ms/step - loss: 254147.0469\n",
      "Epoch 15/250\n",
      "22/22 [==============================] - 0s 3ms/step - loss: 253840.3906\n",
      "Epoch 16/250\n",
      "22/22 [==============================] - 0s 3ms/step - loss: 253512.1562\n",
      "Epoch 17/250\n",
      "22/22 [==============================] - 0s 3ms/step - loss: 253161.8906\n",
      "Epoch 18/250\n",
      "22/22 [==============================] - 0s 2ms/step - loss: 252787.5156\n",
      "Epoch 19/250\n",
      "22/22 [==============================] - 0s 3ms/step - loss: 252388.6406\n",
      "Epoch 20/250\n",
      "22/22 [==============================] - 0s 3ms/step - loss: 251962.5156\n",
      "Epoch 21/250\n",
      "22/22 [==============================] - 0s 3ms/step - loss: 251509.9688\n",
      "Epoch 22/250\n",
      "22/22 [==============================] - 0s 3ms/step - loss: 251029.3438\n",
      "Epoch 23/250\n",
      "22/22 [==============================] - 0s 3ms/step - loss: 250522.7656\n",
      "Epoch 24/250\n",
      "22/22 [==============================] - 0s 3ms/step - loss: 249982.2188\n",
      "Epoch 25/250\n",
      "22/22 [==============================] - 0s 3ms/step - loss: 249412.9844\n",
      "Epoch 26/250\n",
      "22/22 [==============================] - 0s 3ms/step - loss: 248810.4531\n",
      "Epoch 27/250\n",
      "22/22 [==============================] - 0s 3ms/step - loss: 248176.1094\n",
      "Epoch 28/250\n",
      "22/22 [==============================] - 0s 3ms/step - loss: 247505.2969\n",
      "Epoch 29/250\n",
      "22/22 [==============================] - 0s 4ms/step - loss: 246799.0156\n",
      "Epoch 30/250\n",
      "22/22 [==============================] - 0s 3ms/step - loss: 246051.5156\n",
      "Epoch 31/250\n",
      "22/22 [==============================] - 0s 3ms/step - loss: 245272.4844\n",
      "Epoch 32/250\n",
      "22/22 [==============================] - 0s 5ms/step - loss: 244456.1875\n",
      "Epoch 33/250\n",
      "22/22 [==============================] - 0s 5ms/step - loss: 243591.3906\n",
      "Epoch 34/250\n",
      "22/22 [==============================] - 0s 4ms/step - loss: 242688.7812\n",
      "Epoch 35/250\n",
      "22/22 [==============================] - 0s 4ms/step - loss: 241744.5781\n",
      "Epoch 36/250\n",
      "22/22 [==============================] - 0s 3ms/step - loss: 240756.3125\n",
      "Epoch 37/250\n",
      "22/22 [==============================] - 0s 3ms/step - loss: 239721.0781\n",
      "Epoch 38/250\n",
      "22/22 [==============================] - 0s 4ms/step - loss: 238637.3438\n",
      "Epoch 39/250\n",
      "22/22 [==============================] - 0s 6ms/step - loss: 237510.6719\n",
      "Epoch 40/250\n",
      "22/22 [==============================] - 0s 3ms/step - loss: 236334.7656\n",
      "Epoch 41/250\n",
      "22/22 [==============================] - 0s 4ms/step - loss: 235110.3594\n",
      "Epoch 42/250\n",
      "22/22 [==============================] - 0s 4ms/step - loss: 233832.1875\n",
      "Epoch 43/250\n",
      "22/22 [==============================] - 0s 4ms/step - loss: 232502.9062\n",
      "Epoch 44/250\n",
      "22/22 [==============================] - 0s 3ms/step - loss: 231123.6094\n",
      "Epoch 45/250\n",
      "22/22 [==============================] - 0s 2ms/step - loss: 229694.4531\n",
      "Epoch 46/250\n",
      "22/22 [==============================] - 0s 3ms/step - loss: 228199.8125\n",
      "Epoch 47/250\n",
      "22/22 [==============================] - 0s 4ms/step - loss: 226655.2031\n",
      "Epoch 48/250\n",
      "22/22 [==============================] - 0s 5ms/step - loss: 225051.5156\n",
      "Epoch 49/250\n",
      "22/22 [==============================] - 0s 4ms/step - loss: 223393.1250\n",
      "Epoch 50/250\n",
      "22/22 [==============================] - 0s 4ms/step - loss: 221668.6406\n",
      "Epoch 51/250\n",
      "22/22 [==============================] - 0s 3ms/step - loss: 219889.6719\n",
      "Epoch 52/250\n",
      "22/22 [==============================] - 0s 3ms/step - loss: 218055.3906\n",
      "Epoch 53/250\n",
      "22/22 [==============================] - 0s 3ms/step - loss: 216146.9688\n",
      "Epoch 54/250\n",
      "22/22 [==============================] - 0s 5ms/step - loss: 214186.0781\n",
      "Epoch 55/250\n",
      "22/22 [==============================] - 0s 3ms/step - loss: 212156.7500\n",
      "Epoch 56/250\n",
      "22/22 [==============================] - 0s 3ms/step - loss: 210061.0312\n",
      "Epoch 57/250\n",
      "22/22 [==============================] - 0s 3ms/step - loss: 207898.1094\n",
      "Epoch 58/250\n",
      "22/22 [==============================] - 0s 3ms/step - loss: 205680.0938\n",
      "Epoch 59/250\n",
      "22/22 [==============================] - 0s 3ms/step - loss: 203391.5625\n",
      "Epoch 60/250\n",
      "22/22 [==============================] - 0s 3ms/step - loss: 201044.1562\n",
      "Epoch 61/250\n",
      "22/22 [==============================] - 0s 3ms/step - loss: 198627.7500\n",
      "Epoch 62/250\n",
      "22/22 [==============================] - 0s 3ms/step - loss: 196133.0000\n",
      "Epoch 63/250\n",
      "22/22 [==============================] - 0s 3ms/step - loss: 193583.8125\n",
      "Epoch 64/250\n",
      "22/22 [==============================] - 0s 3ms/step - loss: 190960.8906\n",
      "Epoch 65/250\n",
      "22/22 [==============================] - 0s 3ms/step - loss: 188272.3438\n",
      "Epoch 66/250\n",
      "22/22 [==============================] - 0s 3ms/step - loss: 185523.1562\n",
      "Epoch 67/250\n",
      "22/22 [==============================] - 0s 3ms/step - loss: 182701.4375\n",
      "Epoch 68/250\n",
      "22/22 [==============================] - 0s 3ms/step - loss: 179821.2344\n",
      "Epoch 69/250\n",
      "22/22 [==============================] - 0s 2ms/step - loss: 176862.6562\n",
      "Epoch 70/250\n",
      "22/22 [==============================] - 0s 3ms/step - loss: 173840.0625\n",
      "Epoch 71/250\n",
      "22/22 [==============================] - 0s 3ms/step - loss: 170738.7500\n",
      "Epoch 72/250\n",
      "22/22 [==============================] - 0s 3ms/step - loss: 167595.0156\n",
      "Epoch 73/250\n",
      "22/22 [==============================] - 0s 3ms/step - loss: 164375.8594\n",
      "Epoch 74/250\n",
      "22/22 [==============================] - 0s 3ms/step - loss: 161104.0625\n",
      "Epoch 75/250\n",
      "22/22 [==============================] - 0s 2ms/step - loss: 157772.4219\n",
      "Epoch 76/250\n",
      "22/22 [==============================] - 0s 2ms/step - loss: 154377.6094\n",
      "Epoch 77/250\n",
      "22/22 [==============================] - 0s 4ms/step - loss: 150928.5312\n",
      "Epoch 78/250\n",
      "22/22 [==============================] - 0s 3ms/step - loss: 147391.7188\n",
      "Epoch 79/250\n",
      "22/22 [==============================] - 0s 3ms/step - loss: 143834.1875\n",
      "Epoch 80/250\n",
      "22/22 [==============================] - 0s 3ms/step - loss: 140203.3281\n",
      "Epoch 81/250\n",
      "22/22 [==============================] - 0s 3ms/step - loss: 136535.8438\n",
      "Epoch 82/250\n",
      "22/22 [==============================] - 0s 5ms/step - loss: 132829.6406\n",
      "Epoch 83/250\n",
      "22/22 [==============================] - 0s 5ms/step - loss: 129048.0000\n",
      "Epoch 84/250\n",
      "22/22 [==============================] - 0s 3ms/step - loss: 125212.3516\n",
      "Epoch 85/250\n",
      "22/22 [==============================] - 0s 3ms/step - loss: 121360.0703\n",
      "Epoch 86/250\n",
      "22/22 [==============================] - 0s 3ms/step - loss: 117462.5000\n",
      "Epoch 87/250\n",
      "22/22 [==============================] - 0s 3ms/step - loss: 113536.0938\n",
      "Epoch 88/250\n",
      "22/22 [==============================] - 0s 3ms/step - loss: 109581.0625\n",
      "Epoch 89/250\n",
      "22/22 [==============================] - 0s 2ms/step - loss: 105598.3984\n",
      "Epoch 90/250\n",
      "22/22 [==============================] - 0s 3ms/step - loss: 101599.2031\n",
      "Epoch 91/250\n",
      "22/22 [==============================] - 0s 7ms/step - loss: 97547.9297\n",
      "Epoch 92/250\n",
      "22/22 [==============================] - 0s 4ms/step - loss: 93517.0781\n",
      "Epoch 93/250\n",
      "22/22 [==============================] - 0s 3ms/step - loss: 89474.9297\n",
      "Epoch 94/250\n",
      "22/22 [==============================] - 0s 3ms/step - loss: 85415.9922\n",
      "Epoch 95/250\n",
      "22/22 [==============================] - 0s 3ms/step - loss: 81372.6406\n",
      "Epoch 96/250\n",
      "22/22 [==============================] - 0s 3ms/step - loss: 77327.5000\n",
      "Epoch 97/250\n",
      "22/22 [==============================] - 0s 3ms/step - loss: 73292.5859\n",
      "Epoch 98/250\n",
      "22/22 [==============================] - 0s 3ms/step - loss: 69276.8438\n",
      "Epoch 99/250\n",
      "22/22 [==============================] - 0s 2ms/step - loss: 65275.5430\n",
      "Epoch 100/250\n",
      "22/22 [==============================] - 0s 3ms/step - loss: 61323.0977\n",
      "Epoch 101/250\n",
      "22/22 [==============================] - 0s 3ms/step - loss: 57417.9609\n",
      "Epoch 102/250\n",
      "22/22 [==============================] - 0s 4ms/step - loss: 53560.8789\n",
      "Epoch 103/250\n",
      "22/22 [==============================] - 0s 3ms/step - loss: 49757.8164\n",
      "Epoch 104/250\n",
      "22/22 [==============================] - 0s 4ms/step - loss: 46034.3789\n",
      "Epoch 105/250\n",
      "22/22 [==============================] - 0s 3ms/step - loss: 42376.4766\n",
      "Epoch 106/250\n",
      "22/22 [==============================] - 0s 3ms/step - loss: 38828.6953\n",
      "Epoch 107/250\n",
      "22/22 [==============================] - 0s 2ms/step - loss: 35359.9883\n",
      "Epoch 108/250\n",
      "22/22 [==============================] - 0s 3ms/step - loss: 31972.5449\n",
      "Epoch 109/250\n",
      "22/22 [==============================] - 0s 2ms/step - loss: 28712.5762\n",
      "Epoch 110/250\n",
      "22/22 [==============================] - 0s 3ms/step - loss: 25606.0117\n",
      "Epoch 111/250\n",
      "22/22 [==============================] - 0s 2ms/step - loss: 22620.9922\n",
      "Epoch 112/250\n",
      "22/22 [==============================] - 0s 3ms/step - loss: 19790.1250\n",
      "Epoch 113/250\n",
      "22/22 [==============================] - 0s 3ms/step - loss: 17125.9355\n",
      "Epoch 114/250\n",
      "22/22 [==============================] - 0s 3ms/step - loss: 14628.4326\n",
      "Epoch 115/250\n",
      "22/22 [==============================] - 0s 2ms/step - loss: 12311.4014\n",
      "Epoch 116/250\n",
      "22/22 [==============================] - 0s 2ms/step - loss: 10191.0488\n",
      "Epoch 117/250\n",
      "22/22 [==============================] - 0s 4ms/step - loss: 8291.4219\n",
      "Epoch 118/250\n",
      "22/22 [==============================] - 0s 3ms/step - loss: 6627.9355\n",
      "Epoch 119/250\n",
      "22/22 [==============================] - 0s 3ms/step - loss: 5186.9795\n",
      "Epoch 120/250\n",
      "22/22 [==============================] - 0s 3ms/step - loss: 3986.5508\n",
      "Epoch 121/250\n",
      "22/22 [==============================] - 0s 3ms/step - loss: 3054.9607\n",
      "Epoch 122/250\n",
      "22/22 [==============================] - 0s 3ms/step - loss: 2387.9575\n",
      "Epoch 123/250\n",
      "22/22 [==============================] - 0s 3ms/step - loss: 1981.5629\n",
      "Epoch 124/250\n",
      "22/22 [==============================] - 0s 2ms/step - loss: 1775.6484\n",
      "Epoch 125/250\n",
      "22/22 [==============================] - 0s 2ms/step - loss: 1710.2418\n",
      "Epoch 126/250\n",
      "22/22 [==============================] - 0s 3ms/step - loss: 1686.4340\n",
      "Epoch 127/250\n",
      "22/22 [==============================] - 0s 3ms/step - loss: 1664.5996\n",
      "Epoch 128/250\n",
      "22/22 [==============================] - 0s 2ms/step - loss: 1643.3427\n",
      "Epoch 129/250\n",
      "22/22 [==============================] - 0s 2ms/step - loss: 1621.1173\n",
      "Epoch 130/250\n",
      "22/22 [==============================] - 0s 2ms/step - loss: 1599.8904\n",
      "Epoch 131/250\n",
      "22/22 [==============================] - 0s 2ms/step - loss: 1578.1355\n",
      "Epoch 132/250\n",
      "22/22 [==============================] - 0s 2ms/step - loss: 1557.8711\n",
      "Epoch 133/250\n",
      "22/22 [==============================] - 0s 3ms/step - loss: 1539.3267\n",
      "Epoch 134/250\n",
      "22/22 [==============================] - 0s 3ms/step - loss: 1519.3591\n",
      "Epoch 135/250\n",
      "22/22 [==============================] - 0s 3ms/step - loss: 1499.6434\n",
      "Epoch 136/250\n",
      "22/22 [==============================] - 0s 2ms/step - loss: 1478.5358\n",
      "Epoch 137/250\n",
      "22/22 [==============================] - 0s 2ms/step - loss: 1456.7811\n",
      "Epoch 138/250\n",
      "22/22 [==============================] - 0s 2ms/step - loss: 1436.5984\n",
      "Epoch 139/250\n",
      "22/22 [==============================] - 0s 2ms/step - loss: 1415.5161\n",
      "Epoch 140/250\n",
      "22/22 [==============================] - 0s 2ms/step - loss: 1396.0840\n",
      "Epoch 141/250\n",
      "22/22 [==============================] - 0s 2ms/step - loss: 1375.3735\n",
      "Epoch 142/250\n",
      "22/22 [==============================] - 0s 2ms/step - loss: 1358.0475\n",
      "Epoch 143/250\n",
      "22/22 [==============================] - 0s 5ms/step - loss: 1338.1760\n",
      "Epoch 144/250\n",
      "22/22 [==============================] - 0s 3ms/step - loss: 1319.2289\n",
      "Epoch 145/250\n",
      "22/22 [==============================] - 0s 3ms/step - loss: 1299.1125\n",
      "Epoch 146/250\n",
      "22/22 [==============================] - 0s 2ms/step - loss: 1278.9679\n",
      "Epoch 147/250\n",
      "22/22 [==============================] - 0s 2ms/step - loss: 1258.8546\n",
      "Epoch 148/250\n",
      "22/22 [==============================] - 0s 3ms/step - loss: 1238.0643\n",
      "Epoch 149/250\n",
      "22/22 [==============================] - 0s 3ms/step - loss: 1220.8030\n",
      "Epoch 150/250\n",
      "22/22 [==============================] - 0s 2ms/step - loss: 1201.1681\n",
      "Epoch 151/250\n",
      "22/22 [==============================] - 0s 3ms/step - loss: 1182.5391\n",
      "Epoch 152/250\n",
      "22/22 [==============================] - 0s 2ms/step - loss: 1165.1716\n",
      "Epoch 153/250\n",
      "22/22 [==============================] - 0s 2ms/step - loss: 1148.9397\n",
      "Epoch 154/250\n",
      "22/22 [==============================] - 0s 2ms/step - loss: 1130.7700\n",
      "Epoch 155/250\n",
      "22/22 [==============================] - 0s 4ms/step - loss: 1115.0923\n",
      "Epoch 156/250\n",
      "22/22 [==============================] - 0s 3ms/step - loss: 1098.2903\n",
      "Epoch 157/250\n",
      "22/22 [==============================] - 0s 2ms/step - loss: 1081.4280\n",
      "Epoch 158/250\n",
      "22/22 [==============================] - 0s 2ms/step - loss: 1063.3140\n",
      "Epoch 159/250\n",
      "22/22 [==============================] - 0s 3ms/step - loss: 1043.3368\n",
      "Epoch 160/250\n",
      "22/22 [==============================] - 0s 3ms/step - loss: 1025.6272\n",
      "Epoch 161/250\n",
      "22/22 [==============================] - 0s 5ms/step - loss: 1007.8195\n",
      "Epoch 162/250\n",
      "22/22 [==============================] - 0s 4ms/step - loss: 992.1713\n",
      "Epoch 163/250\n",
      "22/22 [==============================] - 0s 3ms/step - loss: 977.1498\n",
      "Epoch 164/250\n",
      "22/22 [==============================] - 0s 4ms/step - loss: 959.6642\n",
      "Epoch 165/250\n",
      "22/22 [==============================] - 0s 3ms/step - loss: 944.4045\n",
      "Epoch 166/250\n",
      "22/22 [==============================] - 0s 4ms/step - loss: 927.0648\n",
      "Epoch 167/250\n",
      "22/22 [==============================] - 0s 3ms/step - loss: 910.5826\n",
      "Epoch 168/250\n",
      "22/22 [==============================] - 0s 4ms/step - loss: 895.1171\n",
      "Epoch 169/250\n",
      "22/22 [==============================] - 0s 3ms/step - loss: 878.0557\n",
      "Epoch 170/250\n",
      "22/22 [==============================] - 0s 3ms/step - loss: 861.7244\n",
      "Epoch 171/250\n",
      "22/22 [==============================] - 0s 3ms/step - loss: 845.2245\n",
      "Epoch 172/250\n",
      "22/22 [==============================] - 0s 3ms/step - loss: 828.0731\n",
      "Epoch 173/250\n",
      "22/22 [==============================] - 0s 4ms/step - loss: 811.7795\n",
      "Epoch 174/250\n",
      "22/22 [==============================] - 0s 3ms/step - loss: 795.2579\n",
      "Epoch 175/250\n",
      "22/22 [==============================] - 0s 4ms/step - loss: 778.6437\n",
      "Epoch 176/250\n",
      "22/22 [==============================] - 0s 3ms/step - loss: 761.6078\n",
      "Epoch 177/250\n",
      "22/22 [==============================] - 0s 5ms/step - loss: 744.6932\n",
      "Epoch 178/250\n",
      "22/22 [==============================] - 0s 5ms/step - loss: 730.0176\n",
      "Epoch 179/250\n",
      "22/22 [==============================] - 0s 3ms/step - loss: 714.1730\n",
      "Epoch 180/250\n",
      "22/22 [==============================] - 0s 3ms/step - loss: 698.6291\n",
      "Epoch 181/250\n",
      "22/22 [==============================] - 0s 3ms/step - loss: 681.6118\n",
      "Epoch 182/250\n",
      "22/22 [==============================] - 0s 3ms/step - loss: 667.4474\n",
      "Epoch 183/250\n",
      "22/22 [==============================] - 0s 2ms/step - loss: 653.1269\n",
      "Epoch 184/250\n",
      "22/22 [==============================] - 0s 2ms/step - loss: 640.0696\n",
      "Epoch 185/250\n",
      "22/22 [==============================] - 0s 2ms/step - loss: 624.9015\n",
      "Epoch 186/250\n",
      "22/22 [==============================] - 0s 2ms/step - loss: 609.4178\n",
      "Epoch 187/250\n",
      "22/22 [==============================] - 0s 3ms/step - loss: 595.5343\n",
      "Epoch 188/250\n",
      "22/22 [==============================] - 0s 2ms/step - loss: 581.5535\n",
      "Epoch 189/250\n",
      "22/22 [==============================] - 0s 3ms/step - loss: 568.4119\n",
      "Epoch 190/250\n",
      "22/22 [==============================] - 0s 2ms/step - loss: 554.5214\n",
      "Epoch 191/250\n",
      "22/22 [==============================] - 0s 2ms/step - loss: 542.2415\n",
      "Epoch 192/250\n"
     ]
    },
    {
     "name": "stdout",
     "output_type": "stream",
     "text": [
      "22/22 [==============================] - 0s 2ms/step - loss: 528.6761\n",
      "Epoch 193/250\n",
      "22/22 [==============================] - 0s 3ms/step - loss: 515.4763\n",
      "Epoch 194/250\n",
      "22/22 [==============================] - 0s 2ms/step - loss: 502.2330\n",
      "Epoch 195/250\n",
      "22/22 [==============================] - 0s 2ms/step - loss: 488.4638\n",
      "Epoch 196/250\n",
      "22/22 [==============================] - 0s 2ms/step - loss: 476.7622\n",
      "Epoch 197/250\n",
      "22/22 [==============================] - 0s 2ms/step - loss: 462.4558\n",
      "Epoch 198/250\n",
      "22/22 [==============================] - 0s 2ms/step - loss: 449.6049\n",
      "Epoch 199/250\n",
      "22/22 [==============================] - 0s 2ms/step - loss: 437.1983\n",
      "Epoch 200/250\n",
      "22/22 [==============================] - 0s 3ms/step - loss: 425.1814\n",
      "Epoch 201/250\n",
      "22/22 [==============================] - 0s 4ms/step - loss: 413.9793\n",
      "Epoch 202/250\n",
      "22/22 [==============================] - 0s 4ms/step - loss: 401.8543\n",
      "Epoch 203/250\n",
      "22/22 [==============================] - 0s 3ms/step - loss: 389.8755\n",
      "Epoch 204/250\n",
      "22/22 [==============================] - 0s 3ms/step - loss: 378.9677\n",
      "Epoch 205/250\n",
      "22/22 [==============================] - 0s 2ms/step - loss: 368.5827\n",
      "Epoch 206/250\n",
      "22/22 [==============================] - 0s 2ms/step - loss: 357.3856\n",
      "Epoch 207/250\n",
      "22/22 [==============================] - 0s 2ms/step - loss: 345.8930\n",
      "Epoch 208/250\n",
      "22/22 [==============================] - 0s 2ms/step - loss: 333.9725\n",
      "Epoch 209/250\n",
      "22/22 [==============================] - 0s 3ms/step - loss: 323.0139\n",
      "Epoch 210/250\n",
      "22/22 [==============================] - 0s 2ms/step - loss: 312.0310\n",
      "Epoch 211/250\n",
      "22/22 [==============================] - 0s 2ms/step - loss: 302.3658\n",
      "Epoch 212/250\n",
      "22/22 [==============================] - 0s 2ms/step - loss: 292.2833\n",
      "Epoch 213/250\n",
      "22/22 [==============================] - 0s 2ms/step - loss: 283.3869\n",
      "Epoch 214/250\n",
      "22/22 [==============================] - 0s 2ms/step - loss: 273.2523\n",
      "Epoch 215/250\n",
      "22/22 [==============================] - 0s 2ms/step - loss: 263.7944\n",
      "Epoch 216/250\n",
      "22/22 [==============================] - 0s 3ms/step - loss: 253.9877\n",
      "Epoch 217/250\n",
      "22/22 [==============================] - 0s 2ms/step - loss: 245.0233\n",
      "Epoch 218/250\n",
      "22/22 [==============================] - 0s 2ms/step - loss: 236.7583\n",
      "Epoch 219/250\n",
      "22/22 [==============================] - 0s 3ms/step - loss: 227.1704\n",
      "Epoch 220/250\n",
      "22/22 [==============================] - 0s 3ms/step - loss: 218.4468\n",
      "Epoch 221/250\n",
      "22/22 [==============================] - 0s 2ms/step - loss: 209.6818\n",
      "Epoch 222/250\n",
      "22/22 [==============================] - 0s 2ms/step - loss: 201.0831\n",
      "Epoch 223/250\n",
      "22/22 [==============================] - 0s 2ms/step - loss: 193.5135\n",
      "Epoch 224/250\n",
      "22/22 [==============================] - 0s 2ms/step - loss: 185.5899\n",
      "Epoch 225/250\n",
      "22/22 [==============================] - 0s 2ms/step - loss: 178.3812\n",
      "Epoch 226/250\n",
      "22/22 [==============================] - 0s 2ms/step - loss: 170.2348\n",
      "Epoch 227/250\n",
      "22/22 [==============================] - 0s 3ms/step - loss: 163.3431\n",
      "Epoch 228/250\n",
      "22/22 [==============================] - 0s 3ms/step - loss: 157.0287\n",
      "Epoch 229/250\n",
      "22/22 [==============================] - 0s 3ms/step - loss: 149.9472\n",
      "Epoch 230/250\n",
      "22/22 [==============================] - 0s 3ms/step - loss: 144.2002\n",
      "Epoch 231/250\n",
      "22/22 [==============================] - 0s 3ms/step - loss: 138.1659\n",
      "Epoch 232/250\n",
      "22/22 [==============================] - 0s 3ms/step - loss: 132.8779\n",
      "Epoch 233/250\n",
      "22/22 [==============================] - 0s 3ms/step - loss: 126.7138\n",
      "Epoch 234/250\n",
      "22/22 [==============================] - 0s 2ms/step - loss: 121.2492\n",
      "Epoch 235/250\n",
      "22/22 [==============================] - 0s 2ms/step - loss: 116.4051\n",
      "Epoch 236/250\n",
      "22/22 [==============================] - 0s 2ms/step - loss: 109.8924\n",
      "Epoch 237/250\n",
      "22/22 [==============================] - 0s 2ms/step - loss: 105.3800\n",
      "Epoch 238/250\n",
      "22/22 [==============================] - 0s 2ms/step - loss: 99.8293\n",
      "Epoch 239/250\n",
      "22/22 [==============================] - 0s 3ms/step - loss: 95.1213\n",
      "Epoch 240/250\n",
      "22/22 [==============================] - 0s 3ms/step - loss: 89.6479\n",
      "Epoch 241/250\n",
      "22/22 [==============================] - 0s 2ms/step - loss: 85.9281\n",
      "Epoch 242/250\n",
      "22/22 [==============================] - 0s 2ms/step - loss: 81.1326\n",
      "Epoch 243/250\n",
      "22/22 [==============================] - 0s 2ms/step - loss: 77.2872\n",
      "Epoch 244/250\n",
      "22/22 [==============================] - 0s 3ms/step - loss: 73.6549\n",
      "Epoch 245/250\n",
      "22/22 [==============================] - 0s 2ms/step - loss: 69.5713\n",
      "Epoch 246/250\n",
      "22/22 [==============================] - 0s 2ms/step - loss: 66.3376\n",
      "Epoch 247/250\n",
      "22/22 [==============================] - 0s 2ms/step - loss: 62.9158\n",
      "Epoch 248/250\n",
      "22/22 [==============================] - 0s 2ms/step - loss: 59.6435\n",
      "Epoch 249/250\n",
      "22/22 [==============================] - 0s 2ms/step - loss: 56.6702\n",
      "Epoch 250/250\n",
      "22/22 [==============================] - 0s 2ms/step - loss: 53.3412\n"
     ]
    },
    {
     "data": {
      "text/plain": [
       "<keras.callbacks.History at 0x7f87148b3070>"
      ]
     },
     "execution_count": 34,
     "metadata": {},
     "output_type": "execute_result"
    }
   ],
   "source": [
    "model.fit(x = X_train, y = y_train, batch_size = 32, epochs = 250)"
   ]
  },
  {
   "cell_type": "markdown",
   "metadata": {
    "id": "nYjuTHt1oqtD"
   },
   "source": [
    "22/22 : train set = 700\n",
    "neuron total : 32\n",
    "\n",
    "700/32 => 21.875  -> 22\n",
    "\n",
    "\n",
    "loss: 22. (sonuncu) iterasyon hata degeri\n",
    "\n",
    "\n",
    "Farkli calismalar:\n",
    "* loss: 39.3861\n",
    "* loss: 24.0067\n",
    "\n"
   ]
  },
  {
   "cell_type": "code",
   "execution_count": 35,
   "metadata": {
    "colab": {
     "base_uri": "https://localhost:8080/"
    },
    "executionInfo": {
     "elapsed": 328,
     "status": "ok",
     "timestamp": 1646493349924,
     "user": {
      "displayName": "Halit Vural",
      "photoUrl": "https://lh3.googleusercontent.com/a-/AOh14GisScAfZ6KCn4jI0rPbmdJoyR3tme3r8ialVbyy=s64",
      "userId": "00265643383934385648"
     },
     "user_tz": -180
    },
    "id": "aQcb4f8XfcIo",
    "outputId": "e9372301-4bb4-45c4-ef37-ca7695098442"
   },
   "outputs": [
    {
     "name": "stdout",
     "output_type": "stream",
     "text": [
      "Model: \"sequential_1\"\n",
      "_________________________________________________________________\n",
      " Layer (type)                Output Shape              Param #   \n",
      "=================================================================\n",
      " dense_4 (Dense)             (None, 4)                 12        \n",
      "                                                                 \n",
      " dense_5 (Dense)             (None, 4)                 20        \n",
      "                                                                 \n",
      " dense_6 (Dense)             (None, 4)                 20        \n",
      "                                                                 \n",
      " dense_7 (Dense)             (None, 1)                 5         \n",
      "                                                                 \n",
      "=================================================================\n",
      "Total params: 57\n",
      "Trainable params: 57\n",
      "Non-trainable params: 0\n",
      "_________________________________________________________________\n"
     ]
    }
   ],
   "source": [
    "model.summary()"
   ]
  },
  {
   "cell_type": "markdown",
   "metadata": {
    "id": "j5sJurEVpnln"
   },
   "source": [
    "summary:\n",
    "\n",
    "2 x 4 = 8 neuron <br>\n",
    "8+4 = 12 parametre\n",
    "\n"
   ]
  },
  {
   "cell_type": "code",
   "execution_count": 36,
   "metadata": {
    "colab": {
     "base_uri": "https://localhost:8080/"
    },
    "executionInfo": {
     "elapsed": 30,
     "status": "ok",
     "timestamp": 1646491576150,
     "user": {
      "displayName": "Halit Vural",
      "photoUrl": "https://lh3.googleusercontent.com/a-/AOh14GisScAfZ6KCn4jI0rPbmdJoyR3tme3r8ialVbyy=s64",
      "userId": "00265643383934385648"
     },
     "user_tz": -180
    },
    "id": "XS4XdclkfcIp",
    "outputId": "da0ee4f4-1e08-4bad-b0dc-6bd5df51dbac"
   },
   "outputs": [
    {
     "data": {
      "text/plain": [
       "[<tf.Variable 'dense_4/kernel:0' shape=(2, 4) dtype=float32, numpy=\n",
       " array([[ 2.1726496 , -0.81679344,  2.4680634 , -0.48699927],\n",
       "        [ 4.7467875 , -0.3564546 ,  5.0251527 , -0.6945543 ]],\n",
       "       dtype=float32)>,\n",
       " <tf.Variable 'dense_4/bias:0' shape=(4,) dtype=float32, numpy=array([1.2536858, 0.       , 1.2449737, 0.       ], dtype=float32)>,\n",
       " <tf.Variable 'dense_5/kernel:0' shape=(4, 4) dtype=float32, numpy=\n",
       " array([[-0.41945586,  3.5756965 ,  0.7949204 ,  0.25546867],\n",
       "        [ 0.2833634 , -0.5866779 , -0.7633423 , -0.7274885 ],\n",
       "        [-0.10185921,  3.6681042 , -0.7691524 , -0.3179968 ],\n",
       "        [-0.27686584, -0.02929616, -0.6078316 , -0.73288274]],\n",
       "       dtype=float32)>,\n",
       " <tf.Variable 'dense_5/bias:0' shape=(4,) dtype=float32, numpy=array([ 0.        ,  1.2306515 , -0.01897367,  0.        ], dtype=float32)>,\n",
       " <tf.Variable 'dense_6/kernel:0' shape=(4, 4) dtype=float32, numpy=\n",
       " array([[ 5.8606547e-01,  2.9248863e-01, -1.9346273e-01,  1.5041828e-03],\n",
       "        [ 3.5010839e+00, -5.0424278e-01, -5.2690065e-01, -5.4665822e-01],\n",
       "        [-2.1765831e-01, -4.6704456e-01, -3.2729834e-01,  7.2428602e-01],\n",
       "        [-6.9336307e-01,  8.4291381e-01, -1.4194435e-01, -4.6004236e-02]],\n",
       "       dtype=float32)>,\n",
       " <tf.Variable 'dense_6/bias:0' shape=(4,) dtype=float32, numpy=array([1.215489, 0.      , 0.      , 0.      ], dtype=float32)>,\n",
       " <tf.Variable 'dense_7/kernel:0' shape=(4, 1) dtype=float32, numpy=\n",
       " array([[ 3.783775  ],\n",
       "        [ 0.99429846],\n",
       "        [-0.33631778],\n",
       "        [ 0.7379514 ]], dtype=float32)>,\n",
       " <tf.Variable 'dense_7/bias:0' shape=(1,) dtype=float32, numpy=array([1.203122], dtype=float32)>]"
      ]
     },
     "execution_count": 36,
     "metadata": {},
     "output_type": "execute_result"
    }
   ],
   "source": [
    "model.weights"
   ]
  },
  {
   "cell_type": "markdown",
   "metadata": {
    "id": "x_-9dgAXqF9i"
   },
   "source": [
    "weights: katman katman agirlik degerlerini ve bias degerlerini gorebiliriz.\n",
    "\n",
    "\n",
    "history: olusan loss degerlerini gorelim.."
   ]
  },
  {
   "cell_type": "code",
   "execution_count": 37,
   "metadata": {
    "colab": {
     "base_uri": "https://localhost:8080/"
    },
    "executionInfo": {
     "elapsed": 28,
     "status": "ok",
     "timestamp": 1646491576153,
     "user": {
      "displayName": "Halit Vural",
      "photoUrl": "https://lh3.googleusercontent.com/a-/AOh14GisScAfZ6KCn4jI0rPbmdJoyR3tme3r8ialVbyy=s64",
      "userId": "00265643383934385648"
     },
     "user_tz": -180
    },
    "id": "Sq8iU52RfcIp",
    "outputId": "055e768d-9c76-4bcd-f407-eb43336c0710"
   },
   "outputs": [
    {
     "data": {
      "text/plain": [
       "{'loss': [256574.109375,\n",
       "  256464.34375,\n",
       "  256349.515625,\n",
       "  256222.15625,\n",
       "  256082.703125,\n",
       "  255929.71875,\n",
       "  255764.34375,\n",
       "  255583.796875,\n",
       "  255387.453125,\n",
       "  255175.515625,\n",
       "  254945.46875,\n",
       "  254699.71875,\n",
       "  254432.734375,\n",
       "  254147.046875,\n",
       "  253840.390625,\n",
       "  253512.15625,\n",
       "  253161.890625,\n",
       "  252787.515625,\n",
       "  252388.640625,\n",
       "  251962.515625,\n",
       "  251509.96875,\n",
       "  251029.34375,\n",
       "  250522.765625,\n",
       "  249982.21875,\n",
       "  249412.984375,\n",
       "  248810.453125,\n",
       "  248176.109375,\n",
       "  247505.296875,\n",
       "  246799.015625,\n",
       "  246051.515625,\n",
       "  245272.484375,\n",
       "  244456.1875,\n",
       "  243591.390625,\n",
       "  242688.78125,\n",
       "  241744.578125,\n",
       "  240756.3125,\n",
       "  239721.078125,\n",
       "  238637.34375,\n",
       "  237510.671875,\n",
       "  236334.765625,\n",
       "  235110.359375,\n",
       "  233832.1875,\n",
       "  232502.90625,\n",
       "  231123.609375,\n",
       "  229694.453125,\n",
       "  228199.8125,\n",
       "  226655.203125,\n",
       "  225051.515625,\n",
       "  223393.125,\n",
       "  221668.640625,\n",
       "  219889.671875,\n",
       "  218055.390625,\n",
       "  216146.96875,\n",
       "  214186.078125,\n",
       "  212156.75,\n",
       "  210061.03125,\n",
       "  207898.109375,\n",
       "  205680.09375,\n",
       "  203391.5625,\n",
       "  201044.15625,\n",
       "  198627.75,\n",
       "  196133.0,\n",
       "  193583.8125,\n",
       "  190960.890625,\n",
       "  188272.34375,\n",
       "  185523.15625,\n",
       "  182701.4375,\n",
       "  179821.234375,\n",
       "  176862.65625,\n",
       "  173840.0625,\n",
       "  170738.75,\n",
       "  167595.015625,\n",
       "  164375.859375,\n",
       "  161104.0625,\n",
       "  157772.421875,\n",
       "  154377.609375,\n",
       "  150928.53125,\n",
       "  147391.71875,\n",
       "  143834.1875,\n",
       "  140203.328125,\n",
       "  136535.84375,\n",
       "  132829.640625,\n",
       "  129048.0,\n",
       "  125212.3515625,\n",
       "  121360.0703125,\n",
       "  117462.5,\n",
       "  113536.09375,\n",
       "  109581.0625,\n",
       "  105598.3984375,\n",
       "  101599.203125,\n",
       "  97547.9296875,\n",
       "  93517.078125,\n",
       "  89474.9296875,\n",
       "  85415.9921875,\n",
       "  81372.640625,\n",
       "  77327.5,\n",
       "  73292.5859375,\n",
       "  69276.84375,\n",
       "  65275.54296875,\n",
       "  61323.09765625,\n",
       "  57417.9609375,\n",
       "  53560.87890625,\n",
       "  49757.81640625,\n",
       "  46034.37890625,\n",
       "  42376.4765625,\n",
       "  38828.6953125,\n",
       "  35359.98828125,\n",
       "  31972.544921875,\n",
       "  28712.576171875,\n",
       "  25606.01171875,\n",
       "  22620.9921875,\n",
       "  19790.125,\n",
       "  17125.935546875,\n",
       "  14628.4326171875,\n",
       "  12311.4013671875,\n",
       "  10191.048828125,\n",
       "  8291.421875,\n",
       "  6627.935546875,\n",
       "  5186.9794921875,\n",
       "  3986.55078125,\n",
       "  3054.960693359375,\n",
       "  2387.95751953125,\n",
       "  1981.5628662109375,\n",
       "  1775.6484375,\n",
       "  1710.2418212890625,\n",
       "  1686.4339599609375,\n",
       "  1664.599609375,\n",
       "  1643.3426513671875,\n",
       "  1621.1173095703125,\n",
       "  1599.890380859375,\n",
       "  1578.135498046875,\n",
       "  1557.87109375,\n",
       "  1539.32666015625,\n",
       "  1519.359130859375,\n",
       "  1499.6434326171875,\n",
       "  1478.5357666015625,\n",
       "  1456.7811279296875,\n",
       "  1436.598388671875,\n",
       "  1415.51611328125,\n",
       "  1396.083984375,\n",
       "  1375.37353515625,\n",
       "  1358.0474853515625,\n",
       "  1338.176025390625,\n",
       "  1319.2288818359375,\n",
       "  1299.112548828125,\n",
       "  1278.9678955078125,\n",
       "  1258.8546142578125,\n",
       "  1238.0643310546875,\n",
       "  1220.802978515625,\n",
       "  1201.1680908203125,\n",
       "  1182.5390625,\n",
       "  1165.171630859375,\n",
       "  1148.939697265625,\n",
       "  1130.77001953125,\n",
       "  1115.09228515625,\n",
       "  1098.290283203125,\n",
       "  1081.427978515625,\n",
       "  1063.31396484375,\n",
       "  1043.3367919921875,\n",
       "  1025.627197265625,\n",
       "  1007.8194580078125,\n",
       "  992.1712646484375,\n",
       "  977.1498413085938,\n",
       "  959.6641845703125,\n",
       "  944.4044799804688,\n",
       "  927.0647583007812,\n",
       "  910.5825805664062,\n",
       "  895.1171264648438,\n",
       "  878.0557250976562,\n",
       "  861.724365234375,\n",
       "  845.2244873046875,\n",
       "  828.0730590820312,\n",
       "  811.779541015625,\n",
       "  795.2578735351562,\n",
       "  778.6436767578125,\n",
       "  761.6078491210938,\n",
       "  744.6931762695312,\n",
       "  730.0176391601562,\n",
       "  714.1729736328125,\n",
       "  698.6290893554688,\n",
       "  681.6117553710938,\n",
       "  667.4474487304688,\n",
       "  653.1268920898438,\n",
       "  640.069580078125,\n",
       "  624.9014892578125,\n",
       "  609.4178466796875,\n",
       "  595.5343017578125,\n",
       "  581.5535278320312,\n",
       "  568.4119262695312,\n",
       "  554.5213623046875,\n",
       "  542.241455078125,\n",
       "  528.6760864257812,\n",
       "  515.4762573242188,\n",
       "  502.2330322265625,\n",
       "  488.4638366699219,\n",
       "  476.7622375488281,\n",
       "  462.4558410644531,\n",
       "  449.6049499511719,\n",
       "  437.1983337402344,\n",
       "  425.181396484375,\n",
       "  413.9792785644531,\n",
       "  401.8543395996094,\n",
       "  389.87548828125,\n",
       "  378.96771240234375,\n",
       "  368.5826721191406,\n",
       "  357.3855895996094,\n",
       "  345.8930358886719,\n",
       "  333.9725341796875,\n",
       "  323.01385498046875,\n",
       "  312.0309753417969,\n",
       "  302.3658142089844,\n",
       "  292.28326416015625,\n",
       "  283.3869323730469,\n",
       "  273.25225830078125,\n",
       "  263.79443359375,\n",
       "  253.98765563964844,\n",
       "  245.02325439453125,\n",
       "  236.7582550048828,\n",
       "  227.17037963867188,\n",
       "  218.44676208496094,\n",
       "  209.68179321289062,\n",
       "  201.08314514160156,\n",
       "  193.5135040283203,\n",
       "  185.58985900878906,\n",
       "  178.3811798095703,\n",
       "  170.2348175048828,\n",
       "  163.3431396484375,\n",
       "  157.0287322998047,\n",
       "  149.94715881347656,\n",
       "  144.2002410888672,\n",
       "  138.16586303710938,\n",
       "  132.8778533935547,\n",
       "  126.71376037597656,\n",
       "  121.24915313720703,\n",
       "  116.4050521850586,\n",
       "  109.89238739013672,\n",
       "  105.37996673583984,\n",
       "  99.82930755615234,\n",
       "  95.12128448486328,\n",
       "  89.64788818359375,\n",
       "  85.92813110351562,\n",
       "  81.13263702392578,\n",
       "  77.28718566894531,\n",
       "  73.65487670898438,\n",
       "  69.57125854492188,\n",
       "  66.33761596679688,\n",
       "  62.91576385498047,\n",
       "  59.64350891113281,\n",
       "  56.6701774597168,\n",
       "  53.34115982055664]}"
      ]
     },
     "execution_count": 37,
     "metadata": {},
     "output_type": "execute_result"
    }
   ],
   "source": [
    "model.history.history"
   ]
  },
  {
   "cell_type": "markdown",
   "metadata": {
    "id": "GYkacaASqYaU"
   },
   "source": [
    "Bu degerleri gorsellestirip daha okunur hale getirelim:"
   ]
  },
  {
   "cell_type": "code",
   "execution_count": 38,
   "metadata": {
    "colab": {
     "base_uri": "https://localhost:8080/",
     "height": 424
    },
    "executionInfo": {
     "elapsed": 24,
     "status": "ok",
     "timestamp": 1646491576154,
     "user": {
      "displayName": "Halit Vural",
      "photoUrl": "https://lh3.googleusercontent.com/a-/AOh14GisScAfZ6KCn4jI0rPbmdJoyR3tme3r8ialVbyy=s64",
      "userId": "00265643383934385648"
     },
     "user_tz": -180
    },
    "id": "kPe_RY8PfcIp",
    "outputId": "c0990097-72a6-4618-fd55-5240da8b453d"
   },
   "outputs": [
    {
     "data": {
      "text/html": [
       "<div>\n",
       "<style scoped>\n",
       "    .dataframe tbody tr th:only-of-type {\n",
       "        vertical-align: middle;\n",
       "    }\n",
       "\n",
       "    .dataframe tbody tr th {\n",
       "        vertical-align: top;\n",
       "    }\n",
       "\n",
       "    .dataframe thead th {\n",
       "        text-align: right;\n",
       "    }\n",
       "</style>\n",
       "<table border=\"1\" class=\"dataframe\">\n",
       "  <thead>\n",
       "    <tr style=\"text-align: right;\">\n",
       "      <th></th>\n",
       "      <th>loss</th>\n",
       "    </tr>\n",
       "  </thead>\n",
       "  <tbody>\n",
       "    <tr>\n",
       "      <th>0</th>\n",
       "      <td>256574.109</td>\n",
       "    </tr>\n",
       "    <tr>\n",
       "      <th>1</th>\n",
       "      <td>256464.344</td>\n",
       "    </tr>\n",
       "    <tr>\n",
       "      <th>2</th>\n",
       "      <td>256349.516</td>\n",
       "    </tr>\n",
       "    <tr>\n",
       "      <th>3</th>\n",
       "      <td>256222.156</td>\n",
       "    </tr>\n",
       "    <tr>\n",
       "      <th>4</th>\n",
       "      <td>256082.703</td>\n",
       "    </tr>\n",
       "    <tr>\n",
       "      <th>...</th>\n",
       "      <td>...</td>\n",
       "    </tr>\n",
       "    <tr>\n",
       "      <th>245</th>\n",
       "      <td>66.338</td>\n",
       "    </tr>\n",
       "    <tr>\n",
       "      <th>246</th>\n",
       "      <td>62.916</td>\n",
       "    </tr>\n",
       "    <tr>\n",
       "      <th>247</th>\n",
       "      <td>59.644</td>\n",
       "    </tr>\n",
       "    <tr>\n",
       "      <th>248</th>\n",
       "      <td>56.670</td>\n",
       "    </tr>\n",
       "    <tr>\n",
       "      <th>249</th>\n",
       "      <td>53.341</td>\n",
       "    </tr>\n",
       "  </tbody>\n",
       "</table>\n",
       "<p>250 rows × 1 columns</p>\n",
       "</div>"
      ],
      "text/plain": [
       "          loss\n",
       "0   256574.109\n",
       "1   256464.344\n",
       "2   256349.516\n",
       "3   256222.156\n",
       "4   256082.703\n",
       "..         ...\n",
       "245     66.338\n",
       "246     62.916\n",
       "247     59.644\n",
       "248     56.670\n",
       "249     53.341\n",
       "\n",
       "[250 rows x 1 columns]"
      ]
     },
     "execution_count": 38,
     "metadata": {},
     "output_type": "execute_result"
    }
   ],
   "source": [
    "pd.DataFrame(model.history.history)"
   ]
  },
  {
   "cell_type": "code",
   "execution_count": 40,
   "metadata": {
    "colab": {
     "base_uri": "https://localhost:8080/",
     "height": 392
    },
    "executionInfo": {
     "elapsed": 383,
     "status": "ok",
     "timestamp": 1646491576514,
     "user": {
      "displayName": "Halit Vural",
      "photoUrl": "https://lh3.googleusercontent.com/a-/AOh14GisScAfZ6KCn4jI0rPbmdJoyR3tme3r8ialVbyy=s64",
      "userId": "00265643383934385648"
     },
     "user_tz": -180
    },
    "id": "EzSdVAo3fcIp",
    "outputId": "2775416e-6239-4bed-d111-6b7bd60780d0"
   },
   "outputs": [
    {
     "data": {
      "image/png": "[encoded data removed]",
      "text/plain": [
       "<Figure size 720x432 with 1 Axes>"
      ]
     },
     "metadata": {},
     "output_type": "display_data"
    }
   ],
   "source": [
    "loss_df = pd.DataFrame(model.history.history)\n",
    "loss_df.plot();"
   ]
  },
  {
   "cell_type": "markdown",
   "metadata": {
    "id": "9VbHXlDVqkJz"
   },
   "source": [
    "Ogrenme hizini bu egriden anliyoruz.\n",
    "\n",
    "batch size: kac adimda bir agirliklarimi yenileyecegimi belirtir."
   ]
  },
  {
   "cell_type": "code",
   "execution_count": 41,
   "metadata": {
    "colab": {
     "base_uri": "https://localhost:8080/",
     "height": 422
    },
    "executionInfo": {
     "elapsed": 22,
     "status": "ok",
     "timestamp": 1646491576515,
     "user": {
      "displayName": "Halit Vural",
      "photoUrl": "https://lh3.googleusercontent.com/a-/AOh14GisScAfZ6KCn4jI0rPbmdJoyR3tme3r8ialVbyy=s64",
      "userId": "00265643383934385648"
     },
     "user_tz": -180
    },
    "id": "ERiaaHHdfcIp",
    "outputId": "c50431df-344e-4283-c5ba-cb288825bcb3"
   },
   "outputs": [
    {
     "data": {
      "text/plain": [
       "(0.0, 3000.0)"
      ]
     },
     "execution_count": 41,
     "metadata": {},
     "output_type": "execute_result"
    },
    {
     "data": {
      "image/png": "[encoded data removed]",
      "text/plain": [
       "<Figure size 720x432 with 1 Axes>"
      ]
     },
     "metadata": {},
     "output_type": "display_data"
    }
   ],
   "source": [
    "fig, ax= plt.subplots()\n",
    "ax.plot(loss_df)\n",
    "ax.set_xlabel(\"epoch\")\n",
    "ax.set_ylabel(\"loss\")\n",
    "ax.set_title(\"loss - epoch graph\")\n",
    "ax.set_xlim([0, 250]) # focusing on the given x values\n",
    "ax.set_ylim([0, 3000]) # focusing on the given y values"
   ]
  },
  {
   "cell_type": "markdown",
   "metadata": {
    "id": "9wvwRnIcqp41"
   },
   "source": [
    "model 250'de ogrenme seviyesine gelmis. Her calistirmada bu degisebilir. Grafikten goruyoruz."
   ]
  },
  {
   "cell_type": "markdown",
   "metadata": {
    "id": "YNQJI5k9fcIq"
   },
   "source": [
    "## Model Performance"
   ]
  },
  {
   "cell_type": "code",
   "execution_count": 42,
   "metadata": {
    "executionInfo": {
     "elapsed": 314,
     "status": "ok",
     "timestamp": 1646493749766,
     "user": {
      "displayName": "Halit Vural",
      "photoUrl": "https://lh3.googleusercontent.com/a-/AOh14GisScAfZ6KCn4jI0rPbmdJoyR3tme3r8ialVbyy=s64",
      "userId": "00265643383934385648"
     },
     "user_tz": -180
    },
    "id": "n2wcNHlBfcIq"
   },
   "outputs": [],
   "source": [
    "from sklearn.metrics import mean_squared_error, mean_absolute_error, r2_score, explained_variance_score"
   ]
  },
  {
   "cell_type": "code",
   "execution_count": 43,
   "metadata": {
    "colab": {
     "base_uri": "https://localhost:8080/"
    },
    "executionInfo": {
     "elapsed": 358,
     "status": "ok",
     "timestamp": 1646493752430,
     "user": {
      "displayName": "Halit Vural",
      "photoUrl": "https://lh3.googleusercontent.com/a-/AOh14GisScAfZ6KCn4jI0rPbmdJoyR3tme3r8ialVbyy=s64",
      "userId": "00265643383934385648"
     },
     "user_tz": -180
    },
    "id": "bfqG50a6fcIq",
    "outputId": "4dd0ed16-137b-4cc9-b5d5-f50639f35127"
   },
   "outputs": [
    {
     "data": {
      "text/plain": [
       "52.06591033935547"
      ]
     },
     "execution_count": 43,
     "metadata": {},
     "output_type": "execute_result"
    }
   ],
   "source": [
    "model.evaluate(X_train, y_train, verbose=0)"
   ]
  },
  {
   "cell_type": "markdown",
   "metadata": {
    "id": "cqL7XolGrTTy"
   },
   "source": [
    "Modelimi compile ederken 'rmse' yazmistim. O metrige gore bir deger verdi.\n",
    "\n",
    "Bu fonksiyon arkaplanda prediction yapiyor."
   ]
  },
  {
   "cell_type": "code",
   "execution_count": 44,
   "metadata": {
    "colab": {
     "base_uri": "https://localhost:8080/"
    },
    "executionInfo": {
     "elapsed": 289,
     "status": "ok",
     "timestamp": 1646493768985,
     "user": {
      "displayName": "Halit Vural",
      "photoUrl": "https://lh3.googleusercontent.com/a-/AOh14GisScAfZ6KCn4jI0rPbmdJoyR3tme3r8ialVbyy=s64",
      "userId": "00265643383934385648"
     },
     "user_tz": -180
    },
    "id": "uYFzOKLifcIq",
    "outputId": "3e6ffe48-bb4b-4b7b-ce34-ca8b54d595ca"
   },
   "outputs": [
    {
     "data": {
      "text/plain": [
       "51.73649978637695"
      ]
     },
     "execution_count": 44,
     "metadata": {},
     "output_type": "execute_result"
    }
   ],
   "source": [
    "model.evaluate(X_test, y_test, verbose=0)"
   ]
  },
  {
   "cell_type": "markdown",
   "metadata": {
    "id": "D7wqUJFarld7"
   },
   "source": [
    "Degerlerde problem gorunmuyor."
   ]
  },
  {
   "cell_type": "code",
   "execution_count": 45,
   "metadata": {
    "executionInfo": {
     "elapsed": 325,
     "status": "ok",
     "timestamp": 1646493904689,
     "user": {
      "displayName": "Halit Vural",
      "photoUrl": "https://lh3.googleusercontent.com/a-/AOh14GisScAfZ6KCn4jI0rPbmdJoyR3tme3r8ialVbyy=s64",
      "userId": "00265643383934385648"
     },
     "user_tz": -180
    },
    "id": "eYql6ztqfcIq"
   },
   "outputs": [
    {
     "name": "stdout",
     "output_type": "stream",
     "text": [
      "10/10 [==============================] - 0s 2ms/step\n"
     ]
    }
   ],
   "source": [
    "y_pred = model.predict(X_test)"
   ]
  },
  {
   "cell_type": "code",
   "execution_count": 46,
   "metadata": {
    "colab": {
     "base_uri": "https://localhost:8080/"
    },
    "executionInfo": {
     "elapsed": 277,
     "status": "ok",
     "timestamp": 1646493906507,
     "user": {
      "displayName": "Halit Vural",
      "photoUrl": "https://lh3.googleusercontent.com/a-/AOh14GisScAfZ6KCn4jI0rPbmdJoyR3tme3r8ialVbyy=s64",
      "userId": "00265643383934385648"
     },
     "user_tz": -180
    },
    "id": "tlyPCNEGfcIr",
    "outputId": "0884ab68-1feb-4344-8a6a-b5ebdb671368"
   },
   "outputs": [
    {
     "data": {
      "text/plain": [
       "0.9941333655999768"
      ]
     },
     "execution_count": 46,
     "metadata": {},
     "output_type": "execute_result"
    }
   ],
   "source": [
    "explained_variance_score(y_test, y_pred)"
   ]
  },
  {
   "cell_type": "markdown",
   "metadata": {
    "id": "aZa_O7aZr0Zf"
   },
   "source": [
    "Guzel bir deger. Neredeyse 1.00"
   ]
  },
  {
   "cell_type": "code",
   "execution_count": 47,
   "metadata": {
    "colab": {
     "base_uri": "https://localhost:8080/",
     "height": 363
    },
    "executionInfo": {
     "elapsed": 303,
     "status": "ok",
     "timestamp": 1646493926388,
     "user": {
      "displayName": "Halit Vural",
      "photoUrl": "https://lh3.googleusercontent.com/a-/AOh14GisScAfZ6KCn4jI0rPbmdJoyR3tme3r8ialVbyy=s64",
      "userId": "00265643383934385648"
     },
     "user_tz": -180
    },
    "id": "Y1-_V1xAfcIr",
    "outputId": "480e99ab-c256-491e-d4b9-47d649f4145b"
   },
   "outputs": [
    {
     "data": {
      "text/html": [
       "<div>\n",
       "<style scoped>\n",
       "    .dataframe tbody tr th:only-of-type {\n",
       "        vertical-align: middle;\n",
       "    }\n",
       "\n",
       "    .dataframe tbody tr th {\n",
       "        vertical-align: top;\n",
       "    }\n",
       "\n",
       "    .dataframe thead th {\n",
       "        text-align: right;\n",
       "    }\n",
       "</style>\n",
       "<table border=\"1\" class=\"dataframe\">\n",
       "  <thead>\n",
       "    <tr style=\"text-align: right;\">\n",
       "      <th></th>\n",
       "      <th>Actual</th>\n",
       "      <th>Pred</th>\n",
       "    </tr>\n",
       "  </thead>\n",
       "  <tbody>\n",
       "    <tr>\n",
       "      <th>193</th>\n",
       "      <td>524.473</td>\n",
       "      <td>525.395</td>\n",
       "    </tr>\n",
       "    <tr>\n",
       "      <th>198</th>\n",
       "      <td>497.465</td>\n",
       "      <td>493.628</td>\n",
       "    </tr>\n",
       "    <tr>\n",
       "      <th>125</th>\n",
       "      <td>618.934</td>\n",
       "      <td>608.842</td>\n",
       "    </tr>\n",
       "    <tr>\n",
       "      <th>79</th>\n",
       "      <td>633.451</td>\n",
       "      <td>631.868</td>\n",
       "    </tr>\n",
       "    <tr>\n",
       "      <th>103</th>\n",
       "      <td>578.224</td>\n",
       "      <td>570.745</td>\n",
       "    </tr>\n",
       "    <tr>\n",
       "      <th>89</th>\n",
       "      <td>487.188</td>\n",
       "      <td>489.092</td>\n",
       "    </tr>\n",
       "    <tr>\n",
       "      <th>96</th>\n",
       "      <td>323.747</td>\n",
       "      <td>331.966</td>\n",
       "    </tr>\n",
       "    <tr>\n",
       "      <th>299</th>\n",
       "      <td>410.538</td>\n",
       "      <td>417.005</td>\n",
       "    </tr>\n",
       "    <tr>\n",
       "      <th>112</th>\n",
       "      <td>515.325</td>\n",
       "      <td>522.190</td>\n",
       "    </tr>\n",
       "    <tr>\n",
       "      <th>195</th>\n",
       "      <td>645.708</td>\n",
       "      <td>638.539</td>\n",
       "    </tr>\n",
       "  </tbody>\n",
       "</table>\n",
       "</div>"
      ],
      "text/plain": [
       "     Actual    Pred\n",
       "193 524.473 525.395\n",
       "198 497.465 493.628\n",
       "125 618.934 608.842\n",
       "79  633.451 631.868\n",
       "103 578.224 570.745\n",
       "89  487.188 489.092\n",
       "96  323.747 331.966\n",
       "299 410.538 417.005\n",
       "112 515.325 522.190\n",
       "195 645.708 638.539"
      ]
     },
     "execution_count": 47,
     "metadata": {},
     "output_type": "execute_result"
    }
   ],
   "source": [
    "my_dict = {\"Actual\" : y_test, \"Pred\" : y_pred.reshape(-1,)}\n",
    "compare = pd.DataFrame(my_dict)\n",
    "compare.sample(10)"
   ]
  },
  {
   "cell_type": "code",
   "execution_count": 48,
   "metadata": {
    "colab": {
     "base_uri": "https://localhost:8080/",
     "height": 406
    },
    "executionInfo": {
     "elapsed": 687,
     "status": "ok",
     "timestamp": 1646493962844,
     "user": {
      "displayName": "Halit Vural",
      "photoUrl": "https://lh3.googleusercontent.com/a-/AOh14GisScAfZ6KCn4jI0rPbmdJoyR3tme3r8ialVbyy=s64",
      "userId": "00265643383934385648"
     },
     "user_tz": -180
    },
    "id": "6I00GzfKfcIr",
    "outputId": "bbb514f5-13db-48d0-cf0a-5883e6b6fcb7"
   },
   "outputs": [
    {
     "data": {
      "image/png": "[encoded data removed]",
      "text/plain": [
       "<Figure size 720x432 with 1 Axes>"
      ]
     },
     "metadata": {},
     "output_type": "display_data"
    }
   ],
   "source": [
    "sns.scatterplot(x = 'Actual', y = 'Pred', data = compare);"
   ]
  },
  {
   "cell_type": "code",
   "execution_count": 49,
   "metadata": {
    "executionInfo": {
     "elapsed": 362,
     "status": "ok",
     "timestamp": 1646493975060,
     "user": {
      "displayName": "Halit Vural",
      "photoUrl": "https://lh3.googleusercontent.com/a-/AOh14GisScAfZ6KCn4jI0rPbmdJoyR3tme3r8ialVbyy=s64",
      "userId": "00265643383934385648"
     },
     "user_tz": -180
    },
    "id": "WhvsZaHDfcIr"
   },
   "outputs": [],
   "source": [
    "def eval_metric(actual, pred):\n",
    "    mae = mean_absolute_error(actual, pred)\n",
    "    mse = mean_squared_error(actual, pred)\n",
    "    rmse = np.sqrt(mean_squared_error(actual, pred))\n",
    "    score = r2_score(actual, pred)\n",
    "    return print(\"r2_score:\", score, \"\\nmae:\", mae, \"\\nmse:\", mse, \"\\nrmse:\", rmse)"
   ]
  },
  {
   "cell_type": "code",
   "execution_count": 50,
   "metadata": {
    "colab": {
     "base_uri": "https://localhost:8080/"
    },
    "executionInfo": {
     "elapsed": 289,
     "status": "ok",
     "timestamp": 1646493980504,
     "user": {
      "displayName": "Halit Vural",
      "photoUrl": "https://lh3.googleusercontent.com/a-/AOh14GisScAfZ6KCn4jI0rPbmdJoyR3tme3r8ialVbyy=s64",
      "userId": "00265643383934385648"
     },
     "user_tz": -180
    },
    "id": "iTstg6VpfcIr",
    "outputId": "df57435e-caee-4d18-8ebc-e89f3611e218"
   },
   "outputs": [
    {
     "name": "stdout",
     "output_type": "stream",
     "text": [
      "r2_score: 0.9941155225814128 \n",
      "mae: 5.942757768812601 \n",
      "mse: 51.736511798624804 \n",
      "rmse: 7.192809729071443\n"
     ]
    }
   ],
   "source": [
    "eval_metric(y_test, y_pred)"
   ]
  },
  {
   "cell_type": "markdown",
   "metadata": {
    "id": "AgeOy7mPsSS6"
   },
   "source": [
    "Bu degeri karar vermek icin kullanabiliriz."
   ]
  },
  {
   "cell_type": "markdown",
   "metadata": {
    "id": "41M9xY_1fcIr"
   },
   "source": [
    "## Final Model and Model Deployment"
   ]
  },
  {
   "cell_type": "code",
   "execution_count": 51,
   "metadata": {
    "executionInfo": {
     "elapsed": 279,
     "status": "ok",
     "timestamp": 1646494000415,
     "user": {
      "displayName": "Halit Vural",
      "photoUrl": "https://lh3.googleusercontent.com/a-/AOh14GisScAfZ6KCn4jI0rPbmdJoyR3tme3r8ialVbyy=s64",
      "userId": "00265643383934385648"
     },
     "user_tz": -180
    },
    "id": "1533INJNfcIr"
   },
   "outputs": [],
   "source": [
    "scaler = MinMaxScaler().fit(X)"
   ]
  },
  {
   "cell_type": "code",
   "execution_count": 52,
   "metadata": {
    "executionInfo": {
     "elapsed": 3,
     "status": "ok",
     "timestamp": 1646494003633,
     "user": {
      "displayName": "Halit Vural",
      "photoUrl": "https://lh3.googleusercontent.com/a-/AOh14GisScAfZ6KCn4jI0rPbmdJoyR3tme3r8ialVbyy=s64",
      "userId": "00265643383934385648"
     },
     "user_tz": -180
    },
    "id": "gYAC8TRifcIs"
   },
   "outputs": [],
   "source": [
    "import pickle\n",
    "pickle.dump(scaler, open(\"scaler_fake_reg\", 'wb'))"
   ]
  },
  {
   "cell_type": "code",
   "execution_count": 53,
   "metadata": {
    "executionInfo": {
     "elapsed": 310,
     "status": "ok",
     "timestamp": 1646494007762,
     "user": {
      "displayName": "Halit Vural",
      "photoUrl": "https://lh3.googleusercontent.com/a-/AOh14GisScAfZ6KCn4jI0rPbmdJoyR3tme3r8ialVbyy=s64",
      "userId": "00265643383934385648"
     },
     "user_tz": -180
    },
    "id": "TbsdGbr7fcIs"
   },
   "outputs": [],
   "source": [
    "X_scaled = scaler.transform(X)"
   ]
  },
  {
   "cell_type": "code",
   "execution_count": 54,
   "metadata": {
    "colab": {
     "base_uri": "https://localhost:8080/"
    },
    "executionInfo": {
     "elapsed": 16685,
     "status": "ok",
     "timestamp": 1646494272007,
     "user": {
      "displayName": "Halit Vural",
      "photoUrl": "https://lh3.googleusercontent.com/a-/AOh14GisScAfZ6KCn4jI0rPbmdJoyR3tme3r8ialVbyy=s64",
      "userId": "00265643383934385648"
     },
     "user_tz": -180
    },
    "id": "sf2TbRb3fcIs",
    "outputId": "38404a88-08e4-4129-ff7f-b479520545ef"
   },
   "outputs": [
    {
     "name": "stdout",
     "output_type": "stream",
     "text": [
      "Epoch 1/250\n",
      "32/32 [==============================] - 1s 4ms/step - loss: 257026.2656\n",
      "Epoch 2/250\n",
      "32/32 [==============================] - 0s 6ms/step - loss: 256647.4531\n",
      "Epoch 3/250\n",
      "32/32 [==============================] - 0s 3ms/step - loss: 256210.7969\n",
      "Epoch 4/250\n",
      "32/32 [==============================] - 0s 3ms/step - loss: 255679.8750\n",
      "Epoch 5/250\n",
      "32/32 [==============================] - 0s 3ms/step - loss: 255033.2656\n",
      "Epoch 6/250\n",
      "32/32 [==============================] - 0s 3ms/step - loss: 254229.0469\n",
      "Epoch 7/250\n",
      "32/32 [==============================] - 0s 2ms/step - loss: 253258.3125\n",
      "Epoch 8/250\n",
      "32/32 [==============================] - 0s 3ms/step - loss: 252093.2031\n",
      "Epoch 9/250\n",
      "32/32 [==============================] - 0s 3ms/step - loss: 250709.7500\n",
      "Epoch 10/250\n",
      "32/32 [==============================] - 0s 2ms/step - loss: 249115.7500\n",
      "Epoch 11/250\n",
      "32/32 [==============================] - 0s 3ms/step - loss: 247276.3750\n",
      "Epoch 12/250\n",
      "32/32 [==============================] - 0s 3ms/step - loss: 245193.1406\n",
      "Epoch 13/250\n",
      "32/32 [==============================] - 0s 4ms/step - loss: 242839.9219\n",
      "Epoch 14/250\n",
      "32/32 [==============================] - 0s 5ms/step - loss: 240225.2656\n",
      "Epoch 15/250\n",
      "32/32 [==============================] - 0s 3ms/step - loss: 237298.2812\n",
      "Epoch 16/250\n",
      "32/32 [==============================] - 0s 3ms/step - loss: 234048.0938\n",
      "Epoch 17/250\n",
      "32/32 [==============================] - 0s 5ms/step - loss: 230460.6562\n",
      "Epoch 18/250\n",
      "32/32 [==============================] - 0s 3ms/step - loss: 226508.2031\n",
      "Epoch 19/250\n",
      "32/32 [==============================] - 0s 3ms/step - loss: 222242.4531\n",
      "Epoch 20/250\n",
      "32/32 [==============================] - 0s 3ms/step - loss: 217571.2812\n",
      "Epoch 21/250\n",
      "32/32 [==============================] - 0s 3ms/step - loss: 212509.9375\n",
      "Epoch 22/250\n",
      "32/32 [==============================] - 0s 3ms/step - loss: 207038.3906\n",
      "Epoch 23/250\n",
      "32/32 [==============================] - 0s 3ms/step - loss: 201182.9062\n",
      "Epoch 24/250\n",
      "32/32 [==============================] - 0s 3ms/step - loss: 194855.6094\n",
      "Epoch 25/250\n",
      "32/32 [==============================] - 0s 3ms/step - loss: 188172.4844\n",
      "Epoch 26/250\n",
      "32/32 [==============================] - 0s 3ms/step - loss: 181050.9375\n",
      "Epoch 27/250\n",
      "32/32 [==============================] - 0s 3ms/step - loss: 173521.5312\n",
      "Epoch 28/250\n",
      "32/32 [==============================] - 0s 3ms/step - loss: 165607.7500\n",
      "Epoch 29/250\n",
      "32/32 [==============================] - 0s 3ms/step - loss: 157284.9688\n",
      "Epoch 30/250\n",
      "32/32 [==============================] - 0s 3ms/step - loss: 148620.8594\n",
      "Epoch 31/250\n",
      "32/32 [==============================] - 0s 3ms/step - loss: 139628.0312\n",
      "Epoch 32/250\n",
      "32/32 [==============================] - 0s 3ms/step - loss: 130278.1797\n",
      "Epoch 33/250\n",
      "32/32 [==============================] - 0s 3ms/step - loss: 120736.3359\n",
      "Epoch 34/250\n",
      "32/32 [==============================] - 0s 3ms/step - loss: 110966.4062\n",
      "Epoch 35/250\n",
      "32/32 [==============================] - 0s 3ms/step - loss: 101008.4219\n",
      "Epoch 36/250\n",
      "32/32 [==============================] - 0s 2ms/step - loss: 90970.8906\n",
      "Epoch 37/250\n",
      "32/32 [==============================] - 0s 3ms/step - loss: 80943.6719\n",
      "Epoch 38/250\n",
      "32/32 [==============================] - 0s 3ms/step - loss: 70957.2344\n",
      "Epoch 39/250\n",
      "32/32 [==============================] - 0s 3ms/step - loss: 61121.2852\n",
      "Epoch 40/250\n",
      "32/32 [==============================] - 0s 3ms/step - loss: 51628.0312\n",
      "Epoch 41/250\n",
      "32/32 [==============================] - 0s 3ms/step - loss: 42518.3906\n",
      "Epoch 42/250\n",
      "32/32 [==============================] - 0s 2ms/step - loss: 33957.4961\n",
      "Epoch 43/250\n",
      "32/32 [==============================] - 0s 3ms/step - loss: 26145.1113\n",
      "Epoch 44/250\n",
      "32/32 [==============================] - 0s 3ms/step - loss: 19120.5625\n",
      "Epoch 45/250\n",
      "32/32 [==============================] - 0s 2ms/step - loss: 13126.6611\n",
      "Epoch 46/250\n",
      "32/32 [==============================] - 0s 3ms/step - loss: 8393.2998\n",
      "Epoch 47/250\n",
      "32/32 [==============================] - 0s 3ms/step - loss: 4951.8687\n",
      "Epoch 48/250\n",
      "32/32 [==============================] - 0s 3ms/step - loss: 2963.4680\n",
      "Epoch 49/250\n",
      "32/32 [==============================] - 0s 3ms/step - loss: 2317.3792\n",
      "Epoch 50/250\n",
      "32/32 [==============================] - 0s 2ms/step - loss: 2212.1699\n",
      "Epoch 51/250\n",
      "32/32 [==============================] - 0s 3ms/step - loss: 2145.2744\n",
      "Epoch 52/250\n",
      "32/32 [==============================] - 0s 3ms/step - loss: 2086.7593\n",
      "Epoch 53/250\n",
      "32/32 [==============================] - 0s 6ms/step - loss: 2030.7080\n",
      "Epoch 54/250\n",
      "32/32 [==============================] - 0s 2ms/step - loss: 1966.8921\n",
      "Epoch 55/250\n",
      "32/32 [==============================] - 0s 3ms/step - loss: 1916.6364\n",
      "Epoch 56/250\n",
      "32/32 [==============================] - 0s 2ms/step - loss: 1860.0504\n",
      "Epoch 57/250\n",
      "32/32 [==============================] - 0s 2ms/step - loss: 1800.3301\n",
      "Epoch 58/250\n",
      "32/32 [==============================] - 0s 4ms/step - loss: 1747.9368\n",
      "Epoch 59/250\n",
      "32/32 [==============================] - 0s 2ms/step - loss: 1693.6517\n",
      "Epoch 60/250\n",
      "32/32 [==============================] - 0s 4ms/step - loss: 1643.0059\n",
      "Epoch 61/250\n",
      "32/32 [==============================] - 0s 3ms/step - loss: 1585.4028\n",
      "Epoch 62/250\n",
      "32/32 [==============================] - 0s 3ms/step - loss: 1537.8462\n",
      "Epoch 63/250\n",
      "32/32 [==============================] - 0s 3ms/step - loss: 1485.9944\n",
      "Epoch 64/250\n",
      "32/32 [==============================] - 0s 3ms/step - loss: 1433.9768\n",
      "Epoch 65/250\n",
      "32/32 [==============================] - 0s 2ms/step - loss: 1387.4781\n",
      "Epoch 66/250\n",
      "32/32 [==============================] - 0s 2ms/step - loss: 1333.0674\n",
      "Epoch 67/250\n",
      "32/32 [==============================] - 0s 3ms/step - loss: 1282.7694\n",
      "Epoch 68/250\n",
      "32/32 [==============================] - 0s 3ms/step - loss: 1230.9954\n",
      "Epoch 69/250\n",
      "32/32 [==============================] - 0s 3ms/step - loss: 1181.5028\n",
      "Epoch 70/250\n",
      "32/32 [==============================] - 0s 4ms/step - loss: 1132.1366\n",
      "Epoch 71/250\n",
      "32/32 [==============================] - 0s 3ms/step - loss: 1087.8165\n",
      "Epoch 72/250\n",
      "32/32 [==============================] - 0s 3ms/step - loss: 1042.1583\n",
      "Epoch 73/250\n",
      "32/32 [==============================] - 0s 3ms/step - loss: 1000.9647\n",
      "Epoch 74/250\n",
      "32/32 [==============================] - 0s 3ms/step - loss: 953.0279\n",
      "Epoch 75/250\n",
      "32/32 [==============================] - 0s 3ms/step - loss: 905.2235\n",
      "Epoch 76/250\n",
      "32/32 [==============================] - 0s 2ms/step - loss: 867.2068\n",
      "Epoch 77/250\n",
      "32/32 [==============================] - 0s 3ms/step - loss: 821.2812\n",
      "Epoch 78/250\n",
      "32/32 [==============================] - 0s 3ms/step - loss: 778.8007\n",
      "Epoch 79/250\n",
      "32/32 [==============================] - 0s 3ms/step - loss: 731.4852\n",
      "Epoch 80/250\n",
      "32/32 [==============================] - 0s 3ms/step - loss: 697.6763\n",
      "Epoch 81/250\n",
      "32/32 [==============================] - 0s 3ms/step - loss: 658.0087\n",
      "Epoch 82/250\n",
      "32/32 [==============================] - 0s 2ms/step - loss: 618.9329\n",
      "Epoch 83/250\n",
      "32/32 [==============================] - 0s 3ms/step - loss: 584.2220\n",
      "Epoch 84/250\n",
      "32/32 [==============================] - 0s 2ms/step - loss: 546.9069\n",
      "Epoch 85/250\n",
      "32/32 [==============================] - 0s 3ms/step - loss: 512.4885\n",
      "Epoch 86/250\n",
      "32/32 [==============================] - 0s 3ms/step - loss: 479.5933\n",
      "Epoch 87/250\n",
      "32/32 [==============================] - 0s 3ms/step - loss: 449.0349\n",
      "Epoch 88/250\n",
      "32/32 [==============================] - 0s 3ms/step - loss: 420.2491\n",
      "Epoch 89/250\n",
      "32/32 [==============================] - 0s 3ms/step - loss: 392.2159\n",
      "Epoch 90/250\n",
      "32/32 [==============================] - 0s 3ms/step - loss: 364.1091\n",
      "Epoch 91/250\n",
      "32/32 [==============================] - 0s 5ms/step - loss: 335.9774\n",
      "Epoch 92/250\n",
      "32/32 [==============================] - 0s 2ms/step - loss: 311.0751\n",
      "Epoch 93/250\n",
      "32/32 [==============================] - 0s 3ms/step - loss: 284.4695\n",
      "Epoch 94/250\n",
      "32/32 [==============================] - 0s 3ms/step - loss: 258.4217\n",
      "Epoch 95/250\n",
      "32/32 [==============================] - 0s 3ms/step - loss: 236.1521\n",
      "Epoch 96/250\n",
      "32/32 [==============================] - 0s 2ms/step - loss: 215.8710\n",
      "Epoch 97/250\n",
      "32/32 [==============================] - 0s 4ms/step - loss: 195.9267\n"
     ]
    },
    {
     "name": "stdout",
     "output_type": "stream",
     "text": [
      "Epoch 98/250\n",
      "32/32 [==============================] - 0s 4ms/step - loss: 175.8058\n",
      "Epoch 99/250\n",
      "32/32 [==============================] - 0s 3ms/step - loss: 156.8685\n",
      "Epoch 100/250\n",
      "32/32 [==============================] - 0s 3ms/step - loss: 140.3046\n",
      "Epoch 101/250\n",
      "32/32 [==============================] - 0s 3ms/step - loss: 124.9696\n",
      "Epoch 102/250\n",
      "32/32 [==============================] - 0s 3ms/step - loss: 110.5285\n",
      "Epoch 103/250\n",
      "32/32 [==============================] - 0s 2ms/step - loss: 98.0051\n",
      "Epoch 104/250\n",
      "32/32 [==============================] - 0s 2ms/step - loss: 86.1667\n",
      "Epoch 105/250\n",
      "32/32 [==============================] - 0s 2ms/step - loss: 75.4391\n",
      "Epoch 106/250\n",
      "32/32 [==============================] - 0s 2ms/step - loss: 66.9367\n",
      "Epoch 107/250\n",
      "32/32 [==============================] - 0s 3ms/step - loss: 58.8525\n",
      "Epoch 108/250\n",
      "32/32 [==============================] - 0s 3ms/step - loss: 52.2868\n",
      "Epoch 109/250\n",
      "32/32 [==============================] - 0s 3ms/step - loss: 45.7557\n",
      "Epoch 110/250\n",
      "32/32 [==============================] - 0s 3ms/step - loss: 41.4081\n",
      "Epoch 111/250\n",
      "32/32 [==============================] - 0s 3ms/step - loss: 37.3076\n",
      "Epoch 112/250\n",
      "32/32 [==============================] - 0s 3ms/step - loss: 34.1207\n",
      "Epoch 113/250\n",
      "32/32 [==============================] - 0s 3ms/step - loss: 32.1734\n",
      "Epoch 114/250\n",
      "32/32 [==============================] - 0s 5ms/step - loss: 30.2134\n",
      "Epoch 115/250\n",
      "32/32 [==============================] - 0s 3ms/step - loss: 29.0523\n",
      "Epoch 116/250\n",
      "32/32 [==============================] - 0s 3ms/step - loss: 27.6340\n",
      "Epoch 117/250\n",
      "32/32 [==============================] - 0s 3ms/step - loss: 27.0082\n",
      "Epoch 118/250\n",
      "32/32 [==============================] - 0s 3ms/step - loss: 26.3374\n",
      "Epoch 119/250\n",
      "32/32 [==============================] - 0s 2ms/step - loss: 26.1314\n",
      "Epoch 120/250\n",
      "32/32 [==============================] - 0s 2ms/step - loss: 25.4227\n",
      "Epoch 121/250\n",
      "32/32 [==============================] - 0s 2ms/step - loss: 25.4186\n",
      "Epoch 122/250\n",
      "32/32 [==============================] - 0s 2ms/step - loss: 25.0327\n",
      "Epoch 123/250\n",
      "32/32 [==============================] - 0s 2ms/step - loss: 24.9898\n",
      "Epoch 124/250\n",
      "32/32 [==============================] - 0s 3ms/step - loss: 25.0116\n",
      "Epoch 125/250\n",
      "32/32 [==============================] - 0s 2ms/step - loss: 24.8449\n",
      "Epoch 126/250\n",
      "32/32 [==============================] - 0s 3ms/step - loss: 24.5156\n",
      "Epoch 127/250\n",
      "32/32 [==============================] - 0s 3ms/step - loss: 24.9180\n",
      "Epoch 128/250\n",
      "32/32 [==============================] - 0s 3ms/step - loss: 25.4944\n",
      "Epoch 129/250\n",
      "32/32 [==============================] - 0s 3ms/step - loss: 24.7135\n",
      "Epoch 130/250\n",
      "32/32 [==============================] - 0s 3ms/step - loss: 24.7681\n",
      "Epoch 131/250\n",
      "32/32 [==============================] - 0s 3ms/step - loss: 24.8325\n",
      "Epoch 132/250\n",
      "32/32 [==============================] - 0s 3ms/step - loss: 24.7141\n",
      "Epoch 133/250\n",
      "32/32 [==============================] - 0s 2ms/step - loss: 24.4266\n",
      "Epoch 134/250\n",
      "32/32 [==============================] - 0s 3ms/step - loss: 24.8328\n",
      "Epoch 135/250\n",
      "32/32 [==============================] - 0s 4ms/step - loss: 24.9628\n",
      "Epoch 136/250\n",
      "32/32 [==============================] - 0s 4ms/step - loss: 24.6160\n",
      "Epoch 137/250\n",
      "32/32 [==============================] - 0s 5ms/step - loss: 24.6420\n",
      "Epoch 138/250\n",
      "32/32 [==============================] - 0s 3ms/step - loss: 24.4763\n",
      "Epoch 139/250\n",
      "32/32 [==============================] - 0s 3ms/step - loss: 24.8814\n",
      "Epoch 140/250\n",
      "32/32 [==============================] - 0s 3ms/step - loss: 25.0796\n",
      "Epoch 141/250\n",
      "32/32 [==============================] - 0s 3ms/step - loss: 24.5380\n",
      "Epoch 142/250\n",
      "32/32 [==============================] - 0s 3ms/step - loss: 24.7624\n",
      "Epoch 143/250\n",
      "32/32 [==============================] - 0s 3ms/step - loss: 24.8252\n",
      "Epoch 144/250\n",
      "32/32 [==============================] - 0s 3ms/step - loss: 24.6027\n",
      "Epoch 145/250\n",
      "32/32 [==============================] - 0s 3ms/step - loss: 24.5267\n",
      "Epoch 146/250\n",
      "32/32 [==============================] - 0s 3ms/step - loss: 24.7195\n",
      "Epoch 147/250\n",
      "32/32 [==============================] - 0s 3ms/step - loss: 25.1155\n",
      "Epoch 148/250\n",
      "32/32 [==============================] - 0s 3ms/step - loss: 24.8825\n",
      "Epoch 149/250\n",
      "32/32 [==============================] - 0s 3ms/step - loss: 24.8497\n",
      "Epoch 150/250\n",
      "32/32 [==============================] - 0s 3ms/step - loss: 24.6544\n",
      "Epoch 151/250\n",
      "32/32 [==============================] - 0s 3ms/step - loss: 24.8292\n",
      "Epoch 152/250\n",
      "32/32 [==============================] - 0s 3ms/step - loss: 24.4095\n",
      "Epoch 153/250\n",
      "32/32 [==============================] - 0s 3ms/step - loss: 24.6743\n",
      "Epoch 154/250\n",
      "32/32 [==============================] - 0s 3ms/step - loss: 25.1359\n",
      "Epoch 155/250\n",
      "32/32 [==============================] - 0s 5ms/step - loss: 24.8032\n",
      "Epoch 156/250\n",
      "32/32 [==============================] - 0s 3ms/step - loss: 24.6953\n",
      "Epoch 157/250\n",
      "32/32 [==============================] - 0s 3ms/step - loss: 24.9091\n",
      "Epoch 158/250\n",
      "32/32 [==============================] - 0s 3ms/step - loss: 24.7487\n",
      "Epoch 159/250\n",
      "32/32 [==============================] - 0s 2ms/step - loss: 24.4995\n",
      "Epoch 160/250\n",
      "32/32 [==============================] - 0s 3ms/step - loss: 25.0007\n",
      "Epoch 161/250\n",
      "32/32 [==============================] - 0s 3ms/step - loss: 24.8692\n",
      "Epoch 162/250\n",
      "32/32 [==============================] - 0s 3ms/step - loss: 24.5188\n",
      "Epoch 163/250\n",
      "32/32 [==============================] - 0s 3ms/step - loss: 24.9511\n",
      "Epoch 164/250\n",
      "32/32 [==============================] - 0s 3ms/step - loss: 24.7439\n",
      "Epoch 165/250\n",
      "32/32 [==============================] - 0s 3ms/step - loss: 24.6443\n",
      "Epoch 166/250\n",
      "32/32 [==============================] - 0s 3ms/step - loss: 24.7407\n",
      "Epoch 167/250\n",
      "32/32 [==============================] - 0s 3ms/step - loss: 24.7236\n",
      "Epoch 168/250\n",
      "32/32 [==============================] - 0s 3ms/step - loss: 25.1263\n",
      "Epoch 169/250\n",
      "32/32 [==============================] - 0s 3ms/step - loss: 24.5964\n",
      "Epoch 170/250\n",
      "32/32 [==============================] - 0s 3ms/step - loss: 24.8832\n",
      "Epoch 171/250\n",
      "32/32 [==============================] - 0s 2ms/step - loss: 24.5663\n",
      "Epoch 172/250\n",
      "32/32 [==============================] - 0s 3ms/step - loss: 24.4011\n",
      "Epoch 173/250\n",
      "32/32 [==============================] - 0s 3ms/step - loss: 25.2114\n",
      "Epoch 174/250\n",
      "32/32 [==============================] - 0s 2ms/step - loss: 24.6054\n",
      "Epoch 175/250\n",
      "32/32 [==============================] - 0s 3ms/step - loss: 24.4940\n",
      "Epoch 176/250\n",
      "32/32 [==============================] - 0s 3ms/step - loss: 24.9862\n",
      "Epoch 177/250\n",
      "32/32 [==============================] - 0s 2ms/step - loss: 24.7672\n",
      "Epoch 178/250\n",
      "32/32 [==============================] - 0s 2ms/step - loss: 24.9469\n",
      "Epoch 179/250\n",
      "32/32 [==============================] - 0s 4ms/step - loss: 24.7663\n",
      "Epoch 180/250\n",
      "32/32 [==============================] - 0s 5ms/step - loss: 24.8936\n",
      "Epoch 181/250\n",
      "32/32 [==============================] - 0s 3ms/step - loss: 24.6824\n",
      "Epoch 182/250\n",
      "32/32 [==============================] - 0s 3ms/step - loss: 24.8620\n",
      "Epoch 183/250\n",
      "32/32 [==============================] - 0s 2ms/step - loss: 24.7321\n",
      "Epoch 184/250\n",
      "32/32 [==============================] - 0s 3ms/step - loss: 24.6440\n",
      "Epoch 185/250\n",
      "32/32 [==============================] - 0s 2ms/step - loss: 24.5955\n",
      "Epoch 186/250\n",
      "32/32 [==============================] - 0s 3ms/step - loss: 24.3827\n",
      "Epoch 187/250\n",
      "32/32 [==============================] - 0s 5ms/step - loss: 24.9118\n",
      "Epoch 188/250\n",
      "32/32 [==============================] - 0s 2ms/step - loss: 24.7778\n",
      "Epoch 189/250\n",
      "32/32 [==============================] - 0s 3ms/step - loss: 24.7104\n",
      "Epoch 190/250\n",
      "32/32 [==============================] - 0s 2ms/step - loss: 24.5854\n",
      "Epoch 191/250\n",
      "32/32 [==============================] - 0s 3ms/step - loss: 25.0097\n",
      "Epoch 192/250\n",
      "32/32 [==============================] - 0s 3ms/step - loss: 24.7156\n",
      "Epoch 193/250\n",
      "32/32 [==============================] - 0s 2ms/step - loss: 24.7150\n",
      "Epoch 194/250\n",
      "32/32 [==============================] - 0s 3ms/step - loss: 24.6074\n",
      "Epoch 195/250\n",
      "32/32 [==============================] - 0s 4ms/step - loss: 25.0457\n",
      "Epoch 196/250\n",
      "32/32 [==============================] - 0s 3ms/step - loss: 24.8671\n",
      "Epoch 197/250\n",
      "32/32 [==============================] - 0s 4ms/step - loss: 25.0224\n",
      "Epoch 198/250\n",
      "32/32 [==============================] - 0s 3ms/step - loss: 24.6725\n",
      "Epoch 199/250\n",
      "32/32 [==============================] - 0s 3ms/step - loss: 24.7402\n",
      "Epoch 200/250\n",
      "32/32 [==============================] - 0s 4ms/step - loss: 24.9624\n",
      "Epoch 201/250\n",
      "32/32 [==============================] - 0s 3ms/step - loss: 24.5753\n",
      "Epoch 202/250\n",
      "32/32 [==============================] - 0s 3ms/step - loss: 24.8891\n",
      "Epoch 203/250\n",
      "32/32 [==============================] - 0s 3ms/step - loss: 24.6392\n",
      "Epoch 204/250\n",
      "32/32 [==============================] - 0s 3ms/step - loss: 25.0994\n",
      "Epoch 205/250\n",
      "32/32 [==============================] - 0s 4ms/step - loss: 24.7160\n",
      "Epoch 206/250\n",
      "32/32 [==============================] - 0s 3ms/step - loss: 25.0466\n",
      "Epoch 207/250\n",
      "32/32 [==============================] - 0s 3ms/step - loss: 24.8484\n",
      "Epoch 208/250\n",
      "32/32 [==============================] - 0s 3ms/step - loss: 24.9074\n",
      "Epoch 209/250\n",
      "32/32 [==============================] - 0s 3ms/step - loss: 25.1099\n",
      "Epoch 210/250\n",
      "32/32 [==============================] - 0s 3ms/step - loss: 24.7021\n",
      "Epoch 211/250\n",
      "32/32 [==============================] - 0s 3ms/step - loss: 24.6591\n",
      "Epoch 212/250\n",
      "32/32 [==============================] - 0s 3ms/step - loss: 25.1272\n",
      "Epoch 213/250\n",
      "32/32 [==============================] - 0s 2ms/step - loss: 24.6336\n",
      "Epoch 214/250\n",
      "32/32 [==============================] - 0s 3ms/step - loss: 24.5868\n",
      "Epoch 215/250\n",
      "32/32 [==============================] - 0s 5ms/step - loss: 24.5752\n",
      "Epoch 216/250\n",
      "32/32 [==============================] - 0s 3ms/step - loss: 24.7753\n",
      "Epoch 217/250\n",
      "32/32 [==============================] - 0s 3ms/step - loss: 24.5006\n",
      "Epoch 218/250\n",
      "32/32 [==============================] - 0s 3ms/step - loss: 24.6340\n",
      "Epoch 219/250\n",
      "32/32 [==============================] - 0s 3ms/step - loss: 24.7509\n",
      "Epoch 220/250\n",
      "32/32 [==============================] - 0s 2ms/step - loss: 24.7876\n",
      "Epoch 221/250\n",
      "32/32 [==============================] - 0s 2ms/step - loss: 24.9875\n",
      "Epoch 222/250\n",
      "32/32 [==============================] - 0s 2ms/step - loss: 24.9025\n",
      "Epoch 223/250\n",
      "32/32 [==============================] - 0s 3ms/step - loss: 24.7573\n",
      "Epoch 224/250\n",
      "32/32 [==============================] - 0s 3ms/step - loss: 24.6389\n",
      "Epoch 225/250\n",
      "32/32 [==============================] - 0s 2ms/step - loss: 25.0257\n",
      "Epoch 226/250\n",
      "32/32 [==============================] - 0s 2ms/step - loss: 24.6255\n",
      "Epoch 227/250\n",
      "32/32 [==============================] - 0s 2ms/step - loss: 24.7304\n",
      "Epoch 228/250\n",
      "32/32 [==============================] - 0s 2ms/step - loss: 24.7721\n",
      "Epoch 229/250\n",
      "32/32 [==============================] - 0s 2ms/step - loss: 24.6965\n",
      "Epoch 230/250\n",
      "32/32 [==============================] - 0s 3ms/step - loss: 25.0876\n",
      "Epoch 231/250\n",
      "32/32 [==============================] - 0s 2ms/step - loss: 24.8125\n",
      "Epoch 232/250\n",
      "32/32 [==============================] - 0s 2ms/step - loss: 24.8864\n",
      "Epoch 233/250\n",
      "32/32 [==============================] - 0s 2ms/step - loss: 24.9467\n",
      "Epoch 234/250\n",
      "32/32 [==============================] - 0s 3ms/step - loss: 24.7525\n",
      "Epoch 235/250\n",
      "32/32 [==============================] - 0s 2ms/step - loss: 24.9128\n",
      "Epoch 236/250\n",
      "32/32 [==============================] - 0s 3ms/step - loss: 24.6829\n",
      "Epoch 237/250\n",
      "32/32 [==============================] - 0s 2ms/step - loss: 24.6630\n",
      "Epoch 238/250\n",
      "32/32 [==============================] - 0s 2ms/step - loss: 25.4610\n",
      "Epoch 239/250\n",
      "32/32 [==============================] - 0s 2ms/step - loss: 24.7535\n",
      "Epoch 240/250\n",
      "32/32 [==============================] - 0s 3ms/step - loss: 25.0657\n",
      "Epoch 241/250\n",
      "32/32 [==============================] - 0s 2ms/step - loss: 24.4278\n",
      "Epoch 242/250\n",
      "32/32 [==============================] - 0s 2ms/step - loss: 24.9847\n",
      "Epoch 243/250\n",
      "32/32 [==============================] - 0s 2ms/step - loss: 24.7761\n",
      "Epoch 244/250\n",
      "32/32 [==============================] - 0s 2ms/step - loss: 24.9069\n",
      "Epoch 245/250\n",
      "32/32 [==============================] - 0s 2ms/step - loss: 24.8229\n",
      "Epoch 246/250\n",
      "32/32 [==============================] - 0s 2ms/step - loss: 25.3384\n",
      "Epoch 247/250\n",
      "32/32 [==============================] - 0s 2ms/step - loss: 24.7039\n",
      "Epoch 248/250\n",
      "32/32 [==============================] - 0s 2ms/step - loss: 24.7982\n",
      "Epoch 249/250\n",
      "32/32 [==============================] - 0s 2ms/step - loss: 24.7425\n",
      "Epoch 250/250\n",
      "32/32 [==============================] - 0s 4ms/step - loss: 24.4598\n"
     ]
    },
    {
     "data": {
      "text/plain": [
       "<keras.callbacks.History at 0x7f8715283460>"
      ]
     },
     "execution_count": 54,
     "metadata": {},
     "output_type": "execute_result"
    }
   ],
   "source": [
    "final_model = Sequential()\n",
    "\n",
    "final_model.add(Dense(units = 4, activation = \"relu\"))     # input_dim = 2 or input_dim = X_train.shape[0]\n",
    "final_model.add(Dense(units = 4, activation = \"relu\"))\n",
    "final_model.add(Dense(units = 4, activation = \"relu\"))\n",
    "final_model.add(Dense(1))\n",
    "\n",
    "final_model.compile(optimizer = \"rmsprop\", loss = \"mse\")\n",
    "\n",
    "final_model.fit(x = X_scaled, y = y, batch_size = 32, epochs = 250)"
   ]
  },
  {
   "cell_type": "markdown",
   "metadata": {
    "id": "d1l3dWdLfcIs"
   },
   "source": [
    "H5 is a file format to store structured data, it's not a model by itself. Keras saves models in this format as it can easily store the weights and model configuration in a single file."
   ]
  },
  {
   "cell_type": "markdown",
   "metadata": {
    "id": "ybC27DOMs1KQ"
   },
   "source": [
    "Daha onceki calistirdigimizda elde ettigimiz degerlerimize gore daha kotu bir sonuc elde edersek tekrar calistiralim. Benzer sonuclar ciktiysa bu modelimi sakliyorum.\n",
    "\n",
    "\n",
    "H5 formati Keras icin gerekli."
   ]
  },
  {
   "cell_type": "code",
   "execution_count": 55,
   "metadata": {
    "executionInfo": {
     "elapsed": 275,
     "status": "ok",
     "timestamp": 1646494409950,
     "user": {
      "displayName": "Halit Vural",
      "photoUrl": "https://lh3.googleusercontent.com/a-/AOh14GisScAfZ6KCn4jI0rPbmdJoyR3tme3r8ialVbyy=s64",
      "userId": "00265643383934385648"
     },
     "user_tz": -180
    },
    "id": "fa9l9jtQfcIs"
   },
   "outputs": [],
   "source": [
    "final_model.save('model_fake_reg.h5')  # creates a HDF5 file 'my_model.h5'"
   ]
  },
  {
   "cell_type": "markdown",
   "metadata": {
    "id": "yRntmOvkfcIs"
   },
   "source": [
    "## Prediction-1"
   ]
  },
  {
   "cell_type": "code",
   "execution_count": 56,
   "metadata": {
    "executionInfo": {
     "elapsed": 299,
     "status": "ok",
     "timestamp": 1646494422721,
     "user": {
      "displayName": "Halit Vural",
      "photoUrl": "https://lh3.googleusercontent.com/a-/AOh14GisScAfZ6KCn4jI0rPbmdJoyR3tme3r8ialVbyy=s64",
      "userId": "00265643383934385648"
     },
     "user_tz": -180
    },
    "id": "CZJa8ntUfcIs"
   },
   "outputs": [],
   "source": [
    "from tensorflow.keras.models import load_model"
   ]
  },
  {
   "cell_type": "code",
   "execution_count": 57,
   "metadata": {
    "executionInfo": {
     "elapsed": 286,
     "status": "ok",
     "timestamp": 1646494425115,
     "user": {
      "displayName": "Halit Vural",
      "photoUrl": "https://lh3.googleusercontent.com/a-/AOh14GisScAfZ6KCn4jI0rPbmdJoyR3tme3r8ialVbyy=s64",
      "userId": "00265643383934385648"
     },
     "user_tz": -180
    },
    "id": "x95Js7cjfcIs"
   },
   "outputs": [],
   "source": [
    "model_fake_reg = load_model('model_fake_reg.h5')"
   ]
  },
  {
   "cell_type": "code",
   "execution_count": 58,
   "metadata": {
    "executionInfo": {
     "elapsed": 4,
     "status": "ok",
     "timestamp": 1646494426167,
     "user": {
      "displayName": "Halit Vural",
      "photoUrl": "https://lh3.googleusercontent.com/a-/AOh14GisScAfZ6KCn4jI0rPbmdJoyR3tme3r8ialVbyy=s64",
      "userId": "00265643383934385648"
     },
     "user_tz": -180
    },
    "id": "JF17q7n9fcIs"
   },
   "outputs": [],
   "source": [
    "scaler_fake_reg = pickle.load(open(\"scaler_fake_reg\", \"rb\"))"
   ]
  },
  {
   "cell_type": "code",
   "execution_count": 59,
   "metadata": {
    "executionInfo": {
     "elapsed": 525,
     "status": "ok",
     "timestamp": 1646494429870,
     "user": {
      "displayName": "Halit Vural",
      "photoUrl": "https://lh3.googleusercontent.com/a-/AOh14GisScAfZ6KCn4jI0rPbmdJoyR3tme3r8ialVbyy=s64",
      "userId": "00265643383934385648"
     },
     "user_tz": -180
    },
    "id": "5pSoSXF7fcIt"
   },
   "outputs": [],
   "source": [
    "sample = [[998, 1000]] # array olarak vermeliyiz"
   ]
  },
  {
   "cell_type": "code",
   "execution_count": 60,
   "metadata": {
    "executionInfo": {
     "elapsed": 5,
     "status": "ok",
     "timestamp": 1646494431670,
     "user": {
      "displayName": "Halit Vural",
      "photoUrl": "https://lh3.googleusercontent.com/a-/AOh14GisScAfZ6KCn4jI0rPbmdJoyR3tme3r8ialVbyy=s64",
      "userId": "00265643383934385648"
     },
     "user_tz": -180
    },
    "id": "PyYXG7bKfcIt"
   },
   "outputs": [],
   "source": [
    "sample_scaled = scaler_fake_reg.transform(sample)"
   ]
  },
  {
   "cell_type": "code",
   "execution_count": 61,
   "metadata": {
    "colab": {
     "base_uri": "https://localhost:8080/"
    },
    "executionInfo": {
     "elapsed": 3,
     "status": "ok",
     "timestamp": 1646494433654,
     "user": {
      "displayName": "Halit Vural",
      "photoUrl": "https://lh3.googleusercontent.com/a-/AOh14GisScAfZ6KCn4jI0rPbmdJoyR3tme3r8ialVbyy=s64",
      "userId": "00265643383934385648"
     },
     "user_tz": -180
    },
    "id": "nmYs-xfQfcIt",
    "outputId": "354975a8-cab2-4c88-92f6-e75b26c854ca"
   },
   "outputs": [
    {
     "name": "stdout",
     "output_type": "stream",
     "text": [
      "1/1 [==============================] - 0s 92ms/step\n"
     ]
    },
    {
     "data": {
      "text/plain": [
       "array([[420.49503]], dtype=float32)"
      ]
     },
     "execution_count": 61,
     "metadata": {},
     "output_type": "execute_result"
    }
   ],
   "source": [
    "model_fake_reg.predict(sample_scaled)"
   ]
  },
  {
   "cell_type": "markdown",
   "metadata": {
    "id": "sk82NGISfcIt"
   },
   "source": [
    "## Prediction-2"
   ]
  },
  {
   "cell_type": "code",
   "execution_count": 62,
   "metadata": {
    "executionInfo": {
     "elapsed": 322,
     "status": "ok",
     "timestamp": 1646494714447,
     "user": {
      "displayName": "Halit Vural",
      "photoUrl": "https://lh3.googleusercontent.com/a-/AOh14GisScAfZ6KCn4jI0rPbmdJoyR3tme3r8ialVbyy=s64",
      "userId": "00265643383934385648"
     },
     "user_tz": -180
    },
    "id": "bABmLAHRfcIt"
   },
   "outputs": [],
   "source": [
    "my_dict = {\"Feature1\": [997, 998, 999, 1000, 1001],\n",
    "           \"Feature2\": [1000, 999, 998, 997, 996]}"
   ]
  },
  {
   "cell_type": "code",
   "execution_count": 63,
   "metadata": {
    "id": "QyDlBOL5fcIt"
   },
   "outputs": [
    {
     "data": {
      "text/html": [
       "<div>\n",
       "<style scoped>\n",
       "    .dataframe tbody tr th:only-of-type {\n",
       "        vertical-align: middle;\n",
       "    }\n",
       "\n",
       "    .dataframe tbody tr th {\n",
       "        vertical-align: top;\n",
       "    }\n",
       "\n",
       "    .dataframe thead th {\n",
       "        text-align: right;\n",
       "    }\n",
       "</style>\n",
       "<table border=\"1\" class=\"dataframe\">\n",
       "  <thead>\n",
       "    <tr style=\"text-align: right;\">\n",
       "      <th></th>\n",
       "      <th>Feature1</th>\n",
       "      <th>Feature2</th>\n",
       "    </tr>\n",
       "  </thead>\n",
       "  <tbody>\n",
       "    <tr>\n",
       "      <th>0</th>\n",
       "      <td>997</td>\n",
       "      <td>1000</td>\n",
       "    </tr>\n",
       "    <tr>\n",
       "      <th>1</th>\n",
       "      <td>998</td>\n",
       "      <td>999</td>\n",
       "    </tr>\n",
       "    <tr>\n",
       "      <th>2</th>\n",
       "      <td>999</td>\n",
       "      <td>998</td>\n",
       "    </tr>\n",
       "    <tr>\n",
       "      <th>3</th>\n",
       "      <td>1000</td>\n",
       "      <td>997</td>\n",
       "    </tr>\n",
       "    <tr>\n",
       "      <th>4</th>\n",
       "      <td>1001</td>\n",
       "      <td>996</td>\n",
       "    </tr>\n",
       "  </tbody>\n",
       "</table>\n",
       "</div>"
      ],
      "text/plain": [
       "   Feature1  Feature2\n",
       "0       997      1000\n",
       "1       998       999\n",
       "2       999       998\n",
       "3      1000       997\n",
       "4      1001       996"
      ]
     },
     "execution_count": 63,
     "metadata": {},
     "output_type": "execute_result"
    }
   ],
   "source": [
    "sample = pd.DataFrame(my_dict)\n",
    "sample"
   ]
  },
  {
   "cell_type": "code",
   "execution_count": 64,
   "metadata": {
    "id": "IrR2FqSBfcIu"
   },
   "outputs": [
    {
     "data": {
      "text/plain": [
       "array([[-0.00948799,  0.52980619],\n",
       "       [ 0.15312457,  0.35345977],\n",
       "       [ 0.31573713,  0.17711336],\n",
       "       [ 0.47834969,  0.00076694],\n",
       "       [ 0.64096225, -0.17557948]])"
      ]
     },
     "execution_count": 64,
     "metadata": {},
     "output_type": "execute_result"
    }
   ],
   "source": [
    "sample_scaled = scaler_fake_reg.transform(sample)\n",
    "sample_scaled"
   ]
  },
  {
   "cell_type": "code",
   "execution_count": 65,
   "metadata": {
    "id": "mZLDlHa1fcIu"
   },
   "outputs": [
    {
     "name": "stdout",
     "output_type": "stream",
     "text": [
      "1/1 [==============================] - 0s 24ms/step\n"
     ]
    },
    {
     "data": {
      "text/plain": [
       "array([[380.28137],\n",
       "       [331.86407],\n",
       "       [283.44672],\n",
       "       [235.02937],\n",
       "       [186.61203]], dtype=float32)"
      ]
     },
     "execution_count": 65,
     "metadata": {},
     "output_type": "execute_result"
    }
   ],
   "source": [
    "model_fake_reg.predict(sample_scaled)"
   ]
  }
 ],
 "metadata": {
  "colab": {
   "collapsed_sections": [],
   "name": "DL-S2 (Installing Tensorflow & Keras Syntext Basics-fake reg)-inclass-HV-NOTES.ipynb",
   "provenance": []
  },
  "kernelspec": {
   "display_name": "Python 3 (ipykernel)",
   "language": "python",
   "name": "python3"
  },
  "language_info": {
   "codemirror_mode": {
    "name": "ipython",
    "version": 3
   },
   "file_extension": ".py",
   "mimetype": "text/x-python",
   "name": "python",
   "nbconvert_exporter": "python",
   "pygments_lexer": "ipython3",
   "version": "3.9.7"
  }
 },
 "nbformat": 4,
 "nbformat_minor": 1
}
